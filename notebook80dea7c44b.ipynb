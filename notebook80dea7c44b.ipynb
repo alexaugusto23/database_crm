{
 "cells": [
  {
   "cell_type": "markdown",
   "id": "2f450ff0",
   "metadata": {
    "papermill": {
     "duration": 0.025306,
     "end_time": "2022-11-07T04:31:30.053155",
     "exception": false,
     "start_time": "2022-11-07T04:31:30.027849",
     "status": "completed"
    },
    "tags": []
   },
   "source": [
    "## Packages"
   ]
  },
  {
   "cell_type": "code",
   "execution_count": 1,
   "id": "a456b4b8",
   "metadata": {
    "execution": {
     "iopub.execute_input": "2022-11-07T04:31:30.099159Z",
     "iopub.status.busy": "2022-11-07T04:31:30.098225Z",
     "iopub.status.idle": "2022-11-07T04:31:31.363195Z",
     "shell.execute_reply": "2022-11-07T04:31:31.361880Z"
    },
    "papermill": {
     "duration": 1.291385,
     "end_time": "2022-11-07T04:31:31.366338",
     "exception": false,
     "start_time": "2022-11-07T04:31:30.074953",
     "status": "completed"
    },
    "tags": []
   },
   "outputs": [],
   "source": [
    "import os \n",
    "import pandas as pd \n",
    "import numpy as np\n",
    "import matplotlib.pyplot as plt\n",
    "%matplotlib inline\n",
    "import seaborn as sns"
   ]
  },
  {
   "cell_type": "markdown",
   "id": "95c72990",
   "metadata": {
    "papermill": {
     "duration": 0.020765,
     "end_time": "2022-11-07T04:31:31.408471",
     "exception": false,
     "start_time": "2022-11-07T04:31:31.387706",
     "status": "completed"
    },
    "tags": []
   },
   "source": [
    "## Paths"
   ]
  },
  {
   "cell_type": "code",
   "execution_count": 2,
   "id": "5a88d2dc",
   "metadata": {
    "execution": {
     "iopub.execute_input": "2022-11-07T04:31:31.453145Z",
     "iopub.status.busy": "2022-11-07T04:31:31.452707Z",
     "iopub.status.idle": "2022-11-07T04:31:31.466118Z",
     "shell.execute_reply": "2022-11-07T04:31:31.465163Z"
    },
    "papermill": {
     "duration": 0.039776,
     "end_time": "2022-11-07T04:31:31.469422",
     "exception": false,
     "start_time": "2022-11-07T04:31:31.429646",
     "status": "completed"
    },
    "tags": []
   },
   "outputs": [
    {
     "name": "stdout",
     "output_type": "stream",
     "text": [
      "/kaggle/input/database-crm/database_crm.xlsx\n"
     ]
    }
   ],
   "source": [
    "for dirname, _, filenames in os.walk('/kaggle/input'):\n",
    "    for filename in filenames:\n",
    "        print(os.path.join(dirname, filename))\n",
    "\n",
    "# You can write up to 20GB to the current directory (/kaggle/working/) that gets preserved as output when you create a version using \"Save & Run All\" \n",
    "# You can also write temporary files to /kaggle/temp/, but they won't be saved outside of the current session"
   ]
  },
  {
   "cell_type": "code",
   "execution_count": 3,
   "id": "ad6d6900",
   "metadata": {
    "execution": {
     "iopub.execute_input": "2022-11-07T04:31:31.516491Z",
     "iopub.status.busy": "2022-11-07T04:31:31.515786Z",
     "iopub.status.idle": "2022-11-07T04:31:31.524759Z",
     "shell.execute_reply": "2022-11-07T04:31:31.523879Z"
    },
    "papermill": {
     "duration": 0.033914,
     "end_time": "2022-11-07T04:31:31.526765",
     "exception": false,
     "start_time": "2022-11-07T04:31:31.492851",
     "status": "completed"
    },
    "tags": []
   },
   "outputs": [
    {
     "data": {
      "text/plain": [
       "'/kaggle/input/database-crm/database_crm.xlsx'"
      ]
     },
     "execution_count": 3,
     "metadata": {},
     "output_type": "execute_result"
    }
   ],
   "source": [
    "# _path = os.getcwd()\n",
    "# _file = 'Exercicio_Python_CRM.xlsx'\n",
    "_path_file = os.path.join(dirname, filename)\n",
    "_path_file\n"
   ]
  },
  {
   "cell_type": "markdown",
   "id": "8918f069",
   "metadata": {
    "papermill": {
     "duration": 0.021358,
     "end_time": "2022-11-07T04:31:31.569487",
     "exception": false,
     "start_time": "2022-11-07T04:31:31.548129",
     "status": "completed"
    },
    "tags": []
   },
   "source": [
    "## Leituras"
   ]
  },
  {
   "cell_type": "code",
   "execution_count": 4,
   "id": "d1c29f73",
   "metadata": {
    "execution": {
     "iopub.execute_input": "2022-11-07T04:31:31.616278Z",
     "iopub.status.busy": "2022-11-07T04:31:31.615444Z",
     "iopub.status.idle": "2022-11-07T04:31:33.190206Z",
     "shell.execute_reply": "2022-11-07T04:31:33.189104Z"
    },
    "papermill": {
     "duration": 1.601236,
     "end_time": "2022-11-07T04:31:33.193010",
     "exception": false,
     "start_time": "2022-11-07T04:31:31.591774",
     "status": "completed"
    },
    "tags": []
   },
   "outputs": [],
   "source": [
    "_df_transacoes = pd.read_excel(io=_path_file, sheet_name='Transações')\n",
    "_df_produto = pd.read_excel(io=_path_file, sheet_name='Produto')\n",
    "_df_lojas = pd.read_excel(io=_path_file, sheet_name='Lojas')\n",
    "_df_cliente = pd.read_excel(io=_path_file, sheet_name='Cliente')"
   ]
  },
  {
   "cell_type": "markdown",
   "id": "60efc465",
   "metadata": {
    "papermill": {
     "duration": 0.021062,
     "end_time": "2022-11-07T04:31:33.235493",
     "exception": false,
     "start_time": "2022-11-07T04:31:33.214431",
     "status": "completed"
    },
    "tags": []
   },
   "source": [
    "## Limpando dados."
   ]
  },
  {
   "cell_type": "code",
   "execution_count": 5,
   "id": "2ddc9291",
   "metadata": {
    "execution": {
     "iopub.execute_input": "2022-11-07T04:31:33.279783Z",
     "iopub.status.busy": "2022-11-07T04:31:33.279254Z",
     "iopub.status.idle": "2022-11-07T04:31:33.310540Z",
     "shell.execute_reply": "2022-11-07T04:31:33.308666Z"
    },
    "papermill": {
     "duration": 0.056601,
     "end_time": "2022-11-07T04:31:33.313359",
     "exception": false,
     "start_time": "2022-11-07T04:31:33.256758",
     "status": "completed"
    },
    "tags": []
   },
   "outputs": [
    {
     "name": "stdout",
     "output_type": "stream",
     "text": [
      "   id_trans       data  id_loja  id_produto  id_cliente  unidadesvendidas  \\\n",
      "0         1 2022-01-01        7      123005       90023                 2   \n",
      "1         2 2022-01-01        9      123004       90092                 1   \n",
      "\n",
      "   valortotal  promo  \n",
      "0       99.98    0.0  \n",
      "1       35.99    0.0  \n",
      "id_trans                     int64\n",
      "data                datetime64[ns]\n",
      "id_loja                      int64\n",
      "id_produto                   int64\n",
      "id_cliente                   int64\n",
      "unidadesvendidas             int64\n",
      "valortotal                 float64\n",
      "promo                      float64\n",
      "dtype: object\n",
      "   id_produto        descrição produto categoria    cor   marca\n",
      "0      123000  Bottom Azul Marca AlfaX    Bottom   Azul   AlfaX\n",
      "1      123001   Top Cinza Marca GammaZ       Top  Cinza  GammaZ\n",
      "id_produto            int64\n",
      "descrição produto    object\n",
      "categoria            object\n",
      "cor                  object\n",
      "marca                object\n",
      "dtype: object\n",
      "   id_loja  uf        regiao\n",
      "0        1  AM         NORTE\n",
      "1        2  MG  CENTRO-OESTE\n",
      "id_loja     int64\n",
      "uf         object\n",
      "regiao     object\n",
      "dtype: object\n",
      "   customerid    genero faixaidade classesocial\n",
      "0       90000  Feminino      35-45            C\n",
      "1       90001  Feminino        45+            D\n",
      "customerid       int64\n",
      "genero          object\n",
      "faixaidade      object\n",
      "classesocial    object\n",
      "dtype: object\n"
     ]
    }
   ],
   "source": [
    "lista_variables = [_df_transacoes, _df_produto, _df_lojas, _df_cliente]\n",
    "name_variables = ['_df_transacoes', '_df_produto', '_df_lojas', '_df_cliente']\n",
    "\n",
    "for i in range(0, len(lista_variables) ):\n",
    "    _cols = [col.strip().lower() for col in lista_variables[i].columns]\n",
    "    lista_variables[i].columns = _cols\n",
    "    lista_variables[i].name = name_variables[i]\n",
    "    print(f\"{lista_variables[i].head(2)}\")\n",
    "    print(f\"{lista_variables[i].dtypes}\")"
   ]
  },
  {
   "cell_type": "code",
   "execution_count": 6,
   "id": "d2a6a3d7",
   "metadata": {
    "execution": {
     "iopub.execute_input": "2022-11-07T04:31:33.359440Z",
     "iopub.status.busy": "2022-11-07T04:31:33.359039Z",
     "iopub.status.idle": "2022-11-07T04:31:33.367018Z",
     "shell.execute_reply": "2022-11-07T04:31:33.365657Z"
    },
    "papermill": {
     "duration": 0.03401,
     "end_time": "2022-11-07T04:31:33.369403",
     "exception": false,
     "start_time": "2022-11-07T04:31:33.335393",
     "status": "completed"
    },
    "tags": []
   },
   "outputs": [
    {
     "name": "stdout",
     "output_type": "stream",
     "text": [
      "['id_trans', 'id_loja', 'id_produto', 'id_cliente']\n",
      "\n",
      "['id_produto']\n",
      "\n",
      "['id_loja']\n",
      "\n",
      "['customerid']\n"
     ]
    }
   ],
   "source": [
    "_cols_id_transacoes = [x for x in _df_transacoes.columns if x.startswith('id')]\n",
    "_cols_id_produto = [x for x in _df_produto.columns if x.startswith('id')]\n",
    "_cols_id_lojas = [x for x in _df_lojas.columns if x.startswith('id')]\n",
    "_cols_id_cliente = [x for x in _df_cliente.columns if x.startswith('id') ]\n",
    "_cols_id_cliente = [x for x in _df_cliente.columns if x.endswith('id') ]\n",
    "\n",
    "print(f\"{_cols_id_transacoes}\\n\\n{_cols_id_produto}\\n\\n{_cols_id_lojas}\\n\\n{_cols_id_cliente}\")\n"
   ]
  },
  {
   "cell_type": "code",
   "execution_count": 7,
   "id": "48dfc8bb",
   "metadata": {
    "execution": {
     "iopub.execute_input": "2022-11-07T04:31:33.413977Z",
     "iopub.status.busy": "2022-11-07T04:31:33.413484Z",
     "iopub.status.idle": "2022-11-07T04:31:33.562282Z",
     "shell.execute_reply": "2022-11-07T04:31:33.559951Z"
    },
    "papermill": {
     "duration": 0.176206,
     "end_time": "2022-11-07T04:31:33.566919",
     "exception": false,
     "start_time": "2022-11-07T04:31:33.390713",
     "status": "completed"
    },
    "tags": []
   },
   "outputs": [
    {
     "name": "stdout",
     "output_type": "stream",
     "text": [
      "_df_transacoes\n",
      "\n",
      "id_trans                    object\n",
      "data                datetime64[ns]\n",
      "id_loja                     object\n",
      "id_produto                  object\n",
      "id_cliente                  object\n",
      "unidadesvendidas             int64\n",
      "valortotal                 float64\n",
      "promo                      float64\n",
      "dtype: object\n",
      "\n",
      "<class 'pandas.core.frame.DataFrame'>\n",
      "RangeIndex: 7791 entries, 0 to 7790\n",
      "Data columns (total 8 columns):\n",
      " #   Column            Non-Null Count  Dtype         \n",
      "---  ------            --------------  -----         \n",
      " 0   id_trans          7791 non-null   object        \n",
      " 1   data              7791 non-null   datetime64[ns]\n",
      " 2   id_loja           7791 non-null   object        \n",
      " 3   id_produto        7791 non-null   object        \n",
      " 4   id_cliente        7791 non-null   object        \n",
      " 5   unidadesvendidas  7791 non-null   int64         \n",
      " 6   valortotal        7791 non-null   float64       \n",
      " 7   promo             7775 non-null   float64       \n",
      "dtypes: datetime64[ns](1), float64(2), int64(1), object(4)\n",
      "memory usage: 487.1+ KB\n",
      "None\n",
      "\n",
      "       unidadesvendidas   valortotal        promo\n",
      "count       7791.000000  7791.000000  7775.000000\n",
      "mean           2.302657   114.133276     0.074212\n",
      "std            0.892296    72.627427     0.262133\n",
      "min            1.000000    16.990000     0.000000\n",
      "25%            2.000000    55.990000     0.000000\n",
      "50%            2.000000    89.990000     0.000000\n",
      "75%            3.000000   161.973000     0.000000\n",
      "max            4.000000   367.960000     1.000000\n",
      "\n",
      "_df_produto\n",
      "\n",
      "id_produto           object\n",
      "descrição produto    object\n",
      "categoria            object\n",
      "cor                  object\n",
      "marca                object\n",
      "dtype: object\n",
      "\n",
      "<class 'pandas.core.frame.DataFrame'>\n",
      "RangeIndex: 12 entries, 0 to 11\n",
      "Data columns (total 5 columns):\n",
      " #   Column             Non-Null Count  Dtype \n",
      "---  ------             --------------  ----- \n",
      " 0   id_produto         12 non-null     object\n",
      " 1   descrição produto  12 non-null     object\n",
      " 2   categoria          12 non-null     object\n",
      " 3   cor                12 non-null     object\n",
      " 4   marca              12 non-null     object\n",
      "dtypes: object(5)\n",
      "memory usage: 608.0+ bytes\n",
      "None\n",
      "\n",
      "       id_produto descrição produto categoria       cor  marca\n",
      "count          12                12        12        12     12\n",
      "unique         12                11         2         4      3\n",
      "top        123000  Top Marca GammaZ       Top  Vermelho  AlfaX\n",
      "freq            1                 2         7         4      4\n",
      "\n",
      "_df_lojas\n",
      "\n",
      "id_loja    object\n",
      "uf         object\n",
      "regiao     object\n",
      "dtype: object\n",
      "\n",
      "<class 'pandas.core.frame.DataFrame'>\n",
      "RangeIndex: 10 entries, 0 to 9\n",
      "Data columns (total 3 columns):\n",
      " #   Column   Non-Null Count  Dtype \n",
      "---  ------   --------------  ----- \n",
      " 0   id_loja  10 non-null     object\n",
      " 1   uf       10 non-null     object\n",
      " 2   regiao   8 non-null      object\n",
      "dtypes: object(3)\n",
      "memory usage: 368.0+ bytes\n",
      "None\n",
      "\n",
      "       id_loja  uf   regiao\n",
      "count       10  10        8\n",
      "unique      10   5        5\n",
      "top          1  SP  SUDESTE\n",
      "freq         1   4        3\n",
      "\n",
      "_df_cliente\n",
      "\n",
      "customerid      object\n",
      "genero          object\n",
      "faixaidade      object\n",
      "classesocial    object\n",
      "dtype: object\n",
      "\n",
      "<class 'pandas.core.frame.DataFrame'>\n",
      "RangeIndex: 100 entries, 0 to 99\n",
      "Data columns (total 4 columns):\n",
      " #   Column        Non-Null Count  Dtype \n",
      "---  ------        --------------  ----- \n",
      " 0   customerid    100 non-null    object\n",
      " 1   genero        93 non-null     object\n",
      " 2   faixaidade    100 non-null    object\n",
      " 3   classesocial  100 non-null    object\n",
      "dtypes: object(4)\n",
      "memory usage: 3.2+ KB\n",
      "None\n",
      "\n",
      "       customerid    genero faixaidade classesocial\n",
      "count         100        93        100          100\n",
      "unique        100         2          4            5\n",
      "top         90000  Feminino      25-35            C\n",
      "freq            1        64         50           52\n",
      "\n"
     ]
    }
   ],
   "source": [
    "for x in _cols_id_transacoes:\n",
    "    _df_transacoes[x] = _df_transacoes[x].astype(str)\n",
    "\n",
    "for x in _cols_id_produto:\n",
    "    _df_produto[x] = _df_produto[x].astype(str)\n",
    "\n",
    "for x in _cols_id_lojas:\n",
    "    _df_lojas[x] = _df_lojas[x].astype(str)\n",
    "\n",
    "for x in _cols_id_cliente:\n",
    "    _df_cliente[x] = _df_cliente[x].astype(str)\n",
    "\n",
    "\n",
    "for df in lista_variables:\n",
    "    for col in df.columns:\n",
    "        if df[col].dtypes == object:\n",
    "            # print(f\"Passei por aqui: {col} {df[col].dtypes}\")\n",
    "            df[col] = df[col].str.strip()\n",
    "\n",
    "\n",
    "    print(f\"{df.name}\\n\")\n",
    "    print(f\"{df.dtypes}\\n\")\n",
    "    print(f\"{df.info()}\\n\")\n",
    "    print(f\"{df.describe()}\\n\")\n"
   ]
  },
  {
   "cell_type": "code",
   "execution_count": 8,
   "id": "31ef48a0",
   "metadata": {
    "execution": {
     "iopub.execute_input": "2022-11-07T04:31:33.612764Z",
     "iopub.status.busy": "2022-11-07T04:31:33.612129Z",
     "iopub.status.idle": "2022-11-07T04:31:33.676357Z",
     "shell.execute_reply": "2022-11-07T04:31:33.674930Z"
    },
    "papermill": {
     "duration": 0.090076,
     "end_time": "2022-11-07T04:31:33.679049",
     "exception": false,
     "start_time": "2022-11-07T04:31:33.588973",
     "status": "completed"
    },
    "tags": []
   },
   "outputs": [
    {
     "data": {
      "text/html": [
       "<div>\n",
       "<style scoped>\n",
       "    .dataframe tbody tr th:only-of-type {\n",
       "        vertical-align: middle;\n",
       "    }\n",
       "\n",
       "    .dataframe tbody tr th {\n",
       "        vertical-align: top;\n",
       "    }\n",
       "\n",
       "    .dataframe thead th {\n",
       "        text-align: right;\n",
       "    }\n",
       "</style>\n",
       "<table border=\"1\" class=\"dataframe\">\n",
       "  <thead>\n",
       "    <tr style=\"text-align: right;\">\n",
       "      <th></th>\n",
       "      <th>id_trans</th>\n",
       "      <th>data</th>\n",
       "      <th>id_loja</th>\n",
       "      <th>id_produto</th>\n",
       "      <th>id_cliente</th>\n",
       "      <th>unidadesvendidas</th>\n",
       "      <th>valortotal</th>\n",
       "      <th>promo</th>\n",
       "    </tr>\n",
       "  </thead>\n",
       "  <tbody>\n",
       "    <tr>\n",
       "      <th>0</th>\n",
       "      <td>1</td>\n",
       "      <td>2022-01-01</td>\n",
       "      <td>7</td>\n",
       "      <td>123005</td>\n",
       "      <td>90023</td>\n",
       "      <td>2</td>\n",
       "      <td>99.98</td>\n",
       "      <td>0.0</td>\n",
       "    </tr>\n",
       "    <tr>\n",
       "      <th>1</th>\n",
       "      <td>2</td>\n",
       "      <td>2022-01-01</td>\n",
       "      <td>9</td>\n",
       "      <td>123004</td>\n",
       "      <td>90092</td>\n",
       "      <td>1</td>\n",
       "      <td>35.99</td>\n",
       "      <td>0.0</td>\n",
       "    </tr>\n",
       "    <tr>\n",
       "      <th>2</th>\n",
       "      <td>3</td>\n",
       "      <td>2022-01-01</td>\n",
       "      <td>1</td>\n",
       "      <td>123001</td>\n",
       "      <td>90027</td>\n",
       "      <td>2</td>\n",
       "      <td>51.98</td>\n",
       "      <td>0.0</td>\n",
       "    </tr>\n",
       "    <tr>\n",
       "      <th>3</th>\n",
       "      <td>4</td>\n",
       "      <td>2022-01-01</td>\n",
       "      <td>3</td>\n",
       "      <td>123001</td>\n",
       "      <td>90097</td>\n",
       "      <td>2</td>\n",
       "      <td>51.98</td>\n",
       "      <td>0.0</td>\n",
       "    </tr>\n",
       "    <tr>\n",
       "      <th>4</th>\n",
       "      <td>5</td>\n",
       "      <td>2022-01-01</td>\n",
       "      <td>4</td>\n",
       "      <td>123004</td>\n",
       "      <td>90089</td>\n",
       "      <td>2</td>\n",
       "      <td>71.98</td>\n",
       "      <td>0.0</td>\n",
       "    </tr>\n",
       "    <tr>\n",
       "      <th>...</th>\n",
       "      <td>...</td>\n",
       "      <td>...</td>\n",
       "      <td>...</td>\n",
       "      <td>...</td>\n",
       "      <td>...</td>\n",
       "      <td>...</td>\n",
       "      <td>...</td>\n",
       "      <td>...</td>\n",
       "    </tr>\n",
       "    <tr>\n",
       "      <th>7786</th>\n",
       "      <td>7787</td>\n",
       "      <td>2023-09-30</td>\n",
       "      <td>6</td>\n",
       "      <td>123002</td>\n",
       "      <td>90040</td>\n",
       "      <td>1</td>\n",
       "      <td>27.99</td>\n",
       "      <td>0.0</td>\n",
       "    </tr>\n",
       "    <tr>\n",
       "      <th>7787</th>\n",
       "      <td>7788</td>\n",
       "      <td>2023-09-30</td>\n",
       "      <td>8</td>\n",
       "      <td>123009</td>\n",
       "      <td>90027</td>\n",
       "      <td>2</td>\n",
       "      <td>179.98</td>\n",
       "      <td>0.0</td>\n",
       "    </tr>\n",
       "    <tr>\n",
       "      <th>7788</th>\n",
       "      <td>7789</td>\n",
       "      <td>2023-09-30</td>\n",
       "      <td>2</td>\n",
       "      <td>123006</td>\n",
       "      <td>90033</td>\n",
       "      <td>2</td>\n",
       "      <td>109.98</td>\n",
       "      <td>0.0</td>\n",
       "    </tr>\n",
       "    <tr>\n",
       "      <th>7789</th>\n",
       "      <td>7790</td>\n",
       "      <td>2023-09-30</td>\n",
       "      <td>7</td>\n",
       "      <td>123010</td>\n",
       "      <td>90038</td>\n",
       "      <td>2</td>\n",
       "      <td>179.98</td>\n",
       "      <td>0.0</td>\n",
       "    </tr>\n",
       "    <tr>\n",
       "      <th>7790</th>\n",
       "      <td>7791</td>\n",
       "      <td>2023-09-30</td>\n",
       "      <td>8</td>\n",
       "      <td>123008</td>\n",
       "      <td>90037</td>\n",
       "      <td>2</td>\n",
       "      <td>159.98</td>\n",
       "      <td>0.0</td>\n",
       "    </tr>\n",
       "  </tbody>\n",
       "</table>\n",
       "<p>7791 rows × 8 columns</p>\n",
       "</div>"
      ],
      "text/plain": [
       "     id_trans       data id_loja id_produto id_cliente  unidadesvendidas  \\\n",
       "0           1 2022-01-01       7     123005      90023                 2   \n",
       "1           2 2022-01-01       9     123004      90092                 1   \n",
       "2           3 2022-01-01       1     123001      90027                 2   \n",
       "3           4 2022-01-01       3     123001      90097                 2   \n",
       "4           5 2022-01-01       4     123004      90089                 2   \n",
       "...       ...        ...     ...        ...        ...               ...   \n",
       "7786     7787 2023-09-30       6     123002      90040                 1   \n",
       "7787     7788 2023-09-30       8     123009      90027                 2   \n",
       "7788     7789 2023-09-30       2     123006      90033                 2   \n",
       "7789     7790 2023-09-30       7     123010      90038                 2   \n",
       "7790     7791 2023-09-30       8     123008      90037                 2   \n",
       "\n",
       "      valortotal  promo  \n",
       "0          99.98    0.0  \n",
       "1          35.99    0.0  \n",
       "2          51.98    0.0  \n",
       "3          51.98    0.0  \n",
       "4          71.98    0.0  \n",
       "...          ...    ...  \n",
       "7786       27.99    0.0  \n",
       "7787      179.98    0.0  \n",
       "7788      109.98    0.0  \n",
       "7789      179.98    0.0  \n",
       "7790      159.98    0.0  \n",
       "\n",
       "[7791 rows x 8 columns]"
      ]
     },
     "execution_count": 8,
     "metadata": {},
     "output_type": "execute_result"
    }
   ],
   "source": [
    "_df_transacoes.fillna(0)"
   ]
  },
  {
   "cell_type": "markdown",
   "id": "b1b79f3a",
   "metadata": {
    "papermill": {
     "duration": 0.021365,
     "end_time": "2022-11-07T04:31:33.723210",
     "exception": false,
     "start_time": "2022-11-07T04:31:33.701845",
     "status": "completed"
    },
    "tags": []
   },
   "source": [
    "## Na tabela de transações temos 16 valores faltantes na coluna promoção e valores duplicados."
   ]
  },
  {
   "cell_type": "markdown",
   "id": "412bc894",
   "metadata": {
    "papermill": {
     "duration": 0.021877,
     "end_time": "2022-11-07T04:31:33.768397",
     "exception": false,
     "start_time": "2022-11-07T04:31:33.746520",
     "status": "completed"
    },
    "tags": []
   },
   "source": [
    "iremos considerar 0 para os valores faltantes neste dataframe asumindo que não houve promoção para estes casos."
   ]
  },
  {
   "cell_type": "code",
   "execution_count": 9,
   "id": "7c033f5d",
   "metadata": {
    "execution": {
     "iopub.execute_input": "2022-11-07T04:31:33.816006Z",
     "iopub.status.busy": "2022-11-07T04:31:33.814666Z",
     "iopub.status.idle": "2022-11-07T04:31:33.822478Z",
     "shell.execute_reply": "2022-11-07T04:31:33.821147Z"
    },
    "papermill": {
     "duration": 0.034479,
     "end_time": "2022-11-07T04:31:33.825275",
     "exception": false,
     "start_time": "2022-11-07T04:31:33.790796",
     "status": "completed"
    },
    "tags": []
   },
   "outputs": [],
   "source": [
    "_df_transacoes = _df_transacoes.rename({'unidadesvendidas':'unidades_vendidas', 'valortotal':'valor_total'}, axis=1)"
   ]
  },
  {
   "cell_type": "code",
   "execution_count": 10,
   "id": "69f34171",
   "metadata": {
    "execution": {
     "iopub.execute_input": "2022-11-07T04:31:33.872590Z",
     "iopub.status.busy": "2022-11-07T04:31:33.872003Z",
     "iopub.status.idle": "2022-11-07T04:31:33.879732Z",
     "shell.execute_reply": "2022-11-07T04:31:33.878203Z"
    },
    "papermill": {
     "duration": 0.034327,
     "end_time": "2022-11-07T04:31:33.882411",
     "exception": false,
     "start_time": "2022-11-07T04:31:33.848084",
     "status": "completed"
    },
    "tags": []
   },
   "outputs": [],
   "source": [
    "_df_transacoes['promo'] = _df_transacoes['promo'].fillna(0)"
   ]
  },
  {
   "cell_type": "code",
   "execution_count": 11,
   "id": "8895a9df",
   "metadata": {
    "execution": {
     "iopub.execute_input": "2022-11-07T04:31:33.929533Z",
     "iopub.status.busy": "2022-11-07T04:31:33.929101Z",
     "iopub.status.idle": "2022-11-07T04:31:33.963388Z",
     "shell.execute_reply": "2022-11-07T04:31:33.962174Z"
    },
    "papermill": {
     "duration": 0.061713,
     "end_time": "2022-11-07T04:31:33.966225",
     "exception": false,
     "start_time": "2022-11-07T04:31:33.904512",
     "status": "completed"
    },
    "tags": []
   },
   "outputs": [
    {
     "data": {
      "text/html": [
       "<div>\n",
       "<style scoped>\n",
       "    .dataframe tbody tr th:only-of-type {\n",
       "        vertical-align: middle;\n",
       "    }\n",
       "\n",
       "    .dataframe tbody tr th {\n",
       "        vertical-align: top;\n",
       "    }\n",
       "\n",
       "    .dataframe thead th {\n",
       "        text-align: right;\n",
       "    }\n",
       "</style>\n",
       "<table border=\"1\" class=\"dataframe\">\n",
       "  <thead>\n",
       "    <tr style=\"text-align: right;\">\n",
       "      <th></th>\n",
       "      <th>id_trans</th>\n",
       "      <th>data</th>\n",
       "      <th>id_loja</th>\n",
       "      <th>id_produto</th>\n",
       "      <th>id_cliente</th>\n",
       "      <th>unidades_vendidas</th>\n",
       "      <th>valor_total</th>\n",
       "      <th>promo</th>\n",
       "    </tr>\n",
       "  </thead>\n",
       "  <tbody>\n",
       "    <tr>\n",
       "      <th>0</th>\n",
       "      <td>1</td>\n",
       "      <td>2022-01-01</td>\n",
       "      <td>7</td>\n",
       "      <td>123005</td>\n",
       "      <td>90023</td>\n",
       "      <td>2</td>\n",
       "      <td>99.98</td>\n",
       "      <td>0.0</td>\n",
       "    </tr>\n",
       "    <tr>\n",
       "      <th>1</th>\n",
       "      <td>2</td>\n",
       "      <td>2022-01-01</td>\n",
       "      <td>9</td>\n",
       "      <td>123004</td>\n",
       "      <td>90092</td>\n",
       "      <td>1</td>\n",
       "      <td>35.99</td>\n",
       "      <td>0.0</td>\n",
       "    </tr>\n",
       "    <tr>\n",
       "      <th>2</th>\n",
       "      <td>3</td>\n",
       "      <td>2022-01-01</td>\n",
       "      <td>1</td>\n",
       "      <td>123001</td>\n",
       "      <td>90027</td>\n",
       "      <td>2</td>\n",
       "      <td>51.98</td>\n",
       "      <td>0.0</td>\n",
       "    </tr>\n",
       "    <tr>\n",
       "      <th>3</th>\n",
       "      <td>4</td>\n",
       "      <td>2022-01-01</td>\n",
       "      <td>3</td>\n",
       "      <td>123001</td>\n",
       "      <td>90097</td>\n",
       "      <td>2</td>\n",
       "      <td>51.98</td>\n",
       "      <td>0.0</td>\n",
       "    </tr>\n",
       "    <tr>\n",
       "      <th>4</th>\n",
       "      <td>5</td>\n",
       "      <td>2022-01-01</td>\n",
       "      <td>4</td>\n",
       "      <td>123004</td>\n",
       "      <td>90089</td>\n",
       "      <td>2</td>\n",
       "      <td>71.98</td>\n",
       "      <td>0.0</td>\n",
       "    </tr>\n",
       "    <tr>\n",
       "      <th>...</th>\n",
       "      <td>...</td>\n",
       "      <td>...</td>\n",
       "      <td>...</td>\n",
       "      <td>...</td>\n",
       "      <td>...</td>\n",
       "      <td>...</td>\n",
       "      <td>...</td>\n",
       "      <td>...</td>\n",
       "    </tr>\n",
       "    <tr>\n",
       "      <th>7786</th>\n",
       "      <td>7787</td>\n",
       "      <td>2023-09-30</td>\n",
       "      <td>6</td>\n",
       "      <td>123002</td>\n",
       "      <td>90040</td>\n",
       "      <td>1</td>\n",
       "      <td>27.99</td>\n",
       "      <td>0.0</td>\n",
       "    </tr>\n",
       "    <tr>\n",
       "      <th>7787</th>\n",
       "      <td>7788</td>\n",
       "      <td>2023-09-30</td>\n",
       "      <td>8</td>\n",
       "      <td>123009</td>\n",
       "      <td>90027</td>\n",
       "      <td>2</td>\n",
       "      <td>179.98</td>\n",
       "      <td>0.0</td>\n",
       "    </tr>\n",
       "    <tr>\n",
       "      <th>7788</th>\n",
       "      <td>7789</td>\n",
       "      <td>2023-09-30</td>\n",
       "      <td>2</td>\n",
       "      <td>123006</td>\n",
       "      <td>90033</td>\n",
       "      <td>2</td>\n",
       "      <td>109.98</td>\n",
       "      <td>0.0</td>\n",
       "    </tr>\n",
       "    <tr>\n",
       "      <th>7789</th>\n",
       "      <td>7790</td>\n",
       "      <td>2023-09-30</td>\n",
       "      <td>7</td>\n",
       "      <td>123010</td>\n",
       "      <td>90038</td>\n",
       "      <td>2</td>\n",
       "      <td>179.98</td>\n",
       "      <td>0.0</td>\n",
       "    </tr>\n",
       "    <tr>\n",
       "      <th>7790</th>\n",
       "      <td>7791</td>\n",
       "      <td>2023-09-30</td>\n",
       "      <td>8</td>\n",
       "      <td>123008</td>\n",
       "      <td>90037</td>\n",
       "      <td>2</td>\n",
       "      <td>159.98</td>\n",
       "      <td>0.0</td>\n",
       "    </tr>\n",
       "  </tbody>\n",
       "</table>\n",
       "<p>7791 rows × 8 columns</p>\n",
       "</div>"
      ],
      "text/plain": [
       "     id_trans       data id_loja id_produto id_cliente  unidades_vendidas  \\\n",
       "0           1 2022-01-01       7     123005      90023                  2   \n",
       "1           2 2022-01-01       9     123004      90092                  1   \n",
       "2           3 2022-01-01       1     123001      90027                  2   \n",
       "3           4 2022-01-01       3     123001      90097                  2   \n",
       "4           5 2022-01-01       4     123004      90089                  2   \n",
       "...       ...        ...     ...        ...        ...                ...   \n",
       "7786     7787 2023-09-30       6     123002      90040                  1   \n",
       "7787     7788 2023-09-30       8     123009      90027                  2   \n",
       "7788     7789 2023-09-30       2     123006      90033                  2   \n",
       "7789     7790 2023-09-30       7     123010      90038                  2   \n",
       "7790     7791 2023-09-30       8     123008      90037                  2   \n",
       "\n",
       "      valor_total  promo  \n",
       "0           99.98    0.0  \n",
       "1           35.99    0.0  \n",
       "2           51.98    0.0  \n",
       "3           51.98    0.0  \n",
       "4           71.98    0.0  \n",
       "...           ...    ...  \n",
       "7786        27.99    0.0  \n",
       "7787       179.98    0.0  \n",
       "7788       109.98    0.0  \n",
       "7789       179.98    0.0  \n",
       "7790       159.98    0.0  \n",
       "\n",
       "[7791 rows x 8 columns]"
      ]
     },
     "execution_count": 11,
     "metadata": {},
     "output_type": "execute_result"
    }
   ],
   "source": [
    "_df_transacoes.drop_duplicates()"
   ]
  },
  {
   "cell_type": "code",
   "execution_count": 12,
   "id": "d1cc60fb",
   "metadata": {
    "execution": {
     "iopub.execute_input": "2022-11-07T04:31:34.014736Z",
     "iopub.status.busy": "2022-11-07T04:31:34.013992Z",
     "iopub.status.idle": "2022-11-07T04:31:34.029471Z",
     "shell.execute_reply": "2022-11-07T04:31:34.028184Z"
    },
    "papermill": {
     "duration": 0.044139,
     "end_time": "2022-11-07T04:31:34.032770",
     "exception": false,
     "start_time": "2022-11-07T04:31:33.988631",
     "status": "completed"
    },
    "tags": []
   },
   "outputs": [
    {
     "name": "stdout",
     "output_type": "stream",
     "text": [
      "<class 'pandas.core.frame.DataFrame'>\n",
      "RangeIndex: 7791 entries, 0 to 7790\n",
      "Data columns (total 8 columns):\n",
      " #   Column             Non-Null Count  Dtype         \n",
      "---  ------             --------------  -----         \n",
      " 0   id_trans           7791 non-null   object        \n",
      " 1   data               7791 non-null   datetime64[ns]\n",
      " 2   id_loja            7791 non-null   object        \n",
      " 3   id_produto         7791 non-null   object        \n",
      " 4   id_cliente         7791 non-null   object        \n",
      " 5   unidades_vendidas  7791 non-null   int64         \n",
      " 6   valor_total        7791 non-null   float64       \n",
      " 7   promo              7791 non-null   float64       \n",
      "dtypes: datetime64[ns](1), float64(2), int64(1), object(4)\n",
      "memory usage: 487.1+ KB\n"
     ]
    }
   ],
   "source": [
    "_df_transacoes.info()"
   ]
  },
  {
   "cell_type": "code",
   "execution_count": 13,
   "id": "18e3b87a",
   "metadata": {
    "execution": {
     "iopub.execute_input": "2022-11-07T04:31:34.084416Z",
     "iopub.status.busy": "2022-11-07T04:31:34.083720Z",
     "iopub.status.idle": "2022-11-07T04:31:34.089375Z",
     "shell.execute_reply": "2022-11-07T04:31:34.088345Z"
    },
    "papermill": {
     "duration": 0.034092,
     "end_time": "2022-11-07T04:31:34.092051",
     "exception": false,
     "start_time": "2022-11-07T04:31:34.057959",
     "status": "completed"
    },
    "tags": []
   },
   "outputs": [],
   "source": [
    "_df_produto = _df_produto.rename({'descrição produto':'descrição_produto', }, axis=1)"
   ]
  },
  {
   "cell_type": "code",
   "execution_count": 14,
   "id": "c6ea008e",
   "metadata": {
    "execution": {
     "iopub.execute_input": "2022-11-07T04:31:34.143111Z",
     "iopub.status.busy": "2022-11-07T04:31:34.142033Z",
     "iopub.status.idle": "2022-11-07T04:31:34.158844Z",
     "shell.execute_reply": "2022-11-07T04:31:34.157259Z"
    },
    "papermill": {
     "duration": 0.044938,
     "end_time": "2022-11-07T04:31:34.161361",
     "exception": false,
     "start_time": "2022-11-07T04:31:34.116423",
     "status": "completed"
    },
    "tags": []
   },
   "outputs": [
    {
     "data": {
      "text/html": [
       "<div>\n",
       "<style scoped>\n",
       "    .dataframe tbody tr th:only-of-type {\n",
       "        vertical-align: middle;\n",
       "    }\n",
       "\n",
       "    .dataframe tbody tr th {\n",
       "        vertical-align: top;\n",
       "    }\n",
       "\n",
       "    .dataframe thead th {\n",
       "        text-align: right;\n",
       "    }\n",
       "</style>\n",
       "<table border=\"1\" class=\"dataframe\">\n",
       "  <thead>\n",
       "    <tr style=\"text-align: right;\">\n",
       "      <th></th>\n",
       "      <th>id_produto</th>\n",
       "      <th>descrição_produto</th>\n",
       "      <th>categoria</th>\n",
       "      <th>cor</th>\n",
       "      <th>marca</th>\n",
       "    </tr>\n",
       "  </thead>\n",
       "  <tbody>\n",
       "    <tr>\n",
       "      <th>0</th>\n",
       "      <td>123000</td>\n",
       "      <td>Bottom Azul Marca AlfaX</td>\n",
       "      <td>Bottom</td>\n",
       "      <td>Azul</td>\n",
       "      <td>AlfaX</td>\n",
       "    </tr>\n",
       "    <tr>\n",
       "      <th>1</th>\n",
       "      <td>123001</td>\n",
       "      <td>Top Cinza Marca GammaZ</td>\n",
       "      <td>Top</td>\n",
       "      <td>Cinza</td>\n",
       "      <td>GammaZ</td>\n",
       "    </tr>\n",
       "    <tr>\n",
       "      <th>2</th>\n",
       "      <td>123002</td>\n",
       "      <td>Bottom Preto Marca BetaY</td>\n",
       "      <td>Bottom</td>\n",
       "      <td>Preto</td>\n",
       "      <td>BetaY</td>\n",
       "    </tr>\n",
       "    <tr>\n",
       "      <th>3</th>\n",
       "      <td>123003</td>\n",
       "      <td>Top Marca BetaY</td>\n",
       "      <td>Top</td>\n",
       "      <td>Vermelho</td>\n",
       "      <td>BetaY</td>\n",
       "    </tr>\n",
       "    <tr>\n",
       "      <th>4</th>\n",
       "      <td>123004</td>\n",
       "      <td>Top Cinza Marca BetaY</td>\n",
       "      <td>Top</td>\n",
       "      <td>Cinza</td>\n",
       "      <td>BetaY</td>\n",
       "    </tr>\n",
       "    <tr>\n",
       "      <th>5</th>\n",
       "      <td>123005</td>\n",
       "      <td>Top Cinza Marca AlfaX</td>\n",
       "      <td>Top</td>\n",
       "      <td>Cinza</td>\n",
       "      <td>AlfaX</td>\n",
       "    </tr>\n",
       "    <tr>\n",
       "      <th>6</th>\n",
       "      <td>123006</td>\n",
       "      <td>Bottom Preto Marca AlfaX</td>\n",
       "      <td>Bottom</td>\n",
       "      <td>Preto</td>\n",
       "      <td>AlfaX</td>\n",
       "    </tr>\n",
       "    <tr>\n",
       "      <th>7</th>\n",
       "      <td>123007</td>\n",
       "      <td>Top Marca AlfaX</td>\n",
       "      <td>Top</td>\n",
       "      <td>Vermelho</td>\n",
       "      <td>AlfaX</td>\n",
       "    </tr>\n",
       "    <tr>\n",
       "      <th>8</th>\n",
       "      <td>123008</td>\n",
       "      <td>Top Marca GammaZ</td>\n",
       "      <td>Top</td>\n",
       "      <td>Vermelho</td>\n",
       "      <td>GammaZ</td>\n",
       "    </tr>\n",
       "    <tr>\n",
       "      <th>9</th>\n",
       "      <td>123009</td>\n",
       "      <td>Top Marca GammaZ</td>\n",
       "      <td>Top</td>\n",
       "      <td>Vermelho</td>\n",
       "      <td>GammaZ</td>\n",
       "    </tr>\n",
       "    <tr>\n",
       "      <th>10</th>\n",
       "      <td>123010</td>\n",
       "      <td>Bottom GammaZ</td>\n",
       "      <td>Bottom</td>\n",
       "      <td>Azul</td>\n",
       "      <td>GammaZ</td>\n",
       "    </tr>\n",
       "    <tr>\n",
       "      <th>11</th>\n",
       "      <td>123011</td>\n",
       "      <td>Bottom BetaY</td>\n",
       "      <td>Bottom</td>\n",
       "      <td>Azul</td>\n",
       "      <td>BetaY</td>\n",
       "    </tr>\n",
       "  </tbody>\n",
       "</table>\n",
       "</div>"
      ],
      "text/plain": [
       "   id_produto         descrição_produto categoria       cor   marca\n",
       "0      123000   Bottom Azul Marca AlfaX    Bottom      Azul   AlfaX\n",
       "1      123001    Top Cinza Marca GammaZ       Top     Cinza  GammaZ\n",
       "2      123002  Bottom Preto Marca BetaY    Bottom     Preto   BetaY\n",
       "3      123003           Top Marca BetaY       Top  Vermelho   BetaY\n",
       "4      123004     Top Cinza Marca BetaY       Top     Cinza   BetaY\n",
       "5      123005     Top Cinza Marca AlfaX       Top     Cinza   AlfaX\n",
       "6      123006  Bottom Preto Marca AlfaX    Bottom     Preto   AlfaX\n",
       "7      123007           Top Marca AlfaX       Top  Vermelho   AlfaX\n",
       "8      123008          Top Marca GammaZ       Top  Vermelho  GammaZ\n",
       "9      123009          Top Marca GammaZ       Top  Vermelho  GammaZ\n",
       "10     123010             Bottom GammaZ    Bottom      Azul  GammaZ\n",
       "11     123011              Bottom BetaY    Bottom      Azul   BetaY"
      ]
     },
     "execution_count": 14,
     "metadata": {},
     "output_type": "execute_result"
    }
   ],
   "source": [
    "_df_produto.drop_duplicates()"
   ]
  },
  {
   "cell_type": "code",
   "execution_count": 15,
   "id": "efca0f51",
   "metadata": {
    "execution": {
     "iopub.execute_input": "2022-11-07T04:31:34.209324Z",
     "iopub.status.busy": "2022-11-07T04:31:34.208584Z",
     "iopub.status.idle": "2022-11-07T04:31:34.220739Z",
     "shell.execute_reply": "2022-11-07T04:31:34.219155Z"
    },
    "papermill": {
     "duration": 0.039303,
     "end_time": "2022-11-07T04:31:34.223400",
     "exception": false,
     "start_time": "2022-11-07T04:31:34.184097",
     "status": "completed"
    },
    "tags": []
   },
   "outputs": [
    {
     "name": "stdout",
     "output_type": "stream",
     "text": [
      "<class 'pandas.core.frame.DataFrame'>\n",
      "RangeIndex: 12 entries, 0 to 11\n",
      "Data columns (total 5 columns):\n",
      " #   Column             Non-Null Count  Dtype \n",
      "---  ------             --------------  ----- \n",
      " 0   id_produto         12 non-null     object\n",
      " 1   descrição_produto  12 non-null     object\n",
      " 2   categoria          12 non-null     object\n",
      " 3   cor                12 non-null     object\n",
      " 4   marca              12 non-null     object\n",
      "dtypes: object(5)\n",
      "memory usage: 608.0+ bytes\n"
     ]
    }
   ],
   "source": [
    "_df_produto.info()"
   ]
  },
  {
   "cell_type": "markdown",
   "id": "e80aecd1",
   "metadata": {
    "papermill": {
     "duration": 0.023749,
     "end_time": "2022-11-07T04:31:34.270785",
     "exception": false,
     "start_time": "2022-11-07T04:31:34.247036",
     "status": "completed"
    },
    "tags": []
   },
   "source": [
    "Tratando valores faltantes da tabela lojas na coluna região"
   ]
  },
  {
   "cell_type": "code",
   "execution_count": 16,
   "id": "22cec7a6",
   "metadata": {
    "execution": {
     "iopub.execute_input": "2022-11-07T04:31:34.319739Z",
     "iopub.status.busy": "2022-11-07T04:31:34.318542Z",
     "iopub.status.idle": "2022-11-07T04:31:34.331723Z",
     "shell.execute_reply": "2022-11-07T04:31:34.330590Z"
    },
    "papermill": {
     "duration": 0.04033,
     "end_time": "2022-11-07T04:31:34.334337",
     "exception": false,
     "start_time": "2022-11-07T04:31:34.294007",
     "status": "completed"
    },
    "tags": []
   },
   "outputs": [
    {
     "data": {
      "text/html": [
       "<div>\n",
       "<style scoped>\n",
       "    .dataframe tbody tr th:only-of-type {\n",
       "        vertical-align: middle;\n",
       "    }\n",
       "\n",
       "    .dataframe tbody tr th {\n",
       "        vertical-align: top;\n",
       "    }\n",
       "\n",
       "    .dataframe thead th {\n",
       "        text-align: right;\n",
       "    }\n",
       "</style>\n",
       "<table border=\"1\" class=\"dataframe\">\n",
       "  <thead>\n",
       "    <tr style=\"text-align: right;\">\n",
       "      <th></th>\n",
       "      <th>id_loja</th>\n",
       "      <th>uf</th>\n",
       "      <th>regiao</th>\n",
       "    </tr>\n",
       "  </thead>\n",
       "  <tbody>\n",
       "    <tr>\n",
       "      <th>0</th>\n",
       "      <td>1</td>\n",
       "      <td>AM</td>\n",
       "      <td>NORTE</td>\n",
       "    </tr>\n",
       "    <tr>\n",
       "      <th>1</th>\n",
       "      <td>2</td>\n",
       "      <td>MG</td>\n",
       "      <td>CENTRO-OESTE</td>\n",
       "    </tr>\n",
       "    <tr>\n",
       "      <th>2</th>\n",
       "      <td>3</td>\n",
       "      <td>SP</td>\n",
       "      <td>SUDESTE</td>\n",
       "    </tr>\n",
       "    <tr>\n",
       "      <th>3</th>\n",
       "      <td>4</td>\n",
       "      <td>SP</td>\n",
       "      <td>NaN</td>\n",
       "    </tr>\n",
       "    <tr>\n",
       "      <th>4</th>\n",
       "      <td>5</td>\n",
       "      <td>SP</td>\n",
       "      <td>SUDESTE</td>\n",
       "    </tr>\n",
       "    <tr>\n",
       "      <th>5</th>\n",
       "      <td>6</td>\n",
       "      <td>SP</td>\n",
       "      <td>SUDESTE</td>\n",
       "    </tr>\n",
       "    <tr>\n",
       "      <th>6</th>\n",
       "      <td>7</td>\n",
       "      <td>RS</td>\n",
       "      <td>SUL</td>\n",
       "    </tr>\n",
       "    <tr>\n",
       "      <th>7</th>\n",
       "      <td>8</td>\n",
       "      <td>RS</td>\n",
       "      <td>SUL</td>\n",
       "    </tr>\n",
       "    <tr>\n",
       "      <th>8</th>\n",
       "      <td>9</td>\n",
       "      <td>BH</td>\n",
       "      <td>NORDESTE</td>\n",
       "    </tr>\n",
       "    <tr>\n",
       "      <th>9</th>\n",
       "      <td>10</td>\n",
       "      <td>BH</td>\n",
       "      <td>NaN</td>\n",
       "    </tr>\n",
       "  </tbody>\n",
       "</table>\n",
       "</div>"
      ],
      "text/plain": [
       "  id_loja  uf        regiao\n",
       "0       1  AM         NORTE\n",
       "1       2  MG  CENTRO-OESTE\n",
       "2       3  SP       SUDESTE\n",
       "3       4  SP           NaN\n",
       "4       5  SP       SUDESTE\n",
       "5       6  SP       SUDESTE\n",
       "6       7  RS           SUL\n",
       "7       8  RS           SUL\n",
       "8       9  BH      NORDESTE\n",
       "9      10  BH           NaN"
      ]
     },
     "execution_count": 16,
     "metadata": {},
     "output_type": "execute_result"
    }
   ],
   "source": [
    "_df_lojas"
   ]
  },
  {
   "cell_type": "code",
   "execution_count": 17,
   "id": "e4230870",
   "metadata": {
    "execution": {
     "iopub.execute_input": "2022-11-07T04:31:34.382520Z",
     "iopub.status.busy": "2022-11-07T04:31:34.381981Z",
     "iopub.status.idle": "2022-11-07T04:31:34.396305Z",
     "shell.execute_reply": "2022-11-07T04:31:34.395041Z"
    },
    "papermill": {
     "duration": 0.041478,
     "end_time": "2022-11-07T04:31:34.398642",
     "exception": false,
     "start_time": "2022-11-07T04:31:34.357164",
     "status": "completed"
    },
    "tags": []
   },
   "outputs": [
    {
     "data": {
      "text/html": [
       "<div>\n",
       "<style scoped>\n",
       "    .dataframe tbody tr th:only-of-type {\n",
       "        vertical-align: middle;\n",
       "    }\n",
       "\n",
       "    .dataframe tbody tr th {\n",
       "        vertical-align: top;\n",
       "    }\n",
       "\n",
       "    .dataframe thead th {\n",
       "        text-align: right;\n",
       "    }\n",
       "</style>\n",
       "<table border=\"1\" class=\"dataframe\">\n",
       "  <thead>\n",
       "    <tr style=\"text-align: right;\">\n",
       "      <th></th>\n",
       "      <th>id_loja</th>\n",
       "      <th>uf</th>\n",
       "      <th>regiao</th>\n",
       "    </tr>\n",
       "  </thead>\n",
       "  <tbody>\n",
       "    <tr>\n",
       "      <th>0</th>\n",
       "      <td>1</td>\n",
       "      <td>AM</td>\n",
       "      <td>NORTE</td>\n",
       "    </tr>\n",
       "    <tr>\n",
       "      <th>1</th>\n",
       "      <td>2</td>\n",
       "      <td>MG</td>\n",
       "      <td>CENTRO-OESTE</td>\n",
       "    </tr>\n",
       "    <tr>\n",
       "      <th>2</th>\n",
       "      <td>3</td>\n",
       "      <td>SP</td>\n",
       "      <td>SUDESTE</td>\n",
       "    </tr>\n",
       "    <tr>\n",
       "      <th>3</th>\n",
       "      <td>4</td>\n",
       "      <td>SP</td>\n",
       "      <td>SUDESTE</td>\n",
       "    </tr>\n",
       "    <tr>\n",
       "      <th>4</th>\n",
       "      <td>5</td>\n",
       "      <td>SP</td>\n",
       "      <td>SUDESTE</td>\n",
       "    </tr>\n",
       "    <tr>\n",
       "      <th>5</th>\n",
       "      <td>6</td>\n",
       "      <td>SP</td>\n",
       "      <td>SUDESTE</td>\n",
       "    </tr>\n",
       "    <tr>\n",
       "      <th>6</th>\n",
       "      <td>7</td>\n",
       "      <td>RS</td>\n",
       "      <td>SUL</td>\n",
       "    </tr>\n",
       "    <tr>\n",
       "      <th>7</th>\n",
       "      <td>8</td>\n",
       "      <td>RS</td>\n",
       "      <td>SUL</td>\n",
       "    </tr>\n",
       "    <tr>\n",
       "      <th>8</th>\n",
       "      <td>9</td>\n",
       "      <td>BH</td>\n",
       "      <td>NORDESTE</td>\n",
       "    </tr>\n",
       "    <tr>\n",
       "      <th>9</th>\n",
       "      <td>10</td>\n",
       "      <td>BH</td>\n",
       "      <td>NORDESTE</td>\n",
       "    </tr>\n",
       "  </tbody>\n",
       "</table>\n",
       "</div>"
      ],
      "text/plain": [
       "  id_loja  uf        regiao\n",
       "0       1  AM         NORTE\n",
       "1       2  MG  CENTRO-OESTE\n",
       "2       3  SP       SUDESTE\n",
       "3       4  SP       SUDESTE\n",
       "4       5  SP       SUDESTE\n",
       "5       6  SP       SUDESTE\n",
       "6       7  RS           SUL\n",
       "7       8  RS           SUL\n",
       "8       9  BH      NORDESTE\n",
       "9      10  BH      NORDESTE"
      ]
     },
     "execution_count": 17,
     "metadata": {},
     "output_type": "execute_result"
    }
   ],
   "source": [
    "_df_lojas['regiao'] = np.where(_df_lojas['uf']=='SP', 'SUDESTE' , np.where(_df_lojas['uf']=='BH', 'NORDESTE' , _df_lojas['regiao']))\n",
    "_df_lojas"
   ]
  },
  {
   "cell_type": "code",
   "execution_count": 18,
   "id": "12649479",
   "metadata": {
    "execution": {
     "iopub.execute_input": "2022-11-07T04:31:34.447778Z",
     "iopub.status.busy": "2022-11-07T04:31:34.447303Z",
     "iopub.status.idle": "2022-11-07T04:31:34.459782Z",
     "shell.execute_reply": "2022-11-07T04:31:34.458459Z"
    },
    "papermill": {
     "duration": 0.040681,
     "end_time": "2022-11-07T04:31:34.462692",
     "exception": false,
     "start_time": "2022-11-07T04:31:34.422011",
     "status": "completed"
    },
    "tags": []
   },
   "outputs": [
    {
     "name": "stdout",
     "output_type": "stream",
     "text": [
      "<class 'pandas.core.frame.DataFrame'>\n",
      "RangeIndex: 10 entries, 0 to 9\n",
      "Data columns (total 3 columns):\n",
      " #   Column   Non-Null Count  Dtype \n",
      "---  ------   --------------  ----- \n",
      " 0   id_loja  10 non-null     object\n",
      " 1   uf       10 non-null     object\n",
      " 2   regiao   10 non-null     object\n",
      "dtypes: object(3)\n",
      "memory usage: 368.0+ bytes\n"
     ]
    }
   ],
   "source": [
    "_df_lojas.info()"
   ]
  },
  {
   "cell_type": "markdown",
   "id": "5c7e6e4a",
   "metadata": {
    "papermill": {
     "duration": 0.022901,
     "end_time": "2022-11-07T04:31:34.509040",
     "exception": false,
     "start_time": "2022-11-07T04:31:34.486139",
     "status": "completed"
    },
    "tags": []
   },
   "source": [
    "Para a tabela de clientes verificamos que temos 7 clientes de informação de Gênero"
   ]
  },
  {
   "cell_type": "code",
   "execution_count": 19,
   "id": "2077419a",
   "metadata": {
    "execution": {
     "iopub.execute_input": "2022-11-07T04:31:34.558839Z",
     "iopub.status.busy": "2022-11-07T04:31:34.558367Z",
     "iopub.status.idle": "2022-11-07T04:31:34.573141Z",
     "shell.execute_reply": "2022-11-07T04:31:34.571542Z"
    },
    "papermill": {
     "duration": 0.042434,
     "end_time": "2022-11-07T04:31:34.575765",
     "exception": false,
     "start_time": "2022-11-07T04:31:34.533331",
     "status": "completed"
    },
    "tags": []
   },
   "outputs": [
    {
     "name": "stdout",
     "output_type": "stream",
     "text": [
      "<class 'pandas.core.frame.DataFrame'>\n",
      "RangeIndex: 100 entries, 0 to 99\n",
      "Data columns (total 4 columns):\n",
      " #   Column        Non-Null Count  Dtype \n",
      "---  ------        --------------  ----- \n",
      " 0   customerid    100 non-null    object\n",
      " 1   genero        93 non-null     object\n",
      " 2   faixaidade    100 non-null    object\n",
      " 3   classesocial  100 non-null    object\n",
      "dtypes: object(4)\n",
      "memory usage: 3.2+ KB\n"
     ]
    }
   ],
   "source": [
    "_df_cliente.info()"
   ]
  },
  {
   "cell_type": "code",
   "execution_count": 20,
   "id": "11a5cc6e",
   "metadata": {
    "execution": {
     "iopub.execute_input": "2022-11-07T04:31:34.626006Z",
     "iopub.status.busy": "2022-11-07T04:31:34.625595Z",
     "iopub.status.idle": "2022-11-07T04:31:34.639738Z",
     "shell.execute_reply": "2022-11-07T04:31:34.638435Z"
    },
    "papermill": {
     "duration": 0.042364,
     "end_time": "2022-11-07T04:31:34.642173",
     "exception": false,
     "start_time": "2022-11-07T04:31:34.599809",
     "status": "completed"
    },
    "tags": []
   },
   "outputs": [
    {
     "data": {
      "text/html": [
       "<div>\n",
       "<style scoped>\n",
       "    .dataframe tbody tr th:only-of-type {\n",
       "        vertical-align: middle;\n",
       "    }\n",
       "\n",
       "    .dataframe tbody tr th {\n",
       "        vertical-align: top;\n",
       "    }\n",
       "\n",
       "    .dataframe thead th {\n",
       "        text-align: right;\n",
       "    }\n",
       "</style>\n",
       "<table border=\"1\" class=\"dataframe\">\n",
       "  <thead>\n",
       "    <tr style=\"text-align: right;\">\n",
       "      <th></th>\n",
       "      <th>customerid</th>\n",
       "      <th>genero</th>\n",
       "      <th>faixaidade</th>\n",
       "      <th>classesocial</th>\n",
       "    </tr>\n",
       "  </thead>\n",
       "  <tbody>\n",
       "    <tr>\n",
       "      <th>14</th>\n",
       "      <td>90014</td>\n",
       "      <td>NaN</td>\n",
       "      <td>25-35</td>\n",
       "      <td>D</td>\n",
       "    </tr>\n",
       "    <tr>\n",
       "      <th>18</th>\n",
       "      <td>90018</td>\n",
       "      <td>NaN</td>\n",
       "      <td>25-35</td>\n",
       "      <td>C</td>\n",
       "    </tr>\n",
       "    <tr>\n",
       "      <th>52</th>\n",
       "      <td>90052</td>\n",
       "      <td>NaN</td>\n",
       "      <td>25-35</td>\n",
       "      <td>C</td>\n",
       "    </tr>\n",
       "    <tr>\n",
       "      <th>53</th>\n",
       "      <td>90053</td>\n",
       "      <td>NaN</td>\n",
       "      <td>35-45</td>\n",
       "      <td>C</td>\n",
       "    </tr>\n",
       "    <tr>\n",
       "      <th>73</th>\n",
       "      <td>90073</td>\n",
       "      <td>NaN</td>\n",
       "      <td>35-45</td>\n",
       "      <td>A</td>\n",
       "    </tr>\n",
       "    <tr>\n",
       "      <th>80</th>\n",
       "      <td>90080</td>\n",
       "      <td>NaN</td>\n",
       "      <td>25-35</td>\n",
       "      <td>E</td>\n",
       "    </tr>\n",
       "    <tr>\n",
       "      <th>98</th>\n",
       "      <td>90098</td>\n",
       "      <td>NaN</td>\n",
       "      <td>25-35</td>\n",
       "      <td>C</td>\n",
       "    </tr>\n",
       "  </tbody>\n",
       "</table>\n",
       "</div>"
      ],
      "text/plain": [
       "   customerid genero faixaidade classesocial\n",
       "14      90014    NaN      25-35            D\n",
       "18      90018    NaN      25-35            C\n",
       "52      90052    NaN      25-35            C\n",
       "53      90053    NaN      35-45            C\n",
       "73      90073    NaN      35-45            A\n",
       "80      90080    NaN      25-35            E\n",
       "98      90098    NaN      25-35            C"
      ]
     },
     "execution_count": 20,
     "metadata": {},
     "output_type": "execute_result"
    }
   ],
   "source": [
    "_df_cliente[_df_cliente['genero'].isna()]"
   ]
  },
  {
   "cell_type": "code",
   "execution_count": 21,
   "id": "f54c9851",
   "metadata": {
    "execution": {
     "iopub.execute_input": "2022-11-07T04:31:34.693166Z",
     "iopub.status.busy": "2022-11-07T04:31:34.692330Z",
     "iopub.status.idle": "2022-11-07T04:31:34.702084Z",
     "shell.execute_reply": "2022-11-07T04:31:34.700645Z"
    },
    "papermill": {
     "duration": 0.038132,
     "end_time": "2022-11-07T04:31:34.704499",
     "exception": false,
     "start_time": "2022-11-07T04:31:34.666367",
     "status": "completed"
    },
    "tags": []
   },
   "outputs": [
    {
     "data": {
      "text/plain": [
       "['90014', '90018', '90052', '90053', '90073', '90080', '90098']"
      ]
     },
     "execution_count": 21,
     "metadata": {},
     "output_type": "execute_result"
    }
   ],
   "source": [
    "lista_ids_sem_gen = _df_cliente[_df_cliente['genero'].isna()]['customerid'].unique().tolist()\n",
    "lista_ids_sem_gen"
   ]
  },
  {
   "cell_type": "markdown",
   "id": "43224a4f",
   "metadata": {
    "papermill": {
     "duration": 0.023066,
     "end_time": "2022-11-07T04:31:34.750955",
     "exception": false,
     "start_time": "2022-11-07T04:31:34.727889",
     "status": "completed"
    },
    "tags": []
   },
   "source": [
    "vamos substituir os nan por não_cadastrado"
   ]
  },
  {
   "cell_type": "code",
   "execution_count": 22,
   "id": "8226e9ea",
   "metadata": {
    "execution": {
     "iopub.execute_input": "2022-11-07T04:31:34.801239Z",
     "iopub.status.busy": "2022-11-07T04:31:34.799974Z",
     "iopub.status.idle": "2022-11-07T04:31:34.807276Z",
     "shell.execute_reply": "2022-11-07T04:31:34.806058Z"
    },
    "papermill": {
     "duration": 0.035653,
     "end_time": "2022-11-07T04:31:34.810419",
     "exception": false,
     "start_time": "2022-11-07T04:31:34.774766",
     "status": "completed"
    },
    "tags": []
   },
   "outputs": [],
   "source": [
    "_df_cliente['genero'] = _df_cliente['genero'].fillna('não_cadastrado')"
   ]
  },
  {
   "cell_type": "code",
   "execution_count": 23,
   "id": "d7eb2bb9",
   "metadata": {
    "execution": {
     "iopub.execute_input": "2022-11-07T04:31:34.862297Z",
     "iopub.status.busy": "2022-11-07T04:31:34.860983Z",
     "iopub.status.idle": "2022-11-07T04:31:34.875288Z",
     "shell.execute_reply": "2022-11-07T04:31:34.874071Z"
    },
    "papermill": {
     "duration": 0.042807,
     "end_time": "2022-11-07T04:31:34.877920",
     "exception": false,
     "start_time": "2022-11-07T04:31:34.835113",
     "status": "completed"
    },
    "tags": []
   },
   "outputs": [
    {
     "data": {
      "text/html": [
       "<div>\n",
       "<style scoped>\n",
       "    .dataframe tbody tr th:only-of-type {\n",
       "        vertical-align: middle;\n",
       "    }\n",
       "\n",
       "    .dataframe tbody tr th {\n",
       "        vertical-align: top;\n",
       "    }\n",
       "\n",
       "    .dataframe thead th {\n",
       "        text-align: right;\n",
       "    }\n",
       "</style>\n",
       "<table border=\"1\" class=\"dataframe\">\n",
       "  <thead>\n",
       "    <tr style=\"text-align: right;\">\n",
       "      <th></th>\n",
       "      <th>customerid</th>\n",
       "      <th>genero</th>\n",
       "      <th>faixaidade</th>\n",
       "      <th>classesocial</th>\n",
       "    </tr>\n",
       "  </thead>\n",
       "  <tbody>\n",
       "    <tr>\n",
       "      <th>14</th>\n",
       "      <td>90014</td>\n",
       "      <td>não_cadastrado</td>\n",
       "      <td>25-35</td>\n",
       "      <td>D</td>\n",
       "    </tr>\n",
       "    <tr>\n",
       "      <th>18</th>\n",
       "      <td>90018</td>\n",
       "      <td>não_cadastrado</td>\n",
       "      <td>25-35</td>\n",
       "      <td>C</td>\n",
       "    </tr>\n",
       "    <tr>\n",
       "      <th>52</th>\n",
       "      <td>90052</td>\n",
       "      <td>não_cadastrado</td>\n",
       "      <td>25-35</td>\n",
       "      <td>C</td>\n",
       "    </tr>\n",
       "    <tr>\n",
       "      <th>53</th>\n",
       "      <td>90053</td>\n",
       "      <td>não_cadastrado</td>\n",
       "      <td>35-45</td>\n",
       "      <td>C</td>\n",
       "    </tr>\n",
       "    <tr>\n",
       "      <th>73</th>\n",
       "      <td>90073</td>\n",
       "      <td>não_cadastrado</td>\n",
       "      <td>35-45</td>\n",
       "      <td>A</td>\n",
       "    </tr>\n",
       "    <tr>\n",
       "      <th>80</th>\n",
       "      <td>90080</td>\n",
       "      <td>não_cadastrado</td>\n",
       "      <td>25-35</td>\n",
       "      <td>E</td>\n",
       "    </tr>\n",
       "    <tr>\n",
       "      <th>98</th>\n",
       "      <td>90098</td>\n",
       "      <td>não_cadastrado</td>\n",
       "      <td>25-35</td>\n",
       "      <td>C</td>\n",
       "    </tr>\n",
       "  </tbody>\n",
       "</table>\n",
       "</div>"
      ],
      "text/plain": [
       "   customerid          genero faixaidade classesocial\n",
       "14      90014  não_cadastrado      25-35            D\n",
       "18      90018  não_cadastrado      25-35            C\n",
       "52      90052  não_cadastrado      25-35            C\n",
       "53      90053  não_cadastrado      35-45            C\n",
       "73      90073  não_cadastrado      35-45            A\n",
       "80      90080  não_cadastrado      25-35            E\n",
       "98      90098  não_cadastrado      25-35            C"
      ]
     },
     "execution_count": 23,
     "metadata": {},
     "output_type": "execute_result"
    }
   ],
   "source": [
    "_df_cliente[_df_cliente['customerid'].isin(lista_ids_sem_gen)]"
   ]
  },
  {
   "cell_type": "code",
   "execution_count": 24,
   "id": "f84fa1a7",
   "metadata": {
    "execution": {
     "iopub.execute_input": "2022-11-07T04:31:34.927951Z",
     "iopub.status.busy": "2022-11-07T04:31:34.926944Z",
     "iopub.status.idle": "2022-11-07T04:31:34.936270Z",
     "shell.execute_reply": "2022-11-07T04:31:34.935048Z"
    },
    "papermill": {
     "duration": 0.036895,
     "end_time": "2022-11-07T04:31:34.938446",
     "exception": false,
     "start_time": "2022-11-07T04:31:34.901551",
     "status": "completed"
    },
    "tags": []
   },
   "outputs": [
    {
     "data": {
      "text/plain": [
       "Index(['id_cliente', 'genero', 'faixa_idade', 'classe_social'], dtype='object')"
      ]
     },
     "execution_count": 24,
     "metadata": {},
     "output_type": "execute_result"
    }
   ],
   "source": [
    "_df_cliente = _df_cliente.rename({'customerid':'id_cliente', 'faixaidade':'faixa_idade', 'classesocial':'classe_social'}, axis=1)\n",
    "_df_cliente.columns"
   ]
  },
  {
   "cell_type": "code",
   "execution_count": 25,
   "id": "c6b1feee",
   "metadata": {
    "execution": {
     "iopub.execute_input": "2022-11-07T04:31:34.989935Z",
     "iopub.status.busy": "2022-11-07T04:31:34.988543Z",
     "iopub.status.idle": "2022-11-07T04:31:35.007101Z",
     "shell.execute_reply": "2022-11-07T04:31:35.005830Z"
    },
    "papermill": {
     "duration": 0.046822,
     "end_time": "2022-11-07T04:31:35.009962",
     "exception": false,
     "start_time": "2022-11-07T04:31:34.963140",
     "status": "completed"
    },
    "tags": []
   },
   "outputs": [
    {
     "data": {
      "text/html": [
       "<div>\n",
       "<style scoped>\n",
       "    .dataframe tbody tr th:only-of-type {\n",
       "        vertical-align: middle;\n",
       "    }\n",
       "\n",
       "    .dataframe tbody tr th {\n",
       "        vertical-align: top;\n",
       "    }\n",
       "\n",
       "    .dataframe thead th {\n",
       "        text-align: right;\n",
       "    }\n",
       "</style>\n",
       "<table border=\"1\" class=\"dataframe\">\n",
       "  <thead>\n",
       "    <tr style=\"text-align: right;\">\n",
       "      <th></th>\n",
       "      <th>id_cliente</th>\n",
       "      <th>genero</th>\n",
       "      <th>faixa_idade</th>\n",
       "      <th>classe_social</th>\n",
       "    </tr>\n",
       "  </thead>\n",
       "  <tbody>\n",
       "    <tr>\n",
       "      <th>0</th>\n",
       "      <td>90000</td>\n",
       "      <td>Feminino</td>\n",
       "      <td>35-45</td>\n",
       "      <td>C</td>\n",
       "    </tr>\n",
       "    <tr>\n",
       "      <th>1</th>\n",
       "      <td>90001</td>\n",
       "      <td>Feminino</td>\n",
       "      <td>45+</td>\n",
       "      <td>D</td>\n",
       "    </tr>\n",
       "    <tr>\n",
       "      <th>2</th>\n",
       "      <td>90002</td>\n",
       "      <td>Feminino</td>\n",
       "      <td>18-25</td>\n",
       "      <td>C</td>\n",
       "    </tr>\n",
       "    <tr>\n",
       "      <th>3</th>\n",
       "      <td>90003</td>\n",
       "      <td>Feminino</td>\n",
       "      <td>45+</td>\n",
       "      <td>C</td>\n",
       "    </tr>\n",
       "    <tr>\n",
       "      <th>4</th>\n",
       "      <td>90004</td>\n",
       "      <td>Feminino</td>\n",
       "      <td>35-45</td>\n",
       "      <td>C</td>\n",
       "    </tr>\n",
       "    <tr>\n",
       "      <th>...</th>\n",
       "      <td>...</td>\n",
       "      <td>...</td>\n",
       "      <td>...</td>\n",
       "      <td>...</td>\n",
       "    </tr>\n",
       "    <tr>\n",
       "      <th>95</th>\n",
       "      <td>90095</td>\n",
       "      <td>Masculino</td>\n",
       "      <td>18-25</td>\n",
       "      <td>C</td>\n",
       "    </tr>\n",
       "    <tr>\n",
       "      <th>96</th>\n",
       "      <td>90096</td>\n",
       "      <td>Masculino</td>\n",
       "      <td>18-25</td>\n",
       "      <td>A</td>\n",
       "    </tr>\n",
       "    <tr>\n",
       "      <th>97</th>\n",
       "      <td>90097</td>\n",
       "      <td>Masculino</td>\n",
       "      <td>45+</td>\n",
       "      <td>C</td>\n",
       "    </tr>\n",
       "    <tr>\n",
       "      <th>98</th>\n",
       "      <td>90098</td>\n",
       "      <td>não_cadastrado</td>\n",
       "      <td>25-35</td>\n",
       "      <td>C</td>\n",
       "    </tr>\n",
       "    <tr>\n",
       "      <th>99</th>\n",
       "      <td>90099</td>\n",
       "      <td>Feminino</td>\n",
       "      <td>25-35</td>\n",
       "      <td>E</td>\n",
       "    </tr>\n",
       "  </tbody>\n",
       "</table>\n",
       "<p>100 rows × 4 columns</p>\n",
       "</div>"
      ],
      "text/plain": [
       "   id_cliente          genero faixa_idade classe_social\n",
       "0       90000        Feminino       35-45             C\n",
       "1       90001        Feminino         45+             D\n",
       "2       90002        Feminino       18-25             C\n",
       "3       90003        Feminino         45+             C\n",
       "4       90004        Feminino       35-45             C\n",
       "..        ...             ...         ...           ...\n",
       "95      90095       Masculino       18-25             C\n",
       "96      90096       Masculino       18-25             A\n",
       "97      90097       Masculino         45+             C\n",
       "98      90098  não_cadastrado       25-35             C\n",
       "99      90099        Feminino       25-35             E\n",
       "\n",
       "[100 rows x 4 columns]"
      ]
     },
     "execution_count": 25,
     "metadata": {},
     "output_type": "execute_result"
    }
   ],
   "source": [
    "_df_cliente = _df_cliente.sort_values('id_cliente')\n",
    "_df_cliente = _df_cliente.drop_duplicates(subset='id_cliente')\n",
    "_df_cliente"
   ]
  },
  {
   "cell_type": "markdown",
   "id": "c76dc28c",
   "metadata": {
    "papermill": {
     "duration": 0.024191,
     "end_time": "2022-11-07T04:31:35.058539",
     "exception": false,
     "start_time": "2022-11-07T04:31:35.034348",
     "status": "completed"
    },
    "tags": []
   },
   "source": [
    "## Juntando as tabelas para análise "
   ]
  },
  {
   "cell_type": "code",
   "execution_count": 26,
   "id": "738fab1d",
   "metadata": {
    "execution": {
     "iopub.execute_input": "2022-11-07T04:31:35.116443Z",
     "iopub.status.busy": "2022-11-07T04:31:35.115994Z",
     "iopub.status.idle": "2022-11-07T04:31:35.172310Z",
     "shell.execute_reply": "2022-11-07T04:31:35.171082Z"
    },
    "papermill": {
     "duration": 0.086513,
     "end_time": "2022-11-07T04:31:35.175293",
     "exception": false,
     "start_time": "2022-11-07T04:31:35.088780",
     "status": "completed"
    },
    "tags": []
   },
   "outputs": [
    {
     "data": {
      "text/html": [
       "<div>\n",
       "<style scoped>\n",
       "    .dataframe tbody tr th:only-of-type {\n",
       "        vertical-align: middle;\n",
       "    }\n",
       "\n",
       "    .dataframe tbody tr th {\n",
       "        vertical-align: top;\n",
       "    }\n",
       "\n",
       "    .dataframe thead th {\n",
       "        text-align: right;\n",
       "    }\n",
       "</style>\n",
       "<table border=\"1\" class=\"dataframe\">\n",
       "  <thead>\n",
       "    <tr style=\"text-align: right;\">\n",
       "      <th></th>\n",
       "      <th>id_trans</th>\n",
       "      <th>data</th>\n",
       "      <th>id_loja</th>\n",
       "      <th>id_produto</th>\n",
       "      <th>id_cliente</th>\n",
       "      <th>unidades_vendidas</th>\n",
       "      <th>valor_total</th>\n",
       "      <th>promo</th>\n",
       "      <th>descrição_produto</th>\n",
       "      <th>categoria</th>\n",
       "      <th>cor</th>\n",
       "      <th>marca</th>\n",
       "      <th>uf</th>\n",
       "      <th>regiao</th>\n",
       "      <th>genero</th>\n",
       "      <th>faixa_idade</th>\n",
       "      <th>classe_social</th>\n",
       "    </tr>\n",
       "  </thead>\n",
       "  <tbody>\n",
       "    <tr>\n",
       "      <th>0</th>\n",
       "      <td>1</td>\n",
       "      <td>2022-01-01</td>\n",
       "      <td>7</td>\n",
       "      <td>123005</td>\n",
       "      <td>90023</td>\n",
       "      <td>2</td>\n",
       "      <td>99.98</td>\n",
       "      <td>0.0</td>\n",
       "      <td>Top Cinza Marca AlfaX</td>\n",
       "      <td>Top</td>\n",
       "      <td>Cinza</td>\n",
       "      <td>AlfaX</td>\n",
       "      <td>RS</td>\n",
       "      <td>SUL</td>\n",
       "      <td>Masculino</td>\n",
       "      <td>35-45</td>\n",
       "      <td>C</td>\n",
       "    </tr>\n",
       "    <tr>\n",
       "      <th>1</th>\n",
       "      <td>2</td>\n",
       "      <td>2022-01-01</td>\n",
       "      <td>9</td>\n",
       "      <td>123004</td>\n",
       "      <td>90092</td>\n",
       "      <td>1</td>\n",
       "      <td>35.99</td>\n",
       "      <td>0.0</td>\n",
       "      <td>Top Cinza Marca BetaY</td>\n",
       "      <td>Top</td>\n",
       "      <td>Cinza</td>\n",
       "      <td>BetaY</td>\n",
       "      <td>BH</td>\n",
       "      <td>NORDESTE</td>\n",
       "      <td>Masculino</td>\n",
       "      <td>35-45</td>\n",
       "      <td>C</td>\n",
       "    </tr>\n",
       "  </tbody>\n",
       "</table>\n",
       "</div>"
      ],
      "text/plain": [
       "  id_trans       data id_loja id_produto id_cliente  unidades_vendidas  \\\n",
       "0        1 2022-01-01       7     123005      90023                  2   \n",
       "1        2 2022-01-01       9     123004      90092                  1   \n",
       "\n",
       "   valor_total  promo      descrição_produto categoria    cor  marca  uf  \\\n",
       "0        99.98    0.0  Top Cinza Marca AlfaX       Top  Cinza  AlfaX  RS   \n",
       "1        35.99    0.0  Top Cinza Marca BetaY       Top  Cinza  BetaY  BH   \n",
       "\n",
       "     regiao     genero faixa_idade classe_social  \n",
       "0       SUL  Masculino       35-45             C  \n",
       "1  NORDESTE  Masculino       35-45             C  "
      ]
     },
     "execution_count": 26,
     "metadata": {},
     "output_type": "execute_result"
    }
   ],
   "source": [
    "_df1 = _df_transacoes\n",
    "_df2 = _df_produto\n",
    "_df3 = _df_lojas\n",
    "_df4 = _df_cliente\n",
    "\n",
    "_df = _df1.merge(_df2 , on='id_produto', how='left')\n",
    "_df = _df.merge(_df3 , on='id_loja', how='left')\n",
    "_df = _df.merge(_df4 , on='id_cliente', how='left')\n",
    "\n",
    "_df = _df.sort_values('data')\n",
    "_df.head(2)"
   ]
  },
  {
   "cell_type": "markdown",
   "id": "1d412784",
   "metadata": {
    "papermill": {
     "duration": 0.024738,
     "end_time": "2022-11-07T04:31:35.225428",
     "exception": false,
     "start_time": "2022-11-07T04:31:35.200690",
     "status": "completed"
    },
    "tags": []
   },
   "source": [
    "Gasto por Cliente"
   ]
  },
  {
   "cell_type": "code",
   "execution_count": 27,
   "id": "3d8c8602",
   "metadata": {
    "execution": {
     "iopub.execute_input": "2022-11-07T04:31:35.278161Z",
     "iopub.status.busy": "2022-11-07T04:31:35.277711Z",
     "iopub.status.idle": "2022-11-07T04:31:35.554872Z",
     "shell.execute_reply": "2022-11-07T04:31:35.553754Z"
    },
    "papermill": {
     "duration": 0.306442,
     "end_time": "2022-11-07T04:31:35.557768",
     "exception": false,
     "start_time": "2022-11-07T04:31:35.251326",
     "status": "completed"
    },
    "tags": []
   },
   "outputs": [],
   "source": [
    "_df.insert(2, \"ano\", pd.to_datetime(_df['data']).dt.to_period('Y').astype(str), allow_duplicates=True)\n",
    "_df.insert(3, \"mes\", pd.to_datetime(_df['data']).dt.to_period('M').astype(str).str.split(pat='-', expand=True)[1], allow_duplicates=True)\n",
    "_df.insert(4, \"ano_mes\", pd.to_datetime(_df['data']).dt.to_period('M').astype(str), allow_duplicates=True)"
   ]
  },
  {
   "cell_type": "code",
   "execution_count": 28,
   "id": "76c3a085",
   "metadata": {
    "execution": {
     "iopub.execute_input": "2022-11-07T04:31:35.609028Z",
     "iopub.status.busy": "2022-11-07T04:31:35.608610Z",
     "iopub.status.idle": "2022-11-07T04:31:35.637779Z",
     "shell.execute_reply": "2022-11-07T04:31:35.636505Z"
    },
    "papermill": {
     "duration": 0.057872,
     "end_time": "2022-11-07T04:31:35.640541",
     "exception": false,
     "start_time": "2022-11-07T04:31:35.582669",
     "status": "completed"
    },
    "tags": []
   },
   "outputs": [
    {
     "data": {
      "text/html": [
       "<div>\n",
       "<style scoped>\n",
       "    .dataframe tbody tr th:only-of-type {\n",
       "        vertical-align: middle;\n",
       "    }\n",
       "\n",
       "    .dataframe tbody tr th {\n",
       "        vertical-align: top;\n",
       "    }\n",
       "\n",
       "    .dataframe thead th {\n",
       "        text-align: right;\n",
       "    }\n",
       "</style>\n",
       "<table border=\"1\" class=\"dataframe\">\n",
       "  <thead>\n",
       "    <tr style=\"text-align: right;\">\n",
       "      <th></th>\n",
       "      <th>id_trans</th>\n",
       "      <th>data</th>\n",
       "      <th>ano</th>\n",
       "      <th>mes</th>\n",
       "      <th>ano_mes</th>\n",
       "      <th>id_loja</th>\n",
       "      <th>id_produto</th>\n",
       "      <th>id_cliente</th>\n",
       "      <th>unidades_vendidas</th>\n",
       "      <th>valor_total</th>\n",
       "      <th>...</th>\n",
       "      <th>descrição_produto</th>\n",
       "      <th>categoria</th>\n",
       "      <th>cor</th>\n",
       "      <th>marca</th>\n",
       "      <th>uf</th>\n",
       "      <th>regiao</th>\n",
       "      <th>genero</th>\n",
       "      <th>faixa_idade</th>\n",
       "      <th>classe_social</th>\n",
       "      <th>preco</th>\n",
       "    </tr>\n",
       "  </thead>\n",
       "  <tbody>\n",
       "    <tr>\n",
       "      <th>0</th>\n",
       "      <td>1</td>\n",
       "      <td>2022-01-01</td>\n",
       "      <td>2022</td>\n",
       "      <td>01</td>\n",
       "      <td>2022-01</td>\n",
       "      <td>7</td>\n",
       "      <td>123005</td>\n",
       "      <td>90023</td>\n",
       "      <td>2</td>\n",
       "      <td>99.98</td>\n",
       "      <td>...</td>\n",
       "      <td>Top Cinza Marca AlfaX</td>\n",
       "      <td>Top</td>\n",
       "      <td>Cinza</td>\n",
       "      <td>AlfaX</td>\n",
       "      <td>RS</td>\n",
       "      <td>SUL</td>\n",
       "      <td>Masculino</td>\n",
       "      <td>35-45</td>\n",
       "      <td>C</td>\n",
       "      <td>49.99</td>\n",
       "    </tr>\n",
       "    <tr>\n",
       "      <th>1</th>\n",
       "      <td>2</td>\n",
       "      <td>2022-01-01</td>\n",
       "      <td>2022</td>\n",
       "      <td>01</td>\n",
       "      <td>2022-01</td>\n",
       "      <td>9</td>\n",
       "      <td>123004</td>\n",
       "      <td>90092</td>\n",
       "      <td>1</td>\n",
       "      <td>35.99</td>\n",
       "      <td>...</td>\n",
       "      <td>Top Cinza Marca BetaY</td>\n",
       "      <td>Top</td>\n",
       "      <td>Cinza</td>\n",
       "      <td>BetaY</td>\n",
       "      <td>BH</td>\n",
       "      <td>NORDESTE</td>\n",
       "      <td>Masculino</td>\n",
       "      <td>35-45</td>\n",
       "      <td>C</td>\n",
       "      <td>35.99</td>\n",
       "    </tr>\n",
       "    <tr>\n",
       "      <th>2</th>\n",
       "      <td>3</td>\n",
       "      <td>2022-01-01</td>\n",
       "      <td>2022</td>\n",
       "      <td>01</td>\n",
       "      <td>2022-01</td>\n",
       "      <td>1</td>\n",
       "      <td>123001</td>\n",
       "      <td>90027</td>\n",
       "      <td>2</td>\n",
       "      <td>51.98</td>\n",
       "      <td>...</td>\n",
       "      <td>Top Cinza Marca GammaZ</td>\n",
       "      <td>Top</td>\n",
       "      <td>Cinza</td>\n",
       "      <td>GammaZ</td>\n",
       "      <td>AM</td>\n",
       "      <td>NORTE</td>\n",
       "      <td>Masculino</td>\n",
       "      <td>25-35</td>\n",
       "      <td>C</td>\n",
       "      <td>25.99</td>\n",
       "    </tr>\n",
       "  </tbody>\n",
       "</table>\n",
       "<p>3 rows × 21 columns</p>\n",
       "</div>"
      ],
      "text/plain": [
       "  id_trans       data   ano mes  ano_mes id_loja id_produto id_cliente  \\\n",
       "0        1 2022-01-01  2022  01  2022-01       7     123005      90023   \n",
       "1        2 2022-01-01  2022  01  2022-01       9     123004      90092   \n",
       "2        3 2022-01-01  2022  01  2022-01       1     123001      90027   \n",
       "\n",
       "   unidades_vendidas  valor_total  ...       descrição_produto categoria  \\\n",
       "0                  2        99.98  ...   Top Cinza Marca AlfaX       Top   \n",
       "1                  1        35.99  ...   Top Cinza Marca BetaY       Top   \n",
       "2                  2        51.98  ...  Top Cinza Marca GammaZ       Top   \n",
       "\n",
       "     cor   marca  uf    regiao     genero faixa_idade classe_social  preco  \n",
       "0  Cinza   AlfaX  RS       SUL  Masculino       35-45             C  49.99  \n",
       "1  Cinza   BetaY  BH  NORDESTE  Masculino       35-45             C  35.99  \n",
       "2  Cinza  GammaZ  AM     NORTE  Masculino       25-35             C  25.99  \n",
       "\n",
       "[3 rows x 21 columns]"
      ]
     },
     "execution_count": 28,
     "metadata": {},
     "output_type": "execute_result"
    }
   ],
   "source": [
    "_df['preco'] = _df['valor_total'] /_df['unidades_vendidas']\n",
    " \n",
    "_df.head(3)"
   ]
  },
  {
   "cell_type": "markdown",
   "id": "439535f3",
   "metadata": {
    "papermill": {
     "duration": 0.024668,
     "end_time": "2022-11-07T04:31:35.690144",
     "exception": false,
     "start_time": "2022-11-07T04:31:35.665476",
     "status": "completed"
    },
    "tags": []
   },
   "source": [
    "### Lista de Produtos 123008 e 123009 com promoção Promoções em 2023"
   ]
  },
  {
   "cell_type": "code",
   "execution_count": 29,
   "id": "648e7a1c",
   "metadata": {
    "execution": {
     "iopub.execute_input": "2022-11-07T04:31:35.742006Z",
     "iopub.status.busy": "2022-11-07T04:31:35.741554Z",
     "iopub.status.idle": "2022-11-07T04:31:35.784589Z",
     "shell.execute_reply": "2022-11-07T04:31:35.783014Z"
    },
    "papermill": {
     "duration": 0.073305,
     "end_time": "2022-11-07T04:31:35.787950",
     "exception": false,
     "start_time": "2022-11-07T04:31:35.714645",
     "status": "completed"
    },
    "tags": []
   },
   "outputs": [
    {
     "name": "stderr",
     "output_type": "stream",
     "text": [
      "/opt/conda/lib/python3.7/site-packages/ipykernel_launcher.py:6: SettingWithCopyWarning: \n",
      "A value is trying to be set on a copy of a slice from a DataFrame.\n",
      "Try using .loc[row_indexer,col_indexer] = value instead\n",
      "\n",
      "See the caveats in the documentation: https://pandas.pydata.org/pandas-docs/stable/user_guide/indexing.html#returning-a-view-versus-a-copy\n",
      "  \n"
     ]
    },
    {
     "data": {
      "text/html": [
       "<div>\n",
       "<style scoped>\n",
       "    .dataframe tbody tr th:only-of-type {\n",
       "        vertical-align: middle;\n",
       "    }\n",
       "\n",
       "    .dataframe tbody tr th {\n",
       "        vertical-align: top;\n",
       "    }\n",
       "\n",
       "    .dataframe thead th {\n",
       "        text-align: right;\n",
       "    }\n",
       "</style>\n",
       "<table border=\"1\" class=\"dataframe\">\n",
       "  <thead>\n",
       "    <tr style=\"text-align: right;\">\n",
       "      <th></th>\n",
       "      <th>ano_mes</th>\n",
       "      <th>sku</th>\n",
       "      <th>promo</th>\n",
       "      <th>preco</th>\n",
       "    </tr>\n",
       "  </thead>\n",
       "  <tbody>\n",
       "    <tr>\n",
       "      <th>0</th>\n",
       "      <td>2023-01</td>\n",
       "      <td>123008|Top|Vermelho|GammaZ</td>\n",
       "      <td>0.0</td>\n",
       "      <td>67.99000</td>\n",
       "    </tr>\n",
       "    <tr>\n",
       "      <th>1</th>\n",
       "      <td>2023-01</td>\n",
       "      <td>123008|Top|Vermelho|GammaZ</td>\n",
       "      <td>0.0</td>\n",
       "      <td>67.99150</td>\n",
       "    </tr>\n",
       "    <tr>\n",
       "      <th>2</th>\n",
       "      <td>2023-01</td>\n",
       "      <td>123008|Top|Vermelho|GammaZ</td>\n",
       "      <td>0.0</td>\n",
       "      <td>79.99000</td>\n",
       "    </tr>\n",
       "    <tr>\n",
       "      <th>3</th>\n",
       "      <td>2023-01</td>\n",
       "      <td>123009|Top|Vermelho|GammaZ</td>\n",
       "      <td>0.0</td>\n",
       "      <td>69.97000</td>\n",
       "    </tr>\n",
       "    <tr>\n",
       "      <th>4</th>\n",
       "      <td>2023-01</td>\n",
       "      <td>123009|Top|Vermelho|GammaZ</td>\n",
       "      <td>0.0</td>\n",
       "      <td>76.49150</td>\n",
       "    </tr>\n",
       "    <tr>\n",
       "      <th>5</th>\n",
       "      <td>2023-01</td>\n",
       "      <td>123009|Top|Vermelho|GammaZ</td>\n",
       "      <td>0.0</td>\n",
       "      <td>89.99000</td>\n",
       "    </tr>\n",
       "    <tr>\n",
       "      <th>6</th>\n",
       "      <td>2023-02</td>\n",
       "      <td>123008|Top|Vermelho|GammaZ</td>\n",
       "      <td>0.0</td>\n",
       "      <td>67.99150</td>\n",
       "    </tr>\n",
       "    <tr>\n",
       "      <th>7</th>\n",
       "      <td>2023-02</td>\n",
       "      <td>123008|Top|Vermelho|GammaZ</td>\n",
       "      <td>0.0</td>\n",
       "      <td>79.99000</td>\n",
       "    </tr>\n",
       "    <tr>\n",
       "      <th>8</th>\n",
       "      <td>2023-02</td>\n",
       "      <td>123008|Top|Vermelho|GammaZ</td>\n",
       "      <td>0.0</td>\n",
       "      <td>83.99575</td>\n",
       "    </tr>\n",
       "    <tr>\n",
       "      <th>9</th>\n",
       "      <td>2023-02</td>\n",
       "      <td>123009|Top|Vermelho|GammaZ</td>\n",
       "      <td>1.0</td>\n",
       "      <td>76.49150</td>\n",
       "    </tr>\n",
       "    <tr>\n",
       "      <th>10</th>\n",
       "      <td>2023-02</td>\n",
       "      <td>123009|Top|Vermelho|GammaZ</td>\n",
       "      <td>0.0</td>\n",
       "      <td>84.98500</td>\n",
       "    </tr>\n",
       "    <tr>\n",
       "      <th>11</th>\n",
       "      <td>2023-02</td>\n",
       "      <td>123009|Top|Vermelho|GammaZ</td>\n",
       "      <td>0.0</td>\n",
       "      <td>89.99000</td>\n",
       "    </tr>\n",
       "    <tr>\n",
       "      <th>12</th>\n",
       "      <td>2023-03</td>\n",
       "      <td>123008|Top|Vermelho|GammaZ</td>\n",
       "      <td>0.0</td>\n",
       "      <td>67.99000</td>\n",
       "    </tr>\n",
       "    <tr>\n",
       "      <th>13</th>\n",
       "      <td>2023-03</td>\n",
       "      <td>123008|Top|Vermelho|GammaZ</td>\n",
       "      <td>0.0</td>\n",
       "      <td>79.99000</td>\n",
       "    </tr>\n",
       "    <tr>\n",
       "      <th>14</th>\n",
       "      <td>2023-03</td>\n",
       "      <td>123008|Top|Vermelho|GammaZ</td>\n",
       "      <td>0.0</td>\n",
       "      <td>139.97000</td>\n",
       "    </tr>\n",
       "    <tr>\n",
       "      <th>15</th>\n",
       "      <td>2023-03</td>\n",
       "      <td>123009|Top|Vermelho|GammaZ</td>\n",
       "      <td>1.0</td>\n",
       "      <td>76.50000</td>\n",
       "    </tr>\n",
       "    <tr>\n",
       "      <th>16</th>\n",
       "      <td>2023-03</td>\n",
       "      <td>123009|Top|Vermelho|GammaZ</td>\n",
       "      <td>0.0</td>\n",
       "      <td>89.99000</td>\n",
       "    </tr>\n",
       "    <tr>\n",
       "      <th>17</th>\n",
       "      <td>2023-04</td>\n",
       "      <td>123008|Top|Vermelho|GammaZ</td>\n",
       "      <td>0.0</td>\n",
       "      <td>67.99150</td>\n",
       "    </tr>\n",
       "    <tr>\n",
       "      <th>18</th>\n",
       "      <td>2023-04</td>\n",
       "      <td>123008|Top|Vermelho|GammaZ</td>\n",
       "      <td>0.0</td>\n",
       "      <td>79.99000</td>\n",
       "    </tr>\n",
       "    <tr>\n",
       "      <th>19</th>\n",
       "      <td>2023-04</td>\n",
       "      <td>123009|Top|Vermelho|GammaZ</td>\n",
       "      <td>0.0</td>\n",
       "      <td>76.49150</td>\n",
       "    </tr>\n",
       "    <tr>\n",
       "      <th>20</th>\n",
       "      <td>2023-04</td>\n",
       "      <td>123009|Top|Vermelho|GammaZ</td>\n",
       "      <td>0.0</td>\n",
       "      <td>89.99000</td>\n",
       "    </tr>\n",
       "    <tr>\n",
       "      <th>21</th>\n",
       "      <td>2023-05</td>\n",
       "      <td>123008|Top|Vermelho|GammaZ</td>\n",
       "      <td>0.0</td>\n",
       "      <td>67.99150</td>\n",
       "    </tr>\n",
       "    <tr>\n",
       "      <th>22</th>\n",
       "      <td>2023-05</td>\n",
       "      <td>123008|Top|Vermelho|GammaZ</td>\n",
       "      <td>0.0</td>\n",
       "      <td>79.99000</td>\n",
       "    </tr>\n",
       "    <tr>\n",
       "      <th>23</th>\n",
       "      <td>2023-05</td>\n",
       "      <td>123008|Top|Vermelho|GammaZ</td>\n",
       "      <td>0.0</td>\n",
       "      <td>80.99100</td>\n",
       "    </tr>\n",
       "    <tr>\n",
       "      <th>24</th>\n",
       "      <td>2023-05</td>\n",
       "      <td>123009|Top|Vermelho|GammaZ</td>\n",
       "      <td>1.0</td>\n",
       "      <td>76.49150</td>\n",
       "    </tr>\n",
       "    <tr>\n",
       "      <th>25</th>\n",
       "      <td>2023-05</td>\n",
       "      <td>123009|Top|Vermelho|GammaZ</td>\n",
       "      <td>0.0</td>\n",
       "      <td>76.49150</td>\n",
       "    </tr>\n",
       "    <tr>\n",
       "      <th>26</th>\n",
       "      <td>2023-05</td>\n",
       "      <td>123009|Top|Vermelho|GammaZ</td>\n",
       "      <td>0.0</td>\n",
       "      <td>89.99000</td>\n",
       "    </tr>\n",
       "    <tr>\n",
       "      <th>27</th>\n",
       "      <td>2023-05</td>\n",
       "      <td>123009|Top|Vermelho|GammaZ</td>\n",
       "      <td>0.0</td>\n",
       "      <td>109.98000</td>\n",
       "    </tr>\n",
       "    <tr>\n",
       "      <th>28</th>\n",
       "      <td>2023-06</td>\n",
       "      <td>123008|Top|Vermelho|GammaZ</td>\n",
       "      <td>0.0</td>\n",
       "      <td>67.99000</td>\n",
       "    </tr>\n",
       "    <tr>\n",
       "      <th>29</th>\n",
       "      <td>2023-06</td>\n",
       "      <td>123008|Top|Vermelho|GammaZ</td>\n",
       "      <td>0.0</td>\n",
       "      <td>67.99150</td>\n",
       "    </tr>\n",
       "    <tr>\n",
       "      <th>30</th>\n",
       "      <td>2023-06</td>\n",
       "      <td>123008|Top|Vermelho|GammaZ</td>\n",
       "      <td>0.0</td>\n",
       "      <td>79.99000</td>\n",
       "    </tr>\n",
       "    <tr>\n",
       "      <th>31</th>\n",
       "      <td>2023-06</td>\n",
       "      <td>123009|Top|Vermelho|GammaZ</td>\n",
       "      <td>0.0</td>\n",
       "      <td>76.49150</td>\n",
       "    </tr>\n",
       "    <tr>\n",
       "      <th>32</th>\n",
       "      <td>2023-06</td>\n",
       "      <td>123009|Top|Vermelho|GammaZ</td>\n",
       "      <td>1.0</td>\n",
       "      <td>76.49150</td>\n",
       "    </tr>\n",
       "    <tr>\n",
       "      <th>33</th>\n",
       "      <td>2023-06</td>\n",
       "      <td>123009|Top|Vermelho|GammaZ</td>\n",
       "      <td>0.0</td>\n",
       "      <td>89.99000</td>\n",
       "    </tr>\n",
       "    <tr>\n",
       "      <th>34</th>\n",
       "      <td>2023-06</td>\n",
       "      <td>123009|Top|Vermelho|GammaZ</td>\n",
       "      <td>0.0</td>\n",
       "      <td>94.99500</td>\n",
       "    </tr>\n",
       "    <tr>\n",
       "      <th>35</th>\n",
       "      <td>2023-07</td>\n",
       "      <td>123008|Top|Vermelho|GammaZ</td>\n",
       "      <td>0.0</td>\n",
       "      <td>67.99150</td>\n",
       "    </tr>\n",
       "    <tr>\n",
       "      <th>36</th>\n",
       "      <td>2023-07</td>\n",
       "      <td>123008|Top|Vermelho|GammaZ</td>\n",
       "      <td>0.0</td>\n",
       "      <td>79.99000</td>\n",
       "    </tr>\n",
       "    <tr>\n",
       "      <th>37</th>\n",
       "      <td>2023-07</td>\n",
       "      <td>123009|Top|Vermelho|GammaZ</td>\n",
       "      <td>0.0</td>\n",
       "      <td>89.99000</td>\n",
       "    </tr>\n",
       "    <tr>\n",
       "      <th>38</th>\n",
       "      <td>2023-08</td>\n",
       "      <td>123008|Top|Vermelho|GammaZ</td>\n",
       "      <td>0.0</td>\n",
       "      <td>67.99150</td>\n",
       "    </tr>\n",
       "    <tr>\n",
       "      <th>39</th>\n",
       "      <td>2023-08</td>\n",
       "      <td>123008|Top|Vermelho|GammaZ</td>\n",
       "      <td>0.0</td>\n",
       "      <td>79.99000</td>\n",
       "    </tr>\n",
       "    <tr>\n",
       "      <th>40</th>\n",
       "      <td>2023-08</td>\n",
       "      <td>123009|Top|Vermelho|GammaZ</td>\n",
       "      <td>1.0</td>\n",
       "      <td>25.00000</td>\n",
       "    </tr>\n",
       "    <tr>\n",
       "      <th>41</th>\n",
       "      <td>2023-08</td>\n",
       "      <td>123009|Top|Vermelho|GammaZ</td>\n",
       "      <td>1.0</td>\n",
       "      <td>76.49150</td>\n",
       "    </tr>\n",
       "    <tr>\n",
       "      <th>42</th>\n",
       "      <td>2023-08</td>\n",
       "      <td>123009|Top|Vermelho|GammaZ</td>\n",
       "      <td>0.0</td>\n",
       "      <td>76.49150</td>\n",
       "    </tr>\n",
       "    <tr>\n",
       "      <th>43</th>\n",
       "      <td>2023-08</td>\n",
       "      <td>123009|Top|Vermelho|GammaZ</td>\n",
       "      <td>0.0</td>\n",
       "      <td>89.99000</td>\n",
       "    </tr>\n",
       "    <tr>\n",
       "      <th>44</th>\n",
       "      <td>2023-09</td>\n",
       "      <td>123008|Top|Vermelho|GammaZ</td>\n",
       "      <td>1.0</td>\n",
       "      <td>25.00000</td>\n",
       "    </tr>\n",
       "    <tr>\n",
       "      <th>45</th>\n",
       "      <td>2023-09</td>\n",
       "      <td>123008|Top|Vermelho|GammaZ</td>\n",
       "      <td>0.0</td>\n",
       "      <td>67.99150</td>\n",
       "    </tr>\n",
       "    <tr>\n",
       "      <th>46</th>\n",
       "      <td>2023-09</td>\n",
       "      <td>123008|Top|Vermelho|GammaZ</td>\n",
       "      <td>0.0</td>\n",
       "      <td>79.99000</td>\n",
       "    </tr>\n",
       "    <tr>\n",
       "      <th>47</th>\n",
       "      <td>2023-09</td>\n",
       "      <td>123009|Top|Vermelho|GammaZ</td>\n",
       "      <td>1.0</td>\n",
       "      <td>76.49150</td>\n",
       "    </tr>\n",
       "    <tr>\n",
       "      <th>48</th>\n",
       "      <td>2023-09</td>\n",
       "      <td>123009|Top|Vermelho|GammaZ</td>\n",
       "      <td>0.0</td>\n",
       "      <td>89.99000</td>\n",
       "    </tr>\n",
       "  </tbody>\n",
       "</table>\n",
       "</div>"
      ],
      "text/plain": [
       "    ano_mes                         sku  promo      preco\n",
       "0   2023-01  123008|Top|Vermelho|GammaZ    0.0   67.99000\n",
       "1   2023-01  123008|Top|Vermelho|GammaZ    0.0   67.99150\n",
       "2   2023-01  123008|Top|Vermelho|GammaZ    0.0   79.99000\n",
       "3   2023-01  123009|Top|Vermelho|GammaZ    0.0   69.97000\n",
       "4   2023-01  123009|Top|Vermelho|GammaZ    0.0   76.49150\n",
       "5   2023-01  123009|Top|Vermelho|GammaZ    0.0   89.99000\n",
       "6   2023-02  123008|Top|Vermelho|GammaZ    0.0   67.99150\n",
       "7   2023-02  123008|Top|Vermelho|GammaZ    0.0   79.99000\n",
       "8   2023-02  123008|Top|Vermelho|GammaZ    0.0   83.99575\n",
       "9   2023-02  123009|Top|Vermelho|GammaZ    1.0   76.49150\n",
       "10  2023-02  123009|Top|Vermelho|GammaZ    0.0   84.98500\n",
       "11  2023-02  123009|Top|Vermelho|GammaZ    0.0   89.99000\n",
       "12  2023-03  123008|Top|Vermelho|GammaZ    0.0   67.99000\n",
       "13  2023-03  123008|Top|Vermelho|GammaZ    0.0   79.99000\n",
       "14  2023-03  123008|Top|Vermelho|GammaZ    0.0  139.97000\n",
       "15  2023-03  123009|Top|Vermelho|GammaZ    1.0   76.50000\n",
       "16  2023-03  123009|Top|Vermelho|GammaZ    0.0   89.99000\n",
       "17  2023-04  123008|Top|Vermelho|GammaZ    0.0   67.99150\n",
       "18  2023-04  123008|Top|Vermelho|GammaZ    0.0   79.99000\n",
       "19  2023-04  123009|Top|Vermelho|GammaZ    0.0   76.49150\n",
       "20  2023-04  123009|Top|Vermelho|GammaZ    0.0   89.99000\n",
       "21  2023-05  123008|Top|Vermelho|GammaZ    0.0   67.99150\n",
       "22  2023-05  123008|Top|Vermelho|GammaZ    0.0   79.99000\n",
       "23  2023-05  123008|Top|Vermelho|GammaZ    0.0   80.99100\n",
       "24  2023-05  123009|Top|Vermelho|GammaZ    1.0   76.49150\n",
       "25  2023-05  123009|Top|Vermelho|GammaZ    0.0   76.49150\n",
       "26  2023-05  123009|Top|Vermelho|GammaZ    0.0   89.99000\n",
       "27  2023-05  123009|Top|Vermelho|GammaZ    0.0  109.98000\n",
       "28  2023-06  123008|Top|Vermelho|GammaZ    0.0   67.99000\n",
       "29  2023-06  123008|Top|Vermelho|GammaZ    0.0   67.99150\n",
       "30  2023-06  123008|Top|Vermelho|GammaZ    0.0   79.99000\n",
       "31  2023-06  123009|Top|Vermelho|GammaZ    0.0   76.49150\n",
       "32  2023-06  123009|Top|Vermelho|GammaZ    1.0   76.49150\n",
       "33  2023-06  123009|Top|Vermelho|GammaZ    0.0   89.99000\n",
       "34  2023-06  123009|Top|Vermelho|GammaZ    0.0   94.99500\n",
       "35  2023-07  123008|Top|Vermelho|GammaZ    0.0   67.99150\n",
       "36  2023-07  123008|Top|Vermelho|GammaZ    0.0   79.99000\n",
       "37  2023-07  123009|Top|Vermelho|GammaZ    0.0   89.99000\n",
       "38  2023-08  123008|Top|Vermelho|GammaZ    0.0   67.99150\n",
       "39  2023-08  123008|Top|Vermelho|GammaZ    0.0   79.99000\n",
       "40  2023-08  123009|Top|Vermelho|GammaZ    1.0   25.00000\n",
       "41  2023-08  123009|Top|Vermelho|GammaZ    1.0   76.49150\n",
       "42  2023-08  123009|Top|Vermelho|GammaZ    0.0   76.49150\n",
       "43  2023-08  123009|Top|Vermelho|GammaZ    0.0   89.99000\n",
       "44  2023-09  123008|Top|Vermelho|GammaZ    1.0   25.00000\n",
       "45  2023-09  123008|Top|Vermelho|GammaZ    0.0   67.99150\n",
       "46  2023-09  123008|Top|Vermelho|GammaZ    0.0   79.99000\n",
       "47  2023-09  123009|Top|Vermelho|GammaZ    1.0   76.49150\n",
       "48  2023-09  123009|Top|Vermelho|GammaZ    0.0   89.99000"
      ]
     },
     "execution_count": 29,
     "metadata": {},
     "output_type": "execute_result"
    }
   ],
   "source": [
    "_filter_cond_1 = (_df['ano']=='2023')\n",
    "_filter_cond_2 = ( _df['id_produto'].isin(['123008','123009']) ) \n",
    "\n",
    "_df_prot_promo =  _df[ _filter_cond_1 & _filter_cond_2]\n",
    "\n",
    "_df_prot_promo['sku'] = _df_prot_promo['id_produto'] + '|' + _df_prot_promo['categoria'] + '|' + _df_prot_promo['cor'] + '|' + _df_prot_promo['marca']\n",
    "_df_prot_promo = _df_prot_promo[['ano_mes', 'sku', 'promo', 'preco']]\n",
    "_df_prot_promo = _df_prot_promo.drop_duplicates()\n",
    "_df_prot_promo = _df_prot_promo.sort_values(['ano_mes', 'sku', 'preco']).reset_index(drop=True)\n",
    "\n",
    "_df_prot_promo"
   ]
  },
  {
   "cell_type": "markdown",
   "id": "f301a81f",
   "metadata": {
    "papermill": {
     "duration": 0.025072,
     "end_time": "2022-11-07T04:31:35.838803",
     "exception": false,
     "start_time": "2022-11-07T04:31:35.813731",
     "status": "completed"
    },
    "tags": []
   },
   "source": [
    "Verifica-se que os flags de descontos não estão bem aplicados, pois meses com 0 apresentam descontos promocionais."
   ]
  },
  {
   "cell_type": "markdown",
   "id": "2564b87c",
   "metadata": {
    "papermill": {
     "duration": 0.025963,
     "end_time": "2022-11-07T04:31:35.890934",
     "exception": false,
     "start_time": "2022-11-07T04:31:35.864971",
     "status": "completed"
    },
    "tags": []
   },
   "source": [
    "## Quantidades Vendidas por produto"
   ]
  },
  {
   "cell_type": "code",
   "execution_count": 30,
   "id": "082a7c15",
   "metadata": {
    "execution": {
     "iopub.execute_input": "2022-11-07T04:31:35.943630Z",
     "iopub.status.busy": "2022-11-07T04:31:35.943119Z",
     "iopub.status.idle": "2022-11-07T04:31:35.976223Z",
     "shell.execute_reply": "2022-11-07T04:31:35.974913Z"
    },
    "papermill": {
     "duration": 0.062346,
     "end_time": "2022-11-07T04:31:35.978785",
     "exception": false,
     "start_time": "2022-11-07T04:31:35.916439",
     "status": "completed"
    },
    "tags": []
   },
   "outputs": [
    {
     "data": {
      "text/html": [
       "<div>\n",
       "<style scoped>\n",
       "    .dataframe tbody tr th:only-of-type {\n",
       "        vertical-align: middle;\n",
       "    }\n",
       "\n",
       "    .dataframe tbody tr th {\n",
       "        vertical-align: top;\n",
       "    }\n",
       "\n",
       "    .dataframe thead th {\n",
       "        text-align: right;\n",
       "    }\n",
       "</style>\n",
       "<table border=\"1\" class=\"dataframe\">\n",
       "  <thead>\n",
       "    <tr style=\"text-align: right;\">\n",
       "      <th></th>\n",
       "      <th>id_trans</th>\n",
       "      <th>data</th>\n",
       "      <th>ano</th>\n",
       "      <th>mes</th>\n",
       "      <th>ano_mes</th>\n",
       "      <th>id_loja</th>\n",
       "      <th>id_produto</th>\n",
       "      <th>id_cliente</th>\n",
       "      <th>unidades_vendidas</th>\n",
       "      <th>valor_total</th>\n",
       "      <th>...</th>\n",
       "      <th>descrição_produto</th>\n",
       "      <th>categoria</th>\n",
       "      <th>cor</th>\n",
       "      <th>marca</th>\n",
       "      <th>uf</th>\n",
       "      <th>regiao</th>\n",
       "      <th>genero</th>\n",
       "      <th>faixa_idade</th>\n",
       "      <th>classe_social</th>\n",
       "      <th>preco</th>\n",
       "    </tr>\n",
       "  </thead>\n",
       "  <tbody>\n",
       "    <tr>\n",
       "      <th>0</th>\n",
       "      <td>1</td>\n",
       "      <td>2022-01-01</td>\n",
       "      <td>2022</td>\n",
       "      <td>01</td>\n",
       "      <td>2022-01</td>\n",
       "      <td>7</td>\n",
       "      <td>123005</td>\n",
       "      <td>90023</td>\n",
       "      <td>2</td>\n",
       "      <td>99.98</td>\n",
       "      <td>...</td>\n",
       "      <td>Top Cinza Marca AlfaX</td>\n",
       "      <td>Top</td>\n",
       "      <td>Cinza</td>\n",
       "      <td>AlfaX</td>\n",
       "      <td>RS</td>\n",
       "      <td>SUL</td>\n",
       "      <td>Masculino</td>\n",
       "      <td>35-45</td>\n",
       "      <td>C</td>\n",
       "      <td>49.99</td>\n",
       "    </tr>\n",
       "    <tr>\n",
       "      <th>1</th>\n",
       "      <td>2</td>\n",
       "      <td>2022-01-01</td>\n",
       "      <td>2022</td>\n",
       "      <td>01</td>\n",
       "      <td>2022-01</td>\n",
       "      <td>9</td>\n",
       "      <td>123004</td>\n",
       "      <td>90092</td>\n",
       "      <td>1</td>\n",
       "      <td>35.99</td>\n",
       "      <td>...</td>\n",
       "      <td>Top Cinza Marca BetaY</td>\n",
       "      <td>Top</td>\n",
       "      <td>Cinza</td>\n",
       "      <td>BetaY</td>\n",
       "      <td>BH</td>\n",
       "      <td>NORDESTE</td>\n",
       "      <td>Masculino</td>\n",
       "      <td>35-45</td>\n",
       "      <td>C</td>\n",
       "      <td>35.99</td>\n",
       "    </tr>\n",
       "  </tbody>\n",
       "</table>\n",
       "<p>2 rows × 21 columns</p>\n",
       "</div>"
      ],
      "text/plain": [
       "  id_trans       data   ano mes  ano_mes id_loja id_produto id_cliente  \\\n",
       "0        1 2022-01-01  2022  01  2022-01       7     123005      90023   \n",
       "1        2 2022-01-01  2022  01  2022-01       9     123004      90092   \n",
       "\n",
       "   unidades_vendidas  valor_total  ...      descrição_produto categoria  \\\n",
       "0                  2        99.98  ...  Top Cinza Marca AlfaX       Top   \n",
       "1                  1        35.99  ...  Top Cinza Marca BetaY       Top   \n",
       "\n",
       "     cor  marca  uf    regiao     genero faixa_idade classe_social  preco  \n",
       "0  Cinza  AlfaX  RS       SUL  Masculino       35-45             C  49.99  \n",
       "1  Cinza  BetaY  BH  NORDESTE  Masculino       35-45             C  35.99  \n",
       "\n",
       "[2 rows x 21 columns]"
      ]
     },
     "execution_count": 30,
     "metadata": {},
     "output_type": "execute_result"
    }
   ],
   "source": [
    "_df_22 =  _df[_df['ano']=='2022']\n",
    "_df_22.head(2)"
   ]
  },
  {
   "cell_type": "code",
   "execution_count": 31,
   "id": "74947e93",
   "metadata": {
    "execution": {
     "iopub.execute_input": "2022-11-07T04:31:36.033723Z",
     "iopub.status.busy": "2022-11-07T04:31:36.033204Z",
     "iopub.status.idle": "2022-11-07T04:31:36.054733Z",
     "shell.execute_reply": "2022-11-07T04:31:36.053373Z"
    },
    "papermill": {
     "duration": 0.052418,
     "end_time": "2022-11-07T04:31:36.057394",
     "exception": false,
     "start_time": "2022-11-07T04:31:36.004976",
     "status": "completed"
    },
    "tags": []
   },
   "outputs": [
    {
     "data": {
      "text/html": [
       "<div>\n",
       "<style scoped>\n",
       "    .dataframe tbody tr th:only-of-type {\n",
       "        vertical-align: middle;\n",
       "    }\n",
       "\n",
       "    .dataframe tbody tr th {\n",
       "        vertical-align: top;\n",
       "    }\n",
       "\n",
       "    .dataframe thead th {\n",
       "        text-align: right;\n",
       "    }\n",
       "</style>\n",
       "<table border=\"1\" class=\"dataframe\">\n",
       "  <thead>\n",
       "    <tr style=\"text-align: right;\">\n",
       "      <th></th>\n",
       "      <th>descrição_produto</th>\n",
       "      <th>unidades_vendidas</th>\n",
       "      <th>percentual_produto</th>\n",
       "    </tr>\n",
       "  </thead>\n",
       "  <tbody>\n",
       "    <tr>\n",
       "      <th>0</th>\n",
       "      <td>Bottom Azul Marca AlfaX</td>\n",
       "      <td>531</td>\n",
       "      <td>0.058752</td>\n",
       "    </tr>\n",
       "    <tr>\n",
       "      <th>1</th>\n",
       "      <td>Bottom Preto Marca AlfaX</td>\n",
       "      <td>985</td>\n",
       "      <td>0.108984</td>\n",
       "    </tr>\n",
       "    <tr>\n",
       "      <th>2</th>\n",
       "      <td>Bottom Preto Marca BetaY</td>\n",
       "      <td>1023</td>\n",
       "      <td>0.113189</td>\n",
       "    </tr>\n",
       "    <tr>\n",
       "      <th>3</th>\n",
       "      <td>Top Cinza Marca AlfaX</td>\n",
       "      <td>968</td>\n",
       "      <td>0.107103</td>\n",
       "    </tr>\n",
       "    <tr>\n",
       "      <th>4</th>\n",
       "      <td>Top Cinza Marca BetaY</td>\n",
       "      <td>1041</td>\n",
       "      <td>0.115180</td>\n",
       "    </tr>\n",
       "    <tr>\n",
       "      <th>5</th>\n",
       "      <td>Top Cinza Marca GammaZ</td>\n",
       "      <td>984</td>\n",
       "      <td>0.108874</td>\n",
       "    </tr>\n",
       "    <tr>\n",
       "      <th>6</th>\n",
       "      <td>Top Marca AlfaX</td>\n",
       "      <td>980</td>\n",
       "      <td>0.108431</td>\n",
       "    </tr>\n",
       "    <tr>\n",
       "      <th>7</th>\n",
       "      <td>Top Marca BetaY</td>\n",
       "      <td>1045</td>\n",
       "      <td>0.115623</td>\n",
       "    </tr>\n",
       "    <tr>\n",
       "      <th>8</th>\n",
       "      <td>Top Marca GammaZ</td>\n",
       "      <td>1481</td>\n",
       "      <td>0.163864</td>\n",
       "    </tr>\n",
       "  </tbody>\n",
       "</table>\n",
       "</div>"
      ],
      "text/plain": [
       "          descrição_produto  unidades_vendidas  percentual_produto\n",
       "0   Bottom Azul Marca AlfaX                531            0.058752\n",
       "1  Bottom Preto Marca AlfaX                985            0.108984\n",
       "2  Bottom Preto Marca BetaY               1023            0.113189\n",
       "3     Top Cinza Marca AlfaX                968            0.107103\n",
       "4     Top Cinza Marca BetaY               1041            0.115180\n",
       "5    Top Cinza Marca GammaZ                984            0.108874\n",
       "6           Top Marca AlfaX                980            0.108431\n",
       "7           Top Marca BetaY               1045            0.115623\n",
       "8          Top Marca GammaZ               1481            0.163864"
      ]
     },
     "execution_count": 31,
     "metadata": {},
     "output_type": "execute_result"
    }
   ],
   "source": [
    "\n",
    "_tabela_produtos_vendidos_22 = _df_22.groupby(['descrição_produto'],as_index=False).agg({'unidades_vendidas':'sum'})\n",
    "_tabela_produtos_vendidos_22['total_vendido'] = _tabela_produtos_vendidos_22['unidades_vendidas'].sum()\n",
    "_tabela_produtos_vendidos_22['percentual_produto'] = _tabela_produtos_vendidos_22['unidades_vendidas'] / _tabela_produtos_vendidos_22['total_vendido']\n",
    "_tabela_produtos_vendidos_22 = _tabela_produtos_vendidos_22.drop(columns=['total_vendido'])\n",
    "_tabela_produtos_vendidos_22"
   ]
  },
  {
   "cell_type": "code",
   "execution_count": 32,
   "id": "6955d27b",
   "metadata": {
    "execution": {
     "iopub.execute_input": "2022-11-07T04:31:36.111639Z",
     "iopub.status.busy": "2022-11-07T04:31:36.110535Z",
     "iopub.status.idle": "2022-11-07T04:31:36.501576Z",
     "shell.execute_reply": "2022-11-07T04:31:36.499995Z"
    },
    "papermill": {
     "duration": 0.421238,
     "end_time": "2022-11-07T04:31:36.504558",
     "exception": false,
     "start_time": "2022-11-07T04:31:36.083320",
     "status": "completed"
    },
    "tags": []
   },
   "outputs": [
    {
     "data": {
      "image/png": "[encoded data removed]",
      "text/plain": [
       "<Figure size 720x576 with 1 Axes>"
      ]
     },
     "metadata": {},
     "output_type": "display_data"
    }
   ],
   "source": [
    "#define data\n",
    "data = _tabela_produtos_vendidos_22['unidades_vendidas']\n",
    "labels = _tabela_produtos_vendidos_22['descrição_produto']\n",
    "label_ano = _df_22['ano'].unique()[0]\n",
    "\n",
    "#define Seaborn color palette to use\n",
    "colors = sns.color_palette('bright')[0:8]\n",
    "\n",
    "#create pie chart\n",
    "fig, ax = plt.subplots(figsize=(10, 8), facecolor='white')\n",
    "\n",
    "plt.pie(data, labels = labels, colors = colors, autopct='%.2f%%', pctdistance= 0.7, labeldistance= 1.1)\n",
    "ax.set_title(f\"Percentual de Vendas por Produto em {label_ano}\", fontsize=20)\n",
    "ax.legend(title=\"Produtos\", loc=\"center left\", bbox_to_anchor=(1.3, 0, 0.6, 1.1))\n",
    "\n",
    "plt.show()"
   ]
  },
  {
   "cell_type": "code",
   "execution_count": 33,
   "id": "83fb1908",
   "metadata": {
    "execution": {
     "iopub.execute_input": "2022-11-07T04:31:36.565835Z",
     "iopub.status.busy": "2022-11-07T04:31:36.565386Z",
     "iopub.status.idle": "2022-11-07T04:31:36.594721Z",
     "shell.execute_reply": "2022-11-07T04:31:36.593360Z"
    },
    "papermill": {
     "duration": 0.064372,
     "end_time": "2022-11-07T04:31:36.597417",
     "exception": false,
     "start_time": "2022-11-07T04:31:36.533045",
     "status": "completed"
    },
    "tags": []
   },
   "outputs": [
    {
     "data": {
      "text/html": [
       "<div>\n",
       "<style scoped>\n",
       "    .dataframe tbody tr th:only-of-type {\n",
       "        vertical-align: middle;\n",
       "    }\n",
       "\n",
       "    .dataframe tbody tr th {\n",
       "        vertical-align: top;\n",
       "    }\n",
       "\n",
       "    .dataframe thead th {\n",
       "        text-align: right;\n",
       "    }\n",
       "</style>\n",
       "<table border=\"1\" class=\"dataframe\">\n",
       "  <thead>\n",
       "    <tr style=\"text-align: right;\">\n",
       "      <th></th>\n",
       "      <th>id_trans</th>\n",
       "      <th>data</th>\n",
       "      <th>ano</th>\n",
       "      <th>mes</th>\n",
       "      <th>ano_mes</th>\n",
       "      <th>id_loja</th>\n",
       "      <th>id_produto</th>\n",
       "      <th>id_cliente</th>\n",
       "      <th>unidades_vendidas</th>\n",
       "      <th>valor_total</th>\n",
       "      <th>...</th>\n",
       "      <th>descrição_produto</th>\n",
       "      <th>categoria</th>\n",
       "      <th>cor</th>\n",
       "      <th>marca</th>\n",
       "      <th>uf</th>\n",
       "      <th>regiao</th>\n",
       "      <th>genero</th>\n",
       "      <th>faixa_idade</th>\n",
       "      <th>classe_social</th>\n",
       "      <th>preco</th>\n",
       "    </tr>\n",
       "  </thead>\n",
       "  <tbody>\n",
       "    <tr>\n",
       "      <th>3903</th>\n",
       "      <td>3904</td>\n",
       "      <td>2023-01-01</td>\n",
       "      <td>2023</td>\n",
       "      <td>01</td>\n",
       "      <td>2023-01</td>\n",
       "      <td>3</td>\n",
       "      <td>123001</td>\n",
       "      <td>90016</td>\n",
       "      <td>3</td>\n",
       "      <td>74.97</td>\n",
       "      <td>...</td>\n",
       "      <td>Top Cinza Marca GammaZ</td>\n",
       "      <td>Top</td>\n",
       "      <td>Cinza</td>\n",
       "      <td>GammaZ</td>\n",
       "      <td>SP</td>\n",
       "      <td>SUDESTE</td>\n",
       "      <td>Feminino</td>\n",
       "      <td>35-45</td>\n",
       "      <td>E</td>\n",
       "      <td>24.99</td>\n",
       "    </tr>\n",
       "    <tr>\n",
       "      <th>3897</th>\n",
       "      <td>3898</td>\n",
       "      <td>2023-01-01</td>\n",
       "      <td>2023</td>\n",
       "      <td>01</td>\n",
       "      <td>2023-01</td>\n",
       "      <td>7</td>\n",
       "      <td>123003</td>\n",
       "      <td>90042</td>\n",
       "      <td>2</td>\n",
       "      <td>61.98</td>\n",
       "      <td>...</td>\n",
       "      <td>Top Marca BetaY</td>\n",
       "      <td>Top</td>\n",
       "      <td>Vermelho</td>\n",
       "      <td>BetaY</td>\n",
       "      <td>RS</td>\n",
       "      <td>SUL</td>\n",
       "      <td>Masculino</td>\n",
       "      <td>25-35</td>\n",
       "      <td>C</td>\n",
       "      <td>30.99</td>\n",
       "    </tr>\n",
       "  </tbody>\n",
       "</table>\n",
       "<p>2 rows × 21 columns</p>\n",
       "</div>"
      ],
      "text/plain": [
       "     id_trans       data   ano mes  ano_mes id_loja id_produto id_cliente  \\\n",
       "3903     3904 2023-01-01  2023  01  2023-01       3     123001      90016   \n",
       "3897     3898 2023-01-01  2023  01  2023-01       7     123003      90042   \n",
       "\n",
       "      unidades_vendidas  valor_total  ...       descrição_produto categoria  \\\n",
       "3903                  3        74.97  ...  Top Cinza Marca GammaZ       Top   \n",
       "3897                  2        61.98  ...         Top Marca BetaY       Top   \n",
       "\n",
       "           cor   marca  uf   regiao     genero faixa_idade classe_social  \\\n",
       "3903     Cinza  GammaZ  SP  SUDESTE   Feminino       35-45             E   \n",
       "3897  Vermelho   BetaY  RS      SUL  Masculino       25-35             C   \n",
       "\n",
       "      preco  \n",
       "3903  24.99  \n",
       "3897  30.99  \n",
       "\n",
       "[2 rows x 21 columns]"
      ]
     },
     "execution_count": 33,
     "metadata": {},
     "output_type": "execute_result"
    }
   ],
   "source": [
    "_df_23 =  _df[_df['ano']=='2023']\n",
    "_df_23.head(2)"
   ]
  },
  {
   "cell_type": "code",
   "execution_count": 34,
   "id": "77964c2e",
   "metadata": {
    "execution": {
     "iopub.execute_input": "2022-11-07T04:31:36.656495Z",
     "iopub.status.busy": "2022-11-07T04:31:36.656038Z",
     "iopub.status.idle": "2022-11-07T04:31:36.676535Z",
     "shell.execute_reply": "2022-11-07T04:31:36.674771Z"
    },
    "papermill": {
     "duration": 0.052083,
     "end_time": "2022-11-07T04:31:36.679390",
     "exception": false,
     "start_time": "2022-11-07T04:31:36.627307",
     "status": "completed"
    },
    "tags": []
   },
   "outputs": [
    {
     "data": {
      "text/html": [
       "<div>\n",
       "<style scoped>\n",
       "    .dataframe tbody tr th:only-of-type {\n",
       "        vertical-align: middle;\n",
       "    }\n",
       "\n",
       "    .dataframe tbody tr th {\n",
       "        vertical-align: top;\n",
       "    }\n",
       "\n",
       "    .dataframe thead th {\n",
       "        text-align: right;\n",
       "    }\n",
       "</style>\n",
       "<table border=\"1\" class=\"dataframe\">\n",
       "  <thead>\n",
       "    <tr style=\"text-align: right;\">\n",
       "      <th></th>\n",
       "      <th>descrição_produto</th>\n",
       "      <th>unidades_vendidas</th>\n",
       "      <th>percentual_produto</th>\n",
       "    </tr>\n",
       "  </thead>\n",
       "  <tbody>\n",
       "    <tr>\n",
       "      <th>0</th>\n",
       "      <td>Bottom BetaY</td>\n",
       "      <td>419</td>\n",
       "      <td>0.047068</td>\n",
       "    </tr>\n",
       "    <tr>\n",
       "      <th>1</th>\n",
       "      <td>Bottom GammaZ</td>\n",
       "      <td>857</td>\n",
       "      <td>0.096271</td>\n",
       "    </tr>\n",
       "    <tr>\n",
       "      <th>2</th>\n",
       "      <td>Bottom Preto Marca AlfaX</td>\n",
       "      <td>870</td>\n",
       "      <td>0.097731</td>\n",
       "    </tr>\n",
       "    <tr>\n",
       "      <th>3</th>\n",
       "      <td>Bottom Preto Marca BetaY</td>\n",
       "      <td>903</td>\n",
       "      <td>0.101438</td>\n",
       "    </tr>\n",
       "    <tr>\n",
       "      <th>4</th>\n",
       "      <td>Top Cinza Marca AlfaX</td>\n",
       "      <td>943</td>\n",
       "      <td>0.105931</td>\n",
       "    </tr>\n",
       "    <tr>\n",
       "      <th>5</th>\n",
       "      <td>Top Cinza Marca BetaY</td>\n",
       "      <td>929</td>\n",
       "      <td>0.104359</td>\n",
       "    </tr>\n",
       "    <tr>\n",
       "      <th>6</th>\n",
       "      <td>Top Cinza Marca GammaZ</td>\n",
       "      <td>455</td>\n",
       "      <td>0.051112</td>\n",
       "    </tr>\n",
       "    <tr>\n",
       "      <th>7</th>\n",
       "      <td>Top Marca AlfaX</td>\n",
       "      <td>887</td>\n",
       "      <td>0.099641</td>\n",
       "    </tr>\n",
       "    <tr>\n",
       "      <th>8</th>\n",
       "      <td>Top Marca BetaY</td>\n",
       "      <td>891</td>\n",
       "      <td>0.100090</td>\n",
       "    </tr>\n",
       "    <tr>\n",
       "      <th>9</th>\n",
       "      <td>Top Marca GammaZ</td>\n",
       "      <td>1748</td>\n",
       "      <td>0.196360</td>\n",
       "    </tr>\n",
       "  </tbody>\n",
       "</table>\n",
       "</div>"
      ],
      "text/plain": [
       "          descrição_produto  unidades_vendidas  percentual_produto\n",
       "0              Bottom BetaY                419            0.047068\n",
       "1             Bottom GammaZ                857            0.096271\n",
       "2  Bottom Preto Marca AlfaX                870            0.097731\n",
       "3  Bottom Preto Marca BetaY                903            0.101438\n",
       "4     Top Cinza Marca AlfaX                943            0.105931\n",
       "5     Top Cinza Marca BetaY                929            0.104359\n",
       "6    Top Cinza Marca GammaZ                455            0.051112\n",
       "7           Top Marca AlfaX                887            0.099641\n",
       "8           Top Marca BetaY                891            0.100090\n",
       "9          Top Marca GammaZ               1748            0.196360"
      ]
     },
     "execution_count": 34,
     "metadata": {},
     "output_type": "execute_result"
    }
   ],
   "source": [
    "\n",
    "_tabela_produtos_vendidos_23 = _df_23.groupby(['descrição_produto'],as_index=False).agg({'unidades_vendidas':'sum'})\n",
    "_tabela_produtos_vendidos_23['total_vendido'] = _tabela_produtos_vendidos_23['unidades_vendidas'].sum()\n",
    "_tabela_produtos_vendidos_23['percentual_produto'] = _tabela_produtos_vendidos_23['unidades_vendidas'] / _tabela_produtos_vendidos_23['total_vendido']\n",
    "_tabela_produtos_vendidos_23 = _tabela_produtos_vendidos_23.drop(columns=['total_vendido'])\n",
    "_tabela_produtos_vendidos_23"
   ]
  },
  {
   "cell_type": "code",
   "execution_count": 35,
   "id": "803febb9",
   "metadata": {
    "execution": {
     "iopub.execute_input": "2022-11-07T04:31:36.736729Z",
     "iopub.status.busy": "2022-11-07T04:31:36.736182Z",
     "iopub.status.idle": "2022-11-07T04:31:37.066771Z",
     "shell.execute_reply": "2022-11-07T04:31:37.065725Z"
    },
    "papermill": {
     "duration": 0.36236,
     "end_time": "2022-11-07T04:31:37.069441",
     "exception": false,
     "start_time": "2022-11-07T04:31:36.707081",
     "status": "completed"
    },
    "tags": []
   },
   "outputs": [
    {
     "data": {
      "image/png": "[encoded data removed]",
      "text/plain": [
       "<Figure size 720x576 with 1 Axes>"
      ]
     },
     "metadata": {},
     "output_type": "display_data"
    }
   ],
   "source": [
    "#define data\n",
    "data = _tabela_produtos_vendidos_23['unidades_vendidas']\n",
    "labels = _tabela_produtos_vendidos_23['descrição_produto']\n",
    "label_ano = _df_23['ano'].unique()[0]\n",
    "\n",
    "#define Seaborn color palette to use\n",
    "colors = sns.color_palette('bright')[0:8]\n",
    "\n",
    "#create pie chart\n",
    "fig, ax = plt.subplots(figsize=(10, 8), facecolor='white')\n",
    "\n",
    "plt.pie(data, labels = labels, colors = colors, autopct='%.2f%%', pctdistance= 0.7, labeldistance= 1.1)\n",
    "ax.set_title(f\"Percentual de Vendas por Produto em {label_ano}\", fontsize=20)\n",
    "ax.legend(title=\"Produtos\", loc=\"center left\", bbox_to_anchor=(1.3, 0, 0.6, 1.1))\n",
    "\n",
    "plt.show()"
   ]
  },
  {
   "cell_type": "markdown",
   "id": "ec241304",
   "metadata": {
    "papermill": {
     "duration": 0.029697,
     "end_time": "2022-11-07T04:31:37.128503",
     "exception": false,
     "start_time": "2022-11-07T04:31:37.098806",
     "status": "completed"
    },
    "tags": []
   },
   "source": [
    "Em 2022 o produto mais vendido foi o Top Marca GammaZ com 16,98% de participação e em 2023 esse mesmo produto teve aumento registrando 19,64% aumento de 3,25%. "
   ]
  },
  {
   "cell_type": "markdown",
   "id": "bd76ad8e",
   "metadata": {
    "papermill": {
     "duration": 0.028965,
     "end_time": "2022-11-07T04:31:37.186747",
     "exception": false,
     "start_time": "2022-11-07T04:31:37.157782",
     "status": "completed"
    },
    "tags": []
   },
   "source": [
    "Meses de comparação: "
   ]
  },
  {
   "cell_type": "code",
   "execution_count": 36,
   "id": "9ec0de26",
   "metadata": {
    "execution": {
     "iopub.execute_input": "2022-11-07T04:31:37.247787Z",
     "iopub.status.busy": "2022-11-07T04:31:37.246777Z",
     "iopub.status.idle": "2022-11-07T04:31:37.256382Z",
     "shell.execute_reply": "2022-11-07T04:31:37.254947Z"
    },
    "papermill": {
     "duration": 0.042303,
     "end_time": "2022-11-07T04:31:37.258768",
     "exception": false,
     "start_time": "2022-11-07T04:31:37.216465",
     "status": "completed"
    },
    "tags": []
   },
   "outputs": [
    {
     "name": "stdout",
     "output_type": "stream",
     "text": [
      "Períodos 2022: ['2022-01' '2022-02' '2022-03' '2022-04' '2022-05' '2022-06' '2022-07'\n",
      " '2022-08' '2022-09']\n",
      "Períodos 2023: ['2023-01' '2023-02' '2023-03' '2023-04' '2023-05' '2023-06' '2023-07'\n",
      " '2023-08' '2023-09']\n"
     ]
    }
   ],
   "source": [
    "_df_ano_mes_22 = _df_22['ano_mes'].unique()\n",
    "_df_ano_mes_23 = _df_23['ano_mes'].unique()\n",
    "\n",
    "print(f\"Períodos 2022: {_df_ano_mes_22}\\nPeríodos 2023: {_df_ano_mes_23}\")"
   ]
  },
  {
   "cell_type": "markdown",
   "id": "a25c5df2",
   "metadata": {
    "papermill": {
     "duration": 0.028872,
     "end_time": "2022-11-07T04:31:37.317147",
     "exception": false,
     "start_time": "2022-11-07T04:31:37.288275",
     "status": "completed"
    },
    "tags": []
   },
   "source": [
    "## Quantidade Vendidas por Categoria Cor e Marca somente com promoção ativa."
   ]
  },
  {
   "cell_type": "code",
   "execution_count": 37,
   "id": "641b9925",
   "metadata": {
    "execution": {
     "iopub.execute_input": "2022-11-07T04:31:37.378397Z",
     "iopub.status.busy": "2022-11-07T04:31:37.377232Z",
     "iopub.status.idle": "2022-11-07T04:31:37.404179Z",
     "shell.execute_reply": "2022-11-07T04:31:37.402846Z"
    },
    "papermill": {
     "duration": 0.060153,
     "end_time": "2022-11-07T04:31:37.406737",
     "exception": false,
     "start_time": "2022-11-07T04:31:37.346584",
     "status": "completed"
    },
    "tags": []
   },
   "outputs": [
    {
     "data": {
      "text/html": [
       "<div>\n",
       "<style scoped>\n",
       "    .dataframe tbody tr th:only-of-type {\n",
       "        vertical-align: middle;\n",
       "    }\n",
       "\n",
       "    .dataframe tbody tr th {\n",
       "        vertical-align: top;\n",
       "    }\n",
       "\n",
       "    .dataframe thead th {\n",
       "        text-align: right;\n",
       "    }\n",
       "</style>\n",
       "<table border=\"1\" class=\"dataframe\">\n",
       "  <thead>\n",
       "    <tr style=\"text-align: right;\">\n",
       "      <th></th>\n",
       "      <th>sku</th>\n",
       "      <th>unidades_vendidas</th>\n",
       "      <th>percentual_produto</th>\n",
       "    </tr>\n",
       "  </thead>\n",
       "  <tbody>\n",
       "    <tr>\n",
       "      <th>0</th>\n",
       "      <td>Bottom|Azul|AlfaX</td>\n",
       "      <td>531</td>\n",
       "      <td>5.875194</td>\n",
       "    </tr>\n",
       "    <tr>\n",
       "      <th>1</th>\n",
       "      <td>Bottom|Preto|AlfaX</td>\n",
       "      <td>985</td>\n",
       "      <td>10.898429</td>\n",
       "    </tr>\n",
       "    <tr>\n",
       "      <th>2</th>\n",
       "      <td>Bottom|Preto|BetaY</td>\n",
       "      <td>1023</td>\n",
       "      <td>11.318876</td>\n",
       "    </tr>\n",
       "    <tr>\n",
       "      <th>3</th>\n",
       "      <td>Top|Cinza|AlfaX</td>\n",
       "      <td>968</td>\n",
       "      <td>10.710334</td>\n",
       "    </tr>\n",
       "    <tr>\n",
       "      <th>4</th>\n",
       "      <td>Top|Cinza|BetaY</td>\n",
       "      <td>1041</td>\n",
       "      <td>11.518035</td>\n",
       "    </tr>\n",
       "    <tr>\n",
       "      <th>5</th>\n",
       "      <td>Top|Cinza|GammaZ</td>\n",
       "      <td>984</td>\n",
       "      <td>10.887364</td>\n",
       "    </tr>\n",
       "    <tr>\n",
       "      <th>6</th>\n",
       "      <td>Top|Vermelho|AlfaX</td>\n",
       "      <td>980</td>\n",
       "      <td>10.843107</td>\n",
       "    </tr>\n",
       "    <tr>\n",
       "      <th>7</th>\n",
       "      <td>Top|Vermelho|BetaY</td>\n",
       "      <td>1045</td>\n",
       "      <td>11.562293</td>\n",
       "    </tr>\n",
       "    <tr>\n",
       "      <th>8</th>\n",
       "      <td>Top|Vermelho|GammaZ</td>\n",
       "      <td>1481</td>\n",
       "      <td>16.386369</td>\n",
       "    </tr>\n",
       "  </tbody>\n",
       "</table>\n",
       "</div>"
      ],
      "text/plain": [
       "                   sku  unidades_vendidas  percentual_produto\n",
       "0    Bottom|Azul|AlfaX                531            5.875194\n",
       "1   Bottom|Preto|AlfaX                985           10.898429\n",
       "2   Bottom|Preto|BetaY               1023           11.318876\n",
       "3      Top|Cinza|AlfaX                968           10.710334\n",
       "4      Top|Cinza|BetaY               1041           11.518035\n",
       "5     Top|Cinza|GammaZ                984           10.887364\n",
       "6   Top|Vermelho|AlfaX                980           10.843107\n",
       "7   Top|Vermelho|BetaY               1045           11.562293\n",
       "8  Top|Vermelho|GammaZ               1481           16.386369"
      ]
     },
     "execution_count": 37,
     "metadata": {},
     "output_type": "execute_result"
    }
   ],
   "source": [
    "_tabela_cat_cor_marc_vendidos_22 = _df_22.groupby(['categoria', 'cor', 'marca'],as_index=False).agg({'unidades_vendidas':'sum'})\n",
    "_tabela_cat_cor_marc_vendidos_22['total_vendido'] = _tabela_cat_cor_marc_vendidos_22['unidades_vendidas'].sum()\n",
    "_tabela_cat_cor_marc_vendidos_22['percentual_produto'] = _tabela_cat_cor_marc_vendidos_22['unidades_vendidas'] / _tabela_cat_cor_marc_vendidos_22['total_vendido'] * 100\n",
    "_tabela_cat_cor_marc_vendidos_22 = _tabela_cat_cor_marc_vendidos_22.drop(columns=['total_vendido'])\n",
    "_tabela_cat_cor_marc_vendidos_22['sku'] = _tabela_cat_cor_marc_vendidos_22['categoria'] + '|' + _tabela_cat_cor_marc_vendidos_22['cor'] + '|' + _tabela_cat_cor_marc_vendidos_22['marca']\n",
    "_tabela_cat_cor_marc_vendidos_22 = _tabela_cat_cor_marc_vendidos_22[['sku', 'unidades_vendidas', 'percentual_produto']]\n",
    "_tabela_cat_cor_marc_vendidos_22"
   ]
  },
  {
   "cell_type": "code",
   "execution_count": 38,
   "id": "4ebf3525",
   "metadata": {
    "execution": {
     "iopub.execute_input": "2022-11-07T04:31:37.469673Z",
     "iopub.status.busy": "2022-11-07T04:31:37.469236Z",
     "iopub.status.idle": "2022-11-07T04:31:37.786975Z",
     "shell.execute_reply": "2022-11-07T04:31:37.785543Z"
    },
    "papermill": {
     "duration": 0.353352,
     "end_time": "2022-11-07T04:31:37.790187",
     "exception": false,
     "start_time": "2022-11-07T04:31:37.436835",
     "status": "completed"
    },
    "tags": []
   },
   "outputs": [
    {
     "data": {
      "image/png": "[encoded data removed]",
      "text/plain": [
       "<Figure size 720x576 with 1 Axes>"
      ]
     },
     "metadata": {},
     "output_type": "display_data"
    }
   ],
   "source": [
    "#define data\n",
    "data = _tabela_cat_cor_marc_vendidos_22['unidades_vendidas']\n",
    "labels = _tabela_cat_cor_marc_vendidos_22['sku']\n",
    "label_ano = _df_22['ano'].unique()[0]\n",
    "\n",
    "#define Seaborn color palette to use\n",
    "colors = sns.color_palette('bright')[0:8]\n",
    "\n",
    "#create pie chart\n",
    "fig, ax = plt.subplots(figsize=(10, 8), facecolor='white')\n",
    "\n",
    "plt.pie(data, labels = labels, colors = colors, autopct='%.2f%%', pctdistance= 0.7, labeldistance= 1.1)\n",
    "ax.set_title(f\"Percentual de Vendas por Categoria Cor e Marca em {label_ano}\", fontsize=20)\n",
    "ax.legend(title=\"Produtos\", loc=\"center left\", bbox_to_anchor=(1.3, 0, 0.6, 1.1))\n",
    "\n",
    "plt.show()"
   ]
  },
  {
   "cell_type": "code",
   "execution_count": 39,
   "id": "109a95d0",
   "metadata": {
    "execution": {
     "iopub.execute_input": "2022-11-07T04:31:37.854351Z",
     "iopub.status.busy": "2022-11-07T04:31:37.853692Z",
     "iopub.status.idle": "2022-11-07T04:31:37.879940Z",
     "shell.execute_reply": "2022-11-07T04:31:37.878599Z"
    },
    "papermill": {
     "duration": 0.061904,
     "end_time": "2022-11-07T04:31:37.883386",
     "exception": false,
     "start_time": "2022-11-07T04:31:37.821482",
     "status": "completed"
    },
    "tags": []
   },
   "outputs": [
    {
     "data": {
      "text/html": [
       "<div>\n",
       "<style scoped>\n",
       "    .dataframe tbody tr th:only-of-type {\n",
       "        vertical-align: middle;\n",
       "    }\n",
       "\n",
       "    .dataframe tbody tr th {\n",
       "        vertical-align: top;\n",
       "    }\n",
       "\n",
       "    .dataframe thead th {\n",
       "        text-align: right;\n",
       "    }\n",
       "</style>\n",
       "<table border=\"1\" class=\"dataframe\">\n",
       "  <thead>\n",
       "    <tr style=\"text-align: right;\">\n",
       "      <th></th>\n",
       "      <th>sku</th>\n",
       "      <th>unidades_vendidas</th>\n",
       "      <th>percentual_produto</th>\n",
       "    </tr>\n",
       "  </thead>\n",
       "  <tbody>\n",
       "    <tr>\n",
       "      <th>0</th>\n",
       "      <td>Bottom|Azul|BetaY</td>\n",
       "      <td>419</td>\n",
       "      <td>4.706807</td>\n",
       "    </tr>\n",
       "    <tr>\n",
       "      <th>1</th>\n",
       "      <td>Bottom|Azul|GammaZ</td>\n",
       "      <td>857</td>\n",
       "      <td>9.627050</td>\n",
       "    </tr>\n",
       "    <tr>\n",
       "      <th>2</th>\n",
       "      <td>Bottom|Preto|AlfaX</td>\n",
       "      <td>870</td>\n",
       "      <td>9.773085</td>\n",
       "    </tr>\n",
       "    <tr>\n",
       "      <th>3</th>\n",
       "      <td>Bottom|Preto|BetaY</td>\n",
       "      <td>903</td>\n",
       "      <td>10.143788</td>\n",
       "    </tr>\n",
       "    <tr>\n",
       "      <th>4</th>\n",
       "      <td>Top|Cinza|AlfaX</td>\n",
       "      <td>943</td>\n",
       "      <td>10.593125</td>\n",
       "    </tr>\n",
       "    <tr>\n",
       "      <th>5</th>\n",
       "      <td>Top|Cinza|BetaY</td>\n",
       "      <td>929</td>\n",
       "      <td>10.435857</td>\n",
       "    </tr>\n",
       "    <tr>\n",
       "      <th>6</th>\n",
       "      <td>Top|Cinza|GammaZ</td>\n",
       "      <td>455</td>\n",
       "      <td>5.111211</td>\n",
       "    </tr>\n",
       "    <tr>\n",
       "      <th>7</th>\n",
       "      <td>Top|Vermelho|AlfaX</td>\n",
       "      <td>887</td>\n",
       "      <td>9.964053</td>\n",
       "    </tr>\n",
       "    <tr>\n",
       "      <th>8</th>\n",
       "      <td>Top|Vermelho|BetaY</td>\n",
       "      <td>891</td>\n",
       "      <td>10.008987</td>\n",
       "    </tr>\n",
       "    <tr>\n",
       "      <th>9</th>\n",
       "      <td>Top|Vermelho|GammaZ</td>\n",
       "      <td>1748</td>\n",
       "      <td>19.636037</td>\n",
       "    </tr>\n",
       "  </tbody>\n",
       "</table>\n",
       "</div>"
      ],
      "text/plain": [
       "                   sku  unidades_vendidas  percentual_produto\n",
       "0    Bottom|Azul|BetaY                419            4.706807\n",
       "1   Bottom|Azul|GammaZ                857            9.627050\n",
       "2   Bottom|Preto|AlfaX                870            9.773085\n",
       "3   Bottom|Preto|BetaY                903           10.143788\n",
       "4      Top|Cinza|AlfaX                943           10.593125\n",
       "5      Top|Cinza|BetaY                929           10.435857\n",
       "6     Top|Cinza|GammaZ                455            5.111211\n",
       "7   Top|Vermelho|AlfaX                887            9.964053\n",
       "8   Top|Vermelho|BetaY                891           10.008987\n",
       "9  Top|Vermelho|GammaZ               1748           19.636037"
      ]
     },
     "execution_count": 39,
     "metadata": {},
     "output_type": "execute_result"
    }
   ],
   "source": [
    "_tabela_cat_cor_marc_vendidos_23 = _df_23.groupby(['categoria', 'cor', 'marca'],as_index=False).agg({'unidades_vendidas':'sum'})\n",
    "_tabela_cat_cor_marc_vendidos_23['total_vendido'] = _tabela_cat_cor_marc_vendidos_23['unidades_vendidas'].sum()\n",
    "_tabela_cat_cor_marc_vendidos_23['percentual_produto'] = _tabela_cat_cor_marc_vendidos_23['unidades_vendidas'] / _tabela_cat_cor_marc_vendidos_23['total_vendido'] * 100\n",
    "_tabela_cat_cor_marc_vendidos_23 = _tabela_cat_cor_marc_vendidos_23.drop(columns=['total_vendido'])\n",
    "_tabela_cat_cor_marc_vendidos_23['sku'] = _tabela_cat_cor_marc_vendidos_23['categoria'] + '|' + _tabela_cat_cor_marc_vendidos_23['cor'] + '|' + _tabela_cat_cor_marc_vendidos_23['marca']\n",
    "_tabela_cat_cor_marc_vendidos_23 = _tabela_cat_cor_marc_vendidos_23[['sku', 'unidades_vendidas', 'percentual_produto']]\n",
    "_tabela_cat_cor_marc_vendidos_23"
   ]
  },
  {
   "cell_type": "code",
   "execution_count": 40,
   "id": "44a49025",
   "metadata": {
    "execution": {
     "iopub.execute_input": "2022-11-07T04:31:37.948578Z",
     "iopub.status.busy": "2022-11-07T04:31:37.948122Z",
     "iopub.status.idle": "2022-11-07T04:31:38.274822Z",
     "shell.execute_reply": "2022-11-07T04:31:38.273381Z"
    },
    "papermill": {
     "duration": 0.363563,
     "end_time": "2022-11-07T04:31:38.278092",
     "exception": false,
     "start_time": "2022-11-07T04:31:37.914529",
     "status": "completed"
    },
    "tags": []
   },
   "outputs": [
    {
     "data": {
      "image/png": "[encoded data removed]",
      "text/plain": [
       "<Figure size 720x576 with 1 Axes>"
      ]
     },
     "metadata": {},
     "output_type": "display_data"
    }
   ],
   "source": [
    "#define data\n",
    "data = _tabela_cat_cor_marc_vendidos_23['unidades_vendidas']\n",
    "labels = _tabela_cat_cor_marc_vendidos_23['sku']\n",
    "label_ano = _df_23['ano'].unique()[0]\n",
    "\n",
    "#define Seaborn color palette to use\n",
    "colors = sns.color_palette('bright')[0:8]\n",
    "\n",
    "#create pie chart\n",
    "fig, ax = plt.subplots(figsize=(10, 8), facecolor='white')\n",
    "\n",
    "plt.pie(data, labels = labels, colors = colors, autopct='%.2f%%', pctdistance= 0.7, labeldistance= 1.1)\n",
    "ax.set_title(f\"Percentual de Vendas por Categoria Cor e Marca em {label_ano}\", fontsize=20)\n",
    "ax.legend(title=\"Produtos\", loc=\"center left\", bbox_to_anchor=(1.3, 0, 0.6, 1.1))\n",
    "\n",
    "plt.show()"
   ]
  },
  {
   "cell_type": "markdown",
   "id": "0c27369d",
   "metadata": {
    "papermill": {
     "duration": 0.032888,
     "end_time": "2022-11-07T04:31:38.344222",
     "exception": false,
     "start_time": "2022-11-07T04:31:38.311334",
     "status": "completed"
    },
    "tags": []
   },
   "source": [
    "Ao Agruparmos por Categoria, Cor e Marca podemos ver que o percentual de pontos permanece em 3,25% indicando que o desconto no preço devido a promoção obeteve um incremento nas vendas."
   ]
  },
  {
   "cell_type": "markdown",
   "id": "02e2d603",
   "metadata": {
    "papermill": {
     "duration": 0.033508,
     "end_time": "2022-11-07T04:31:38.410474",
     "exception": false,
     "start_time": "2022-11-07T04:31:38.376966",
     "status": "completed"
    },
    "tags": []
   },
   "source": [
    "## Receita 2022 e 2023 por Mês por Estado e Região"
   ]
  },
  {
   "cell_type": "code",
   "execution_count": 41,
   "id": "65f6a813",
   "metadata": {
    "execution": {
     "iopub.execute_input": "2022-11-07T04:31:38.479341Z",
     "iopub.status.busy": "2022-11-07T04:31:38.478424Z",
     "iopub.status.idle": "2022-11-07T04:31:38.511352Z",
     "shell.execute_reply": "2022-11-07T04:31:38.509665Z"
    },
    "papermill": {
     "duration": 0.070234,
     "end_time": "2022-11-07T04:31:38.514059",
     "exception": false,
     "start_time": "2022-11-07T04:31:38.443825",
     "status": "completed"
    },
    "tags": []
   },
   "outputs": [
    {
     "data": {
      "text/html": [
       "<div>\n",
       "<style scoped>\n",
       "    .dataframe tbody tr th:only-of-type {\n",
       "        vertical-align: middle;\n",
       "    }\n",
       "\n",
       "    .dataframe tbody tr th {\n",
       "        vertical-align: top;\n",
       "    }\n",
       "\n",
       "    .dataframe thead th {\n",
       "        text-align: right;\n",
       "    }\n",
       "</style>\n",
       "<table border=\"1\" class=\"dataframe\">\n",
       "  <thead>\n",
       "    <tr style=\"text-align: right;\">\n",
       "      <th></th>\n",
       "      <th></th>\n",
       "      <th></th>\n",
       "      <th>valor_total</th>\n",
       "    </tr>\n",
       "    <tr>\n",
       "      <th>ano_mes</th>\n",
       "      <th>uf</th>\n",
       "      <th>regiao</th>\n",
       "      <th></th>\n",
       "    </tr>\n",
       "  </thead>\n",
       "  <tbody>\n",
       "    <tr>\n",
       "      <th rowspan=\"5\" valign=\"top\">2022-01</th>\n",
       "      <th>AM</th>\n",
       "      <th>NORTE</th>\n",
       "      <td>2253.218</td>\n",
       "    </tr>\n",
       "    <tr>\n",
       "      <th>BH</th>\n",
       "      <th>NORDESTE</th>\n",
       "      <td>9828.066</td>\n",
       "    </tr>\n",
       "    <tr>\n",
       "      <th>MG</th>\n",
       "      <th>CENTRO-OESTE</th>\n",
       "      <td>4295.969</td>\n",
       "    </tr>\n",
       "    <tr>\n",
       "      <th>RS</th>\n",
       "      <th>SUL</th>\n",
       "      <td>10122.104</td>\n",
       "    </tr>\n",
       "    <tr>\n",
       "      <th>SP</th>\n",
       "      <th>SUDESTE</th>\n",
       "      <td>21539.473</td>\n",
       "    </tr>\n",
       "    <tr>\n",
       "      <th rowspan=\"5\" valign=\"top\">2022-02</th>\n",
       "      <th>AM</th>\n",
       "      <th>NORTE</th>\n",
       "      <td>1865.803</td>\n",
       "    </tr>\n",
       "    <tr>\n",
       "      <th>BH</th>\n",
       "      <th>NORDESTE</th>\n",
       "      <td>4975.316</td>\n",
       "    </tr>\n",
       "    <tr>\n",
       "      <th>MG</th>\n",
       "      <th>CENTRO-OESTE</th>\n",
       "      <td>3435.209</td>\n",
       "    </tr>\n",
       "    <tr>\n",
       "      <th>RS</th>\n",
       "      <th>SUL</th>\n",
       "      <td>6603.548</td>\n",
       "    </tr>\n",
       "    <tr>\n",
       "      <th>SP</th>\n",
       "      <th>SUDESTE</th>\n",
       "      <td>16607.990</td>\n",
       "    </tr>\n",
       "    <tr>\n",
       "      <th rowspan=\"5\" valign=\"top\">2022-03</th>\n",
       "      <th>AM</th>\n",
       "      <th>NORTE</th>\n",
       "      <td>4045.414</td>\n",
       "    </tr>\n",
       "    <tr>\n",
       "      <th>BH</th>\n",
       "      <th>NORDESTE</th>\n",
       "      <td>12152.878</td>\n",
       "    </tr>\n",
       "    <tr>\n",
       "      <th>MG</th>\n",
       "      <th>CENTRO-OESTE</th>\n",
       "      <td>7418.422</td>\n",
       "    </tr>\n",
       "    <tr>\n",
       "      <th>RS</th>\n",
       "      <th>SUL</th>\n",
       "      <td>14902.058</td>\n",
       "    </tr>\n",
       "    <tr>\n",
       "      <th>SP</th>\n",
       "      <th>SUDESTE</th>\n",
       "      <td>28818.340</td>\n",
       "    </tr>\n",
       "    <tr>\n",
       "      <th rowspan=\"5\" valign=\"top\">2022-04</th>\n",
       "      <th>AM</th>\n",
       "      <th>NORTE</th>\n",
       "      <td>2893.685</td>\n",
       "    </tr>\n",
       "    <tr>\n",
       "      <th>BH</th>\n",
       "      <th>NORDESTE</th>\n",
       "      <td>9775.328</td>\n",
       "    </tr>\n",
       "    <tr>\n",
       "      <th>MG</th>\n",
       "      <th>CENTRO-OESTE</th>\n",
       "      <td>5730.513</td>\n",
       "    </tr>\n",
       "    <tr>\n",
       "      <th>RS</th>\n",
       "      <th>SUL</th>\n",
       "      <td>8782.450</td>\n",
       "    </tr>\n",
       "    <tr>\n",
       "      <th>SP</th>\n",
       "      <th>SUDESTE</th>\n",
       "      <td>20998.636</td>\n",
       "    </tr>\n",
       "    <tr>\n",
       "      <th rowspan=\"5\" valign=\"top\">2022-05</th>\n",
       "      <th>AM</th>\n",
       "      <th>NORTE</th>\n",
       "      <td>2389.526</td>\n",
       "    </tr>\n",
       "    <tr>\n",
       "      <th>BH</th>\n",
       "      <th>NORDESTE</th>\n",
       "      <td>7448.523</td>\n",
       "    </tr>\n",
       "    <tr>\n",
       "      <th>MG</th>\n",
       "      <th>CENTRO-OESTE</th>\n",
       "      <td>6240.269</td>\n",
       "    </tr>\n",
       "    <tr>\n",
       "      <th>RS</th>\n",
       "      <th>SUL</th>\n",
       "      <td>11810.402</td>\n",
       "    </tr>\n",
       "    <tr>\n",
       "      <th>SP</th>\n",
       "      <th>SUDESTE</th>\n",
       "      <td>23872.876</td>\n",
       "    </tr>\n",
       "    <tr>\n",
       "      <th rowspan=\"5\" valign=\"top\">2022-06</th>\n",
       "      <th>AM</th>\n",
       "      <th>NORTE</th>\n",
       "      <td>2661.480</td>\n",
       "    </tr>\n",
       "    <tr>\n",
       "      <th>BH</th>\n",
       "      <th>NORDESTE</th>\n",
       "      <td>5335.953</td>\n",
       "    </tr>\n",
       "    <tr>\n",
       "      <th>MG</th>\n",
       "      <th>CENTRO-OESTE</th>\n",
       "      <td>4197.839</td>\n",
       "    </tr>\n",
       "    <tr>\n",
       "      <th>RS</th>\n",
       "      <th>SUL</th>\n",
       "      <td>7457.681</td>\n",
       "    </tr>\n",
       "    <tr>\n",
       "      <th>SP</th>\n",
       "      <th>SUDESTE</th>\n",
       "      <td>14005.801</td>\n",
       "    </tr>\n",
       "    <tr>\n",
       "      <th rowspan=\"5\" valign=\"top\">2022-07</th>\n",
       "      <th>AM</th>\n",
       "      <th>NORTE</th>\n",
       "      <td>2997.537</td>\n",
       "    </tr>\n",
       "    <tr>\n",
       "      <th>BH</th>\n",
       "      <th>NORDESTE</th>\n",
       "      <td>7638.462</td>\n",
       "    </tr>\n",
       "    <tr>\n",
       "      <th>MG</th>\n",
       "      <th>CENTRO-OESTE</th>\n",
       "      <td>5077.880</td>\n",
       "    </tr>\n",
       "    <tr>\n",
       "      <th>RS</th>\n",
       "      <th>SUL</th>\n",
       "      <td>9421.468</td>\n",
       "    </tr>\n",
       "    <tr>\n",
       "      <th>SP</th>\n",
       "      <th>SUDESTE</th>\n",
       "      <td>23307.623</td>\n",
       "    </tr>\n",
       "    <tr>\n",
       "      <th rowspan=\"5\" valign=\"top\">2022-08</th>\n",
       "      <th>AM</th>\n",
       "      <th>NORTE</th>\n",
       "      <td>2823.167</td>\n",
       "    </tr>\n",
       "    <tr>\n",
       "      <th>BH</th>\n",
       "      <th>NORDESTE</th>\n",
       "      <td>8280.032</td>\n",
       "    </tr>\n",
       "    <tr>\n",
       "      <th>MG</th>\n",
       "      <th>CENTRO-OESTE</th>\n",
       "      <td>5088.145</td>\n",
       "    </tr>\n",
       "    <tr>\n",
       "      <th>RS</th>\n",
       "      <th>SUL</th>\n",
       "      <td>9811.626</td>\n",
       "    </tr>\n",
       "    <tr>\n",
       "      <th>SP</th>\n",
       "      <th>SUDESTE</th>\n",
       "      <td>24765.564</td>\n",
       "    </tr>\n",
       "    <tr>\n",
       "      <th rowspan=\"5\" valign=\"top\">2022-09</th>\n",
       "      <th>AM</th>\n",
       "      <th>NORTE</th>\n",
       "      <td>3003.536</td>\n",
       "    </tr>\n",
       "    <tr>\n",
       "      <th>BH</th>\n",
       "      <th>NORDESTE</th>\n",
       "      <td>6868.071</td>\n",
       "    </tr>\n",
       "    <tr>\n",
       "      <th>MG</th>\n",
       "      <th>CENTRO-OESTE</th>\n",
       "      <td>5181.950</td>\n",
       "    </tr>\n",
       "    <tr>\n",
       "      <th>RS</th>\n",
       "      <th>SUL</th>\n",
       "      <td>8191.682</td>\n",
       "    </tr>\n",
       "    <tr>\n",
       "      <th>SP</th>\n",
       "      <th>SUDESTE</th>\n",
       "      <td>16874.039</td>\n",
       "    </tr>\n",
       "    <tr>\n",
       "      <th></th>\n",
       "      <th></th>\n",
       "      <th></th>\n",
       "      <td>421795.552</td>\n",
       "    </tr>\n",
       "  </tbody>\n",
       "</table>\n",
       "</div>"
      ],
      "text/plain": [
       "                         valor_total\n",
       "ano_mes uf regiao                   \n",
       "2022-01 AM NORTE            2253.218\n",
       "        BH NORDESTE         9828.066\n",
       "        MG CENTRO-OESTE     4295.969\n",
       "        RS SUL             10122.104\n",
       "        SP SUDESTE         21539.473\n",
       "2022-02 AM NORTE            1865.803\n",
       "        BH NORDESTE         4975.316\n",
       "        MG CENTRO-OESTE     3435.209\n",
       "        RS SUL              6603.548\n",
       "        SP SUDESTE         16607.990\n",
       "2022-03 AM NORTE            4045.414\n",
       "        BH NORDESTE        12152.878\n",
       "        MG CENTRO-OESTE     7418.422\n",
       "        RS SUL             14902.058\n",
       "        SP SUDESTE         28818.340\n",
       "2022-04 AM NORTE            2893.685\n",
       "        BH NORDESTE         9775.328\n",
       "        MG CENTRO-OESTE     5730.513\n",
       "        RS SUL              8782.450\n",
       "        SP SUDESTE         20998.636\n",
       "2022-05 AM NORTE            2389.526\n",
       "        BH NORDESTE         7448.523\n",
       "        MG CENTRO-OESTE     6240.269\n",
       "        RS SUL             11810.402\n",
       "        SP SUDESTE         23872.876\n",
       "2022-06 AM NORTE            2661.480\n",
       "        BH NORDESTE         5335.953\n",
       "        MG CENTRO-OESTE     4197.839\n",
       "        RS SUL              7457.681\n",
       "        SP SUDESTE         14005.801\n",
       "2022-07 AM NORTE            2997.537\n",
       "        BH NORDESTE         7638.462\n",
       "        MG CENTRO-OESTE     5077.880\n",
       "        RS SUL              9421.468\n",
       "        SP SUDESTE         23307.623\n",
       "2022-08 AM NORTE            2823.167\n",
       "        BH NORDESTE         8280.032\n",
       "        MG CENTRO-OESTE     5088.145\n",
       "        RS SUL              9811.626\n",
       "        SP SUDESTE         24765.564\n",
       "2022-09 AM NORTE            3003.536\n",
       "        BH NORDESTE         6868.071\n",
       "        MG CENTRO-OESTE     5181.950\n",
       "        RS SUL              8191.682\n",
       "        SP SUDESTE         16874.039\n",
       "                          421795.552"
      ]
     },
     "execution_count": 41,
     "metadata": {},
     "output_type": "execute_result"
    }
   ],
   "source": [
    "total_vendido_2022 = _df_22.groupby(['ano_mes', 'uf', 'regiao'], as_index=False).agg({'valor_total':'sum'})\n",
    "total_vendido_2022.loc['Total', 'valor_total'] = total_vendido_2022['valor_total'].sum()\n",
    "total_vendido_2022 = total_vendido_2022.fillna('')\n",
    "total_vendido_2022 = total_vendido_2022.set_index(['ano_mes', 'uf', 'regiao'])\n",
    "total_vendido_2022\n"
   ]
  },
  {
   "cell_type": "code",
   "execution_count": 42,
   "id": "fd32d983",
   "metadata": {
    "execution": {
     "iopub.execute_input": "2022-11-07T04:31:38.602413Z",
     "iopub.status.busy": "2022-11-07T04:31:38.601547Z",
     "iopub.status.idle": "2022-11-07T04:31:38.636583Z",
     "shell.execute_reply": "2022-11-07T04:31:38.635344Z"
    },
    "papermill": {
     "duration": 0.088518,
     "end_time": "2022-11-07T04:31:38.639139",
     "exception": false,
     "start_time": "2022-11-07T04:31:38.550621",
     "status": "completed"
    },
    "tags": []
   },
   "outputs": [
    {
     "data": {
      "text/html": [
       "<div>\n",
       "<style scoped>\n",
       "    .dataframe tbody tr th:only-of-type {\n",
       "        vertical-align: middle;\n",
       "    }\n",
       "\n",
       "    .dataframe tbody tr th {\n",
       "        vertical-align: top;\n",
       "    }\n",
       "\n",
       "    .dataframe thead th {\n",
       "        text-align: right;\n",
       "    }\n",
       "</style>\n",
       "<table border=\"1\" class=\"dataframe\">\n",
       "  <thead>\n",
       "    <tr style=\"text-align: right;\">\n",
       "      <th></th>\n",
       "      <th></th>\n",
       "      <th></th>\n",
       "      <th>valor_total</th>\n",
       "    </tr>\n",
       "    <tr>\n",
       "      <th>ano_mes</th>\n",
       "      <th>uf</th>\n",
       "      <th>regiao</th>\n",
       "      <th></th>\n",
       "    </tr>\n",
       "  </thead>\n",
       "  <tbody>\n",
       "    <tr>\n",
       "      <th rowspan=\"5\" valign=\"top\">2023-01</th>\n",
       "      <th>AM</th>\n",
       "      <th>NORTE</th>\n",
       "      <td>2413.9060</td>\n",
       "    </tr>\n",
       "    <tr>\n",
       "      <th>BH</th>\n",
       "      <th>NORDESTE</th>\n",
       "      <td>7103.4575</td>\n",
       "    </tr>\n",
       "    <tr>\n",
       "      <th>MG</th>\n",
       "      <th>CENTRO-OESTE</th>\n",
       "      <td>4855.0930</td>\n",
       "    </tr>\n",
       "    <tr>\n",
       "      <th>RS</th>\n",
       "      <th>SUL</th>\n",
       "      <td>10494.8055</td>\n",
       "    </tr>\n",
       "    <tr>\n",
       "      <th>SP</th>\n",
       "      <th>SUDESTE</th>\n",
       "      <td>17507.7025</td>\n",
       "    </tr>\n",
       "    <tr>\n",
       "      <th rowspan=\"5\" valign=\"top\">2023-02</th>\n",
       "      <th>AM</th>\n",
       "      <th>NORTE</th>\n",
       "      <td>2046.5700</td>\n",
       "    </tr>\n",
       "    <tr>\n",
       "      <th>BH</th>\n",
       "      <th>NORDESTE</th>\n",
       "      <td>6162.8730</td>\n",
       "    </tr>\n",
       "    <tr>\n",
       "      <th>MG</th>\n",
       "      <th>CENTRO-OESTE</th>\n",
       "      <td>2251.2615</td>\n",
       "    </tr>\n",
       "    <tr>\n",
       "      <th>RS</th>\n",
       "      <th>SUL</th>\n",
       "      <td>8933.7730</td>\n",
       "    </tr>\n",
       "    <tr>\n",
       "      <th>SP</th>\n",
       "      <th>SUDESTE</th>\n",
       "      <td>18357.7195</td>\n",
       "    </tr>\n",
       "    <tr>\n",
       "      <th rowspan=\"5\" valign=\"top\">2023-03</th>\n",
       "      <th>AM</th>\n",
       "      <th>NORTE</th>\n",
       "      <td>2253.9650</td>\n",
       "    </tr>\n",
       "    <tr>\n",
       "      <th>BH</th>\n",
       "      <th>NORDESTE</th>\n",
       "      <td>6468.1950</td>\n",
       "    </tr>\n",
       "    <tr>\n",
       "      <th>MG</th>\n",
       "      <th>CENTRO-OESTE</th>\n",
       "      <td>6781.6480</td>\n",
       "    </tr>\n",
       "    <tr>\n",
       "      <th>RS</th>\n",
       "      <th>SUL</th>\n",
       "      <td>12280.0910</td>\n",
       "    </tr>\n",
       "    <tr>\n",
       "      <th>SP</th>\n",
       "      <th>SUDESTE</th>\n",
       "      <td>27021.6785</td>\n",
       "    </tr>\n",
       "    <tr>\n",
       "      <th rowspan=\"5\" valign=\"top\">2023-04</th>\n",
       "      <th>AM</th>\n",
       "      <th>NORTE</th>\n",
       "      <td>2787.3920</td>\n",
       "    </tr>\n",
       "    <tr>\n",
       "      <th>BH</th>\n",
       "      <th>NORDESTE</th>\n",
       "      <td>8192.0815</td>\n",
       "    </tr>\n",
       "    <tr>\n",
       "      <th>MG</th>\n",
       "      <th>CENTRO-OESTE</th>\n",
       "      <td>5006.2605</td>\n",
       "    </tr>\n",
       "    <tr>\n",
       "      <th>RS</th>\n",
       "      <th>SUL</th>\n",
       "      <td>10116.2640</td>\n",
       "    </tr>\n",
       "    <tr>\n",
       "      <th>SP</th>\n",
       "      <th>SUDESTE</th>\n",
       "      <td>19032.3025</td>\n",
       "    </tr>\n",
       "    <tr>\n",
       "      <th rowspan=\"5\" valign=\"top\">2023-05</th>\n",
       "      <th>AM</th>\n",
       "      <th>NORTE</th>\n",
       "      <td>3147.9390</td>\n",
       "    </tr>\n",
       "    <tr>\n",
       "      <th>BH</th>\n",
       "      <th>NORDESTE</th>\n",
       "      <td>6803.1320</td>\n",
       "    </tr>\n",
       "    <tr>\n",
       "      <th>MG</th>\n",
       "      <th>CENTRO-OESTE</th>\n",
       "      <td>6659.9790</td>\n",
       "    </tr>\n",
       "    <tr>\n",
       "      <th>RS</th>\n",
       "      <th>SUL</th>\n",
       "      <td>8808.3040</td>\n",
       "    </tr>\n",
       "    <tr>\n",
       "      <th>SP</th>\n",
       "      <th>SUDESTE</th>\n",
       "      <td>20639.0245</td>\n",
       "    </tr>\n",
       "    <tr>\n",
       "      <th rowspan=\"5\" valign=\"top\">2023-06</th>\n",
       "      <th>AM</th>\n",
       "      <th>NORTE</th>\n",
       "      <td>3938.1490</td>\n",
       "    </tr>\n",
       "    <tr>\n",
       "      <th>BH</th>\n",
       "      <th>NORDESTE</th>\n",
       "      <td>12804.4005</td>\n",
       "    </tr>\n",
       "    <tr>\n",
       "      <th>MG</th>\n",
       "      <th>CENTRO-OESTE</th>\n",
       "      <td>6005.6405</td>\n",
       "    </tr>\n",
       "    <tr>\n",
       "      <th>RS</th>\n",
       "      <th>SUL</th>\n",
       "      <td>14857.5260</td>\n",
       "    </tr>\n",
       "    <tr>\n",
       "      <th>SP</th>\n",
       "      <th>SUDESTE</th>\n",
       "      <td>26648.6085</td>\n",
       "    </tr>\n",
       "    <tr>\n",
       "      <th rowspan=\"5\" valign=\"top\">2023-07</th>\n",
       "      <th>AM</th>\n",
       "      <th>NORTE</th>\n",
       "      <td>3279.5755</td>\n",
       "    </tr>\n",
       "    <tr>\n",
       "      <th>BH</th>\n",
       "      <th>NORDESTE</th>\n",
       "      <td>10876.0535</td>\n",
       "    </tr>\n",
       "    <tr>\n",
       "      <th>MG</th>\n",
       "      <th>CENTRO-OESTE</th>\n",
       "      <td>6175.2820</td>\n",
       "    </tr>\n",
       "    <tr>\n",
       "      <th>RS</th>\n",
       "      <th>SUL</th>\n",
       "      <td>11614.5040</td>\n",
       "    </tr>\n",
       "    <tr>\n",
       "      <th>SP</th>\n",
       "      <th>SUDESTE</th>\n",
       "      <td>26082.2125</td>\n",
       "    </tr>\n",
       "    <tr>\n",
       "      <th rowspan=\"5\" valign=\"top\">2023-08</th>\n",
       "      <th>AM</th>\n",
       "      <th>NORTE</th>\n",
       "      <td>2271.4145</td>\n",
       "    </tr>\n",
       "    <tr>\n",
       "      <th>BH</th>\n",
       "      <th>NORDESTE</th>\n",
       "      <td>10113.8455</td>\n",
       "    </tr>\n",
       "    <tr>\n",
       "      <th>MG</th>\n",
       "      <th>CENTRO-OESTE</th>\n",
       "      <td>6579.0565</td>\n",
       "    </tr>\n",
       "    <tr>\n",
       "      <th>RS</th>\n",
       "      <th>SUL</th>\n",
       "      <td>11069.4485</td>\n",
       "    </tr>\n",
       "    <tr>\n",
       "      <th>SP</th>\n",
       "      <th>SUDESTE</th>\n",
       "      <td>23009.5055</td>\n",
       "    </tr>\n",
       "    <tr>\n",
       "      <th rowspan=\"5\" valign=\"top\">2023-09</th>\n",
       "      <th>AM</th>\n",
       "      <th>NORTE</th>\n",
       "      <td>2743.3145</td>\n",
       "    </tr>\n",
       "    <tr>\n",
       "      <th>BH</th>\n",
       "      <th>NORDESTE</th>\n",
       "      <td>10997.9890</td>\n",
       "    </tr>\n",
       "    <tr>\n",
       "      <th>MG</th>\n",
       "      <th>CENTRO-OESTE</th>\n",
       "      <td>9834.1195</td>\n",
       "    </tr>\n",
       "    <tr>\n",
       "      <th>RS</th>\n",
       "      <th>SUL</th>\n",
       "      <td>15483.1985</td>\n",
       "    </tr>\n",
       "    <tr>\n",
       "      <th>SP</th>\n",
       "      <th>SUDESTE</th>\n",
       "      <td>26907.5405</td>\n",
       "    </tr>\n",
       "    <tr>\n",
       "      <th></th>\n",
       "      <th></th>\n",
       "      <th></th>\n",
       "      <td>467416.8025</td>\n",
       "    </tr>\n",
       "  </tbody>\n",
       "</table>\n",
       "</div>"
      ],
      "text/plain": [
       "                         valor_total\n",
       "ano_mes uf regiao                   \n",
       "2023-01 AM NORTE           2413.9060\n",
       "        BH NORDESTE        7103.4575\n",
       "        MG CENTRO-OESTE    4855.0930\n",
       "        RS SUL            10494.8055\n",
       "        SP SUDESTE        17507.7025\n",
       "2023-02 AM NORTE           2046.5700\n",
       "        BH NORDESTE        6162.8730\n",
       "        MG CENTRO-OESTE    2251.2615\n",
       "        RS SUL             8933.7730\n",
       "        SP SUDESTE        18357.7195\n",
       "2023-03 AM NORTE           2253.9650\n",
       "        BH NORDESTE        6468.1950\n",
       "        MG CENTRO-OESTE    6781.6480\n",
       "        RS SUL            12280.0910\n",
       "        SP SUDESTE        27021.6785\n",
       "2023-04 AM NORTE           2787.3920\n",
       "        BH NORDESTE        8192.0815\n",
       "        MG CENTRO-OESTE    5006.2605\n",
       "        RS SUL            10116.2640\n",
       "        SP SUDESTE        19032.3025\n",
       "2023-05 AM NORTE           3147.9390\n",
       "        BH NORDESTE        6803.1320\n",
       "        MG CENTRO-OESTE    6659.9790\n",
       "        RS SUL             8808.3040\n",
       "        SP SUDESTE        20639.0245\n",
       "2023-06 AM NORTE           3938.1490\n",
       "        BH NORDESTE       12804.4005\n",
       "        MG CENTRO-OESTE    6005.6405\n",
       "        RS SUL            14857.5260\n",
       "        SP SUDESTE        26648.6085\n",
       "2023-07 AM NORTE           3279.5755\n",
       "        BH NORDESTE       10876.0535\n",
       "        MG CENTRO-OESTE    6175.2820\n",
       "        RS SUL            11614.5040\n",
       "        SP SUDESTE        26082.2125\n",
       "2023-08 AM NORTE           2271.4145\n",
       "        BH NORDESTE       10113.8455\n",
       "        MG CENTRO-OESTE    6579.0565\n",
       "        RS SUL            11069.4485\n",
       "        SP SUDESTE        23009.5055\n",
       "2023-09 AM NORTE           2743.3145\n",
       "        BH NORDESTE       10997.9890\n",
       "        MG CENTRO-OESTE    9834.1195\n",
       "        RS SUL            15483.1985\n",
       "        SP SUDESTE        26907.5405\n",
       "                         467416.8025"
      ]
     },
     "execution_count": 42,
     "metadata": {},
     "output_type": "execute_result"
    }
   ],
   "source": [
    "total_vendido_2023 = _df_23.groupby(['ano_mes', 'uf', 'regiao'], as_index=False).agg({'valor_total':'sum'})\n",
    "total_vendido_2023.loc['Total', 'valor_total'] = total_vendido_2023['valor_total'].sum()\n",
    "total_vendido_2023 = total_vendido_2023.fillna('')\n",
    "total_vendido_2023 = total_vendido_2023.set_index(['ano_mes', 'uf', 'regiao'])\n",
    "total_vendido_2023"
   ]
  },
  {
   "cell_type": "code",
   "execution_count": 43,
   "id": "138323ca",
   "metadata": {
    "execution": {
     "iopub.execute_input": "2022-11-07T04:31:38.710169Z",
     "iopub.status.busy": "2022-11-07T04:31:38.709407Z",
     "iopub.status.idle": "2022-11-07T04:31:38.723250Z",
     "shell.execute_reply": "2022-11-07T04:31:38.721303Z"
    },
    "papermill": {
     "duration": 0.052238,
     "end_time": "2022-11-07T04:31:38.726045",
     "exception": false,
     "start_time": "2022-11-07T04:31:38.673807",
     "status": "completed"
    },
    "tags": []
   },
   "outputs": [
    {
     "name": "stdout",
     "output_type": "stream",
     "text": [
      "O percentual do ano atual é maior em relação ao ano anterior é de 10,82 e o valor absoluto 45621,25\n"
     ]
    }
   ],
   "source": [
    "total_2022 = total_vendido_2022.reset_index()\n",
    "total_2023 = total_vendido_2023.reset_index()\n",
    "valor_percentual = ((total_2023.loc[45, 'valor_total'] / total_2022.loc[45, 'valor_total'] ) - 1) * 100\n",
    "valor_absoluto =  (total_2023.loc[45, 'valor_total'] - total_2022.loc[45, 'valor_total'] )\n",
    "\n",
    "flag = 'maior' if valor_percentual > 0  else 'menor'\n",
    "\n",
    "string = f\"O percentual do ano atual é {flag} em relação ao ano anterior é de {valor_percentual:.2f} e o valor absoluto {valor_absoluto:.2f}\"\n",
    "\n",
    "print(string.replace('.',','))"
   ]
  },
  {
   "cell_type": "markdown",
   "id": "c3916053",
   "metadata": {
    "papermill": {
     "duration": 0.032954,
     "end_time": "2022-11-07T04:31:38.793102",
     "exception": false,
     "start_time": "2022-11-07T04:31:38.760148",
     "status": "completed"
    },
    "tags": []
   },
   "source": [
    "## Vendas por Mês "
   ]
  },
  {
   "cell_type": "code",
   "execution_count": 44,
   "id": "abb616ec",
   "metadata": {
    "execution": {
     "iopub.execute_input": "2022-11-07T04:31:38.861345Z",
     "iopub.status.busy": "2022-11-07T04:31:38.860949Z",
     "iopub.status.idle": "2022-11-07T04:31:38.879915Z",
     "shell.execute_reply": "2022-11-07T04:31:38.878389Z"
    },
    "papermill": {
     "duration": 0.056611,
     "end_time": "2022-11-07T04:31:38.882698",
     "exception": false,
     "start_time": "2022-11-07T04:31:38.826087",
     "status": "completed"
    },
    "tags": []
   },
   "outputs": [
    {
     "data": {
      "text/html": [
       "<div>\n",
       "<style scoped>\n",
       "    .dataframe tbody tr th:only-of-type {\n",
       "        vertical-align: middle;\n",
       "    }\n",
       "\n",
       "    .dataframe tbody tr th {\n",
       "        vertical-align: top;\n",
       "    }\n",
       "\n",
       "    .dataframe thead th {\n",
       "        text-align: right;\n",
       "    }\n",
       "</style>\n",
       "<table border=\"1\" class=\"dataframe\">\n",
       "  <thead>\n",
       "    <tr style=\"text-align: right;\">\n",
       "      <th></th>\n",
       "      <th>valor_total</th>\n",
       "    </tr>\n",
       "    <tr>\n",
       "      <th>ano_mes</th>\n",
       "      <th></th>\n",
       "    </tr>\n",
       "  </thead>\n",
       "  <tbody>\n",
       "    <tr>\n",
       "      <th>2022-01</th>\n",
       "      <td>48038.830</td>\n",
       "    </tr>\n",
       "    <tr>\n",
       "      <th>2022-02</th>\n",
       "      <td>33487.866</td>\n",
       "    </tr>\n",
       "    <tr>\n",
       "      <th>2022-03</th>\n",
       "      <td>67337.112</td>\n",
       "    </tr>\n",
       "    <tr>\n",
       "      <th>2022-04</th>\n",
       "      <td>48180.612</td>\n",
       "    </tr>\n",
       "    <tr>\n",
       "      <th>2022-05</th>\n",
       "      <td>51761.596</td>\n",
       "    </tr>\n",
       "    <tr>\n",
       "      <th>2022-06</th>\n",
       "      <td>33658.754</td>\n",
       "    </tr>\n",
       "    <tr>\n",
       "      <th>2022-07</th>\n",
       "      <td>48442.970</td>\n",
       "    </tr>\n",
       "    <tr>\n",
       "      <th>2022-08</th>\n",
       "      <td>50768.534</td>\n",
       "    </tr>\n",
       "    <tr>\n",
       "      <th>2022-09</th>\n",
       "      <td>40119.278</td>\n",
       "    </tr>\n",
       "  </tbody>\n",
       "</table>\n",
       "</div>"
      ],
      "text/plain": [
       "         valor_total\n",
       "ano_mes             \n",
       "2022-01    48038.830\n",
       "2022-02    33487.866\n",
       "2022-03    67337.112\n",
       "2022-04    48180.612\n",
       "2022-05    51761.596\n",
       "2022-06    33658.754\n",
       "2022-07    48442.970\n",
       "2022-08    50768.534\n",
       "2022-09    40119.278"
      ]
     },
     "execution_count": 44,
     "metadata": {},
     "output_type": "execute_result"
    }
   ],
   "source": [
    "total_mes_2022 = total_vendido_2022.reset_index()\n",
    "total_mes_2022 = total_mes_2022.drop(45,axis=0)\n",
    "total_mes_2022 = total_mes_2022.groupby(['ano_mes']).agg({'valor_total':'sum'})\n",
    "total_mes_2022"
   ]
  },
  {
   "cell_type": "code",
   "execution_count": 45,
   "id": "03dc9200",
   "metadata": {
    "execution": {
     "iopub.execute_input": "2022-11-07T04:31:38.954111Z",
     "iopub.status.busy": "2022-11-07T04:31:38.953705Z",
     "iopub.status.idle": "2022-11-07T04:31:38.970920Z",
     "shell.execute_reply": "2022-11-07T04:31:38.969619Z"
    },
    "papermill": {
     "duration": 0.056205,
     "end_time": "2022-11-07T04:31:38.973374",
     "exception": false,
     "start_time": "2022-11-07T04:31:38.917169",
     "status": "completed"
    },
    "tags": []
   },
   "outputs": [
    {
     "data": {
      "text/html": [
       "<div>\n",
       "<style scoped>\n",
       "    .dataframe tbody tr th:only-of-type {\n",
       "        vertical-align: middle;\n",
       "    }\n",
       "\n",
       "    .dataframe tbody tr th {\n",
       "        vertical-align: top;\n",
       "    }\n",
       "\n",
       "    .dataframe thead th {\n",
       "        text-align: right;\n",
       "    }\n",
       "</style>\n",
       "<table border=\"1\" class=\"dataframe\">\n",
       "  <thead>\n",
       "    <tr style=\"text-align: right;\">\n",
       "      <th></th>\n",
       "      <th>valor_total</th>\n",
       "    </tr>\n",
       "    <tr>\n",
       "      <th>ano_mes</th>\n",
       "      <th></th>\n",
       "    </tr>\n",
       "  </thead>\n",
       "  <tbody>\n",
       "    <tr>\n",
       "      <th>2023-01</th>\n",
       "      <td>42374.9645</td>\n",
       "    </tr>\n",
       "    <tr>\n",
       "      <th>2023-02</th>\n",
       "      <td>37752.1970</td>\n",
       "    </tr>\n",
       "    <tr>\n",
       "      <th>2023-03</th>\n",
       "      <td>54805.5775</td>\n",
       "    </tr>\n",
       "    <tr>\n",
       "      <th>2023-04</th>\n",
       "      <td>45134.3005</td>\n",
       "    </tr>\n",
       "    <tr>\n",
       "      <th>2023-05</th>\n",
       "      <td>46058.3785</td>\n",
       "    </tr>\n",
       "    <tr>\n",
       "      <th>2023-06</th>\n",
       "      <td>64254.3245</td>\n",
       "    </tr>\n",
       "    <tr>\n",
       "      <th>2023-07</th>\n",
       "      <td>58027.6275</td>\n",
       "    </tr>\n",
       "    <tr>\n",
       "      <th>2023-08</th>\n",
       "      <td>53043.2705</td>\n",
       "    </tr>\n",
       "    <tr>\n",
       "      <th>2023-09</th>\n",
       "      <td>65966.1620</td>\n",
       "    </tr>\n",
       "  </tbody>\n",
       "</table>\n",
       "</div>"
      ],
      "text/plain": [
       "         valor_total\n",
       "ano_mes             \n",
       "2023-01   42374.9645\n",
       "2023-02   37752.1970\n",
       "2023-03   54805.5775\n",
       "2023-04   45134.3005\n",
       "2023-05   46058.3785\n",
       "2023-06   64254.3245\n",
       "2023-07   58027.6275\n",
       "2023-08   53043.2705\n",
       "2023-09   65966.1620"
      ]
     },
     "execution_count": 45,
     "metadata": {},
     "output_type": "execute_result"
    }
   ],
   "source": [
    "total_mes_2023 = total_vendido_2023.reset_index()\n",
    "total_mes_2023 = total_mes_2023.drop(45,axis=0)\n",
    "total_mes_2023 = total_mes_2023.groupby(['ano_mes']).agg({'valor_total':'sum'})\n",
    "total_mes_2023"
   ]
  },
  {
   "cell_type": "code",
   "execution_count": 46,
   "id": "d923291c",
   "metadata": {
    "execution": {
     "iopub.execute_input": "2022-11-07T04:31:39.044175Z",
     "iopub.status.busy": "2022-11-07T04:31:39.043729Z",
     "iopub.status.idle": "2022-11-07T04:31:39.440865Z",
     "shell.execute_reply": "2022-11-07T04:31:39.439534Z"
    },
    "papermill": {
     "duration": 0.436472,
     "end_time": "2022-11-07T04:31:39.443861",
     "exception": false,
     "start_time": "2022-11-07T04:31:39.007389",
     "status": "completed"
    },
    "tags": []
   },
   "outputs": [
    {
     "data": {
      "image/png": "[encoded data removed]",
      "text/plain": [
       "<Figure size 1296x576 with 1 Axes>"
      ]
     },
     "metadata": {},
     "output_type": "display_data"
    }
   ],
   "source": [
    "#define data\n",
    "total_mes_2022 = total_mes_2022.reset_index()\n",
    "total_mes_2023 = total_mes_2023.reset_index()\n",
    "\n",
    "label_ano_ant = _df_22['ano'].unique()[0]\n",
    "label_ano_atu = _df_23['ano'].unique()[0]\n",
    "\n",
    "\n",
    "fig, ax = plt.subplots(figsize=(18, 8), facecolor='white')\n",
    "# plt.figure( figsize = ( 12, 5)) \n",
    "sns.lineplot(x = 'ano_mes', \n",
    "             y = 'valor_total',\n",
    "             marker='o', \n",
    "             data = total_mes_2022,\n",
    "             label = f\"Ano {label_ano_ant}\") \n",
    "sns.lineplot(x = 'ano_mes', \n",
    "             y = 'valor_total',\n",
    "             marker='o', \n",
    "             data = total_mes_2023,\n",
    "             label = f\"Ano {label_ano_atu}\") \n",
    "\n",
    "\n",
    "plt.ylabel('Vendas') \n",
    "plt.xlabel('Tempo') \n",
    "pos = total_mes_2022['ano_mes'].to_list() + total_mes_2023['ano_mes'].to_list()\n",
    "\n",
    "ax.set_title(f\"Total de Vendas por Mês de {label_ano_ant} e {label_ano_atu}\", fontsize=20)\n",
    "ax.legend(title=\"Vendas por mês\", loc=\"center left\", bbox_to_anchor=(1, 0, 0.6, 1.1))\n",
    "plt.xticks(pos)   \n",
    "plt.show()\n"
   ]
  },
  {
   "cell_type": "markdown",
   "id": "5656f1a1",
   "metadata": {
    "papermill": {
     "duration": 0.034228,
     "end_time": "2022-11-07T04:31:39.513199",
     "exception": false,
     "start_time": "2022-11-07T04:31:39.478971",
     "status": "completed"
    },
    "tags": []
   },
   "source": [
    "No Gráfico acima podemos ver que o mês de maior sazionalidade  é o mês de fevereiro. "
   ]
  },
  {
   "cell_type": "markdown",
   "id": "9cd6ee71",
   "metadata": {
    "papermill": {
     "duration": 0.03761,
     "end_time": "2022-11-07T04:31:39.585672",
     "exception": false,
     "start_time": "2022-11-07T04:31:39.548062",
     "status": "completed"
    },
    "tags": []
   },
   "source": [
    "## Ticket Médio por Ano"
   ]
  },
  {
   "cell_type": "code",
   "execution_count": 47,
   "id": "0ff84985",
   "metadata": {
    "execution": {
     "iopub.execute_input": "2022-11-07T04:31:39.657962Z",
     "iopub.status.busy": "2022-11-07T04:31:39.657209Z",
     "iopub.status.idle": "2022-11-07T04:31:39.675716Z",
     "shell.execute_reply": "2022-11-07T04:31:39.674497Z"
    },
    "papermill": {
     "duration": 0.058202,
     "end_time": "2022-11-07T04:31:39.678373",
     "exception": false,
     "start_time": "2022-11-07T04:31:39.620171",
     "status": "completed"
    },
    "tags": []
   },
   "outputs": [
    {
     "data": {
      "text/html": [
       "<div>\n",
       "<style scoped>\n",
       "    .dataframe tbody tr th:only-of-type {\n",
       "        vertical-align: middle;\n",
       "    }\n",
       "\n",
       "    .dataframe tbody tr th {\n",
       "        vertical-align: top;\n",
       "    }\n",
       "\n",
       "    .dataframe thead th {\n",
       "        text-align: right;\n",
       "    }\n",
       "</style>\n",
       "<table border=\"1\" class=\"dataframe\">\n",
       "  <thead>\n",
       "    <tr style=\"text-align: right;\">\n",
       "      <th></th>\n",
       "      <th>ano_mes</th>\n",
       "      <th>id_cliente</th>\n",
       "      <th>valor_total</th>\n",
       "      <th>tkm_medio</th>\n",
       "    </tr>\n",
       "  </thead>\n",
       "  <tbody>\n",
       "    <tr>\n",
       "      <th>0</th>\n",
       "      <td>2022-01</td>\n",
       "      <td>444</td>\n",
       "      <td>48038.830</td>\n",
       "      <td>108.195563</td>\n",
       "    </tr>\n",
       "    <tr>\n",
       "      <th>1</th>\n",
       "      <td>2022-02</td>\n",
       "      <td>313</td>\n",
       "      <td>33487.866</td>\n",
       "      <td>106.989987</td>\n",
       "    </tr>\n",
       "    <tr>\n",
       "      <th>2</th>\n",
       "      <td>2022-03</td>\n",
       "      <td>613</td>\n",
       "      <td>67337.112</td>\n",
       "      <td>109.848470</td>\n",
       "    </tr>\n",
       "    <tr>\n",
       "      <th>3</th>\n",
       "      <td>2022-04</td>\n",
       "      <td>447</td>\n",
       "      <td>48180.612</td>\n",
       "      <td>107.786604</td>\n",
       "    </tr>\n",
       "    <tr>\n",
       "      <th>4</th>\n",
       "      <td>2022-05</td>\n",
       "      <td>456</td>\n",
       "      <td>51761.596</td>\n",
       "      <td>113.512272</td>\n",
       "    </tr>\n",
       "    <tr>\n",
       "      <th>5</th>\n",
       "      <td>2022-06</td>\n",
       "      <td>302</td>\n",
       "      <td>33658.754</td>\n",
       "      <td>111.452828</td>\n",
       "    </tr>\n",
       "    <tr>\n",
       "      <th>6</th>\n",
       "      <td>2022-07</td>\n",
       "      <td>457</td>\n",
       "      <td>48442.970</td>\n",
       "      <td>106.002123</td>\n",
       "    </tr>\n",
       "    <tr>\n",
       "      <th>7</th>\n",
       "      <td>2022-08</td>\n",
       "      <td>486</td>\n",
       "      <td>50768.534</td>\n",
       "      <td>104.462004</td>\n",
       "    </tr>\n",
       "    <tr>\n",
       "      <th>8</th>\n",
       "      <td>2022-09</td>\n",
       "      <td>358</td>\n",
       "      <td>40119.278</td>\n",
       "      <td>112.065022</td>\n",
       "    </tr>\n",
       "  </tbody>\n",
       "</table>\n",
       "</div>"
      ],
      "text/plain": [
       "   ano_mes  id_cliente  valor_total   tkm_medio\n",
       "0  2022-01         444    48038.830  108.195563\n",
       "1  2022-02         313    33487.866  106.989987\n",
       "2  2022-03         613    67337.112  109.848470\n",
       "3  2022-04         447    48180.612  107.786604\n",
       "4  2022-05         456    51761.596  113.512272\n",
       "5  2022-06         302    33658.754  111.452828\n",
       "6  2022-07         457    48442.970  106.002123\n",
       "7  2022-08         486    50768.534  104.462004\n",
       "8  2022-09         358    40119.278  112.065022"
      ]
     },
     "execution_count": 47,
     "metadata": {},
     "output_type": "execute_result"
    }
   ],
   "source": [
    "tkm_2022 = _df_22.groupby(['ano_mes'], as_index=False).agg({'id_cliente':'count', 'valor_total':'sum'})\n",
    "tkm_2022['tkm_medio'] = tkm_2022['valor_total'] / tkm_2022['id_cliente']\n",
    "tkm_2022"
   ]
  },
  {
   "cell_type": "code",
   "execution_count": 48,
   "id": "0fc48246",
   "metadata": {
    "execution": {
     "iopub.execute_input": "2022-11-07T04:31:39.750106Z",
     "iopub.status.busy": "2022-11-07T04:31:39.749651Z",
     "iopub.status.idle": "2022-11-07T04:31:39.771191Z",
     "shell.execute_reply": "2022-11-07T04:31:39.769843Z"
    },
    "papermill": {
     "duration": 0.06068,
     "end_time": "2022-11-07T04:31:39.773969",
     "exception": false,
     "start_time": "2022-11-07T04:31:39.713289",
     "status": "completed"
    },
    "tags": []
   },
   "outputs": [
    {
     "data": {
      "text/html": [
       "<div>\n",
       "<style scoped>\n",
       "    .dataframe tbody tr th:only-of-type {\n",
       "        vertical-align: middle;\n",
       "    }\n",
       "\n",
       "    .dataframe tbody tr th {\n",
       "        vertical-align: top;\n",
       "    }\n",
       "\n",
       "    .dataframe thead th {\n",
       "        text-align: right;\n",
       "    }\n",
       "</style>\n",
       "<table border=\"1\" class=\"dataframe\">\n",
       "  <thead>\n",
       "    <tr style=\"text-align: right;\">\n",
       "      <th></th>\n",
       "      <th>ano_mes</th>\n",
       "      <th>id_cliente</th>\n",
       "      <th>valor_total</th>\n",
       "      <th>tkm_medio</th>\n",
       "    </tr>\n",
       "  </thead>\n",
       "  <tbody>\n",
       "    <tr>\n",
       "      <th>0</th>\n",
       "      <td>2023-01</td>\n",
       "      <td>379</td>\n",
       "      <td>42374.9645</td>\n",
       "      <td>111.807294</td>\n",
       "    </tr>\n",
       "    <tr>\n",
       "      <th>1</th>\n",
       "      <td>2023-02</td>\n",
       "      <td>335</td>\n",
       "      <td>37752.1970</td>\n",
       "      <td>112.693125</td>\n",
       "    </tr>\n",
       "    <tr>\n",
       "      <th>2</th>\n",
       "      <td>2023-03</td>\n",
       "      <td>447</td>\n",
       "      <td>54805.5775</td>\n",
       "      <td>122.607556</td>\n",
       "    </tr>\n",
       "    <tr>\n",
       "      <th>3</th>\n",
       "      <td>2023-04</td>\n",
       "      <td>384</td>\n",
       "      <td>45134.3005</td>\n",
       "      <td>117.537241</td>\n",
       "    </tr>\n",
       "    <tr>\n",
       "      <th>4</th>\n",
       "      <td>2023-05</td>\n",
       "      <td>387</td>\n",
       "      <td>46058.3785</td>\n",
       "      <td>119.013898</td>\n",
       "    </tr>\n",
       "    <tr>\n",
       "      <th>5</th>\n",
       "      <td>2023-06</td>\n",
       "      <td>521</td>\n",
       "      <td>64254.3245</td>\n",
       "      <td>123.328838</td>\n",
       "    </tr>\n",
       "    <tr>\n",
       "      <th>6</th>\n",
       "      <td>2023-07</td>\n",
       "      <td>479</td>\n",
       "      <td>58027.6275</td>\n",
       "      <td>121.143272</td>\n",
       "    </tr>\n",
       "    <tr>\n",
       "      <th>7</th>\n",
       "      <td>2023-08</td>\n",
       "      <td>429</td>\n",
       "      <td>53043.2705</td>\n",
       "      <td>123.643987</td>\n",
       "    </tr>\n",
       "    <tr>\n",
       "      <th>8</th>\n",
       "      <td>2023-09</td>\n",
       "      <td>554</td>\n",
       "      <td>65966.1620</td>\n",
       "      <td>119.072495</td>\n",
       "    </tr>\n",
       "  </tbody>\n",
       "</table>\n",
       "</div>"
      ],
      "text/plain": [
       "   ano_mes  id_cliente  valor_total   tkm_medio\n",
       "0  2023-01         379   42374.9645  111.807294\n",
       "1  2023-02         335   37752.1970  112.693125\n",
       "2  2023-03         447   54805.5775  122.607556\n",
       "3  2023-04         384   45134.3005  117.537241\n",
       "4  2023-05         387   46058.3785  119.013898\n",
       "5  2023-06         521   64254.3245  123.328838\n",
       "6  2023-07         479   58027.6275  121.143272\n",
       "7  2023-08         429   53043.2705  123.643987\n",
       "8  2023-09         554   65966.1620  119.072495"
      ]
     },
     "execution_count": 48,
     "metadata": {},
     "output_type": "execute_result"
    }
   ],
   "source": [
    "tkm_2023 = _df_23.groupby(['ano_mes'], as_index=False).agg({'id_cliente':'count', 'valor_total':'sum'})\n",
    "tkm_2023['tkm_medio'] = tkm_2023['valor_total'] / tkm_2023['id_cliente']\n",
    "tkm_2023"
   ]
  },
  {
   "cell_type": "code",
   "execution_count": 49,
   "id": "fd6ad91f",
   "metadata": {
    "execution": {
     "iopub.execute_input": "2022-11-07T04:31:39.845608Z",
     "iopub.status.busy": "2022-11-07T04:31:39.845179Z",
     "iopub.status.idle": "2022-11-07T04:31:40.231815Z",
     "shell.execute_reply": "2022-11-07T04:31:40.230326Z"
    },
    "papermill": {
     "duration": 0.425647,
     "end_time": "2022-11-07T04:31:40.234453",
     "exception": false,
     "start_time": "2022-11-07T04:31:39.808806",
     "status": "completed"
    },
    "tags": []
   },
   "outputs": [
    {
     "data": {
      "image/png": "[encoded data removed]",
      "text/plain": [
       "<Figure size 1296x576 with 1 Axes>"
      ]
     },
     "metadata": {},
     "output_type": "display_data"
    }
   ],
   "source": [
    "#define data\n",
    "tkm_mes_2022 = tkm_2022\n",
    "tkm_mes_2023 = tkm_2023\n",
    "\n",
    "label_ano_ant = _df_22['ano'].unique()[0]\n",
    "label_ano_atu = _df_23['ano'].unique()[0]\n",
    "\n",
    "\n",
    "fig, ax = plt.subplots(figsize=(18, 8), facecolor='white')\n",
    "# plt.figure( figsize = ( 12, 5)) \n",
    "sns.lineplot(x = 'ano_mes', \n",
    "             y = 'tkm_medio',\n",
    "             marker='o', \n",
    "             data = tkm_mes_2022,\n",
    "             label = f\"Ano {label_ano_ant}\") \n",
    "sns.lineplot(x = 'ano_mes', \n",
    "             y = 'tkm_medio',\n",
    "             marker='o', \n",
    "             data = tkm_mes_2023,\n",
    "             label = f\"Ano {label_ano_atu}\") \n",
    "\n",
    "\n",
    "plt.ylabel('Ticket Médio') \n",
    "plt.xlabel('Tempo') \n",
    "pos = total_mes_2022['ano_mes'].to_list() + total_mes_2023['ano_mes'].to_list()\n",
    "\n",
    "ax.set_title(f\"Ticket Médio por Mês de {label_ano_ant} e {label_ano_atu}\", fontsize=20)\n",
    "ax.legend(title=\"Ticket Médio por mês\", loc=\"center left\", bbox_to_anchor=(1, 0, 0.6, 1.1))\n",
    "plt.xticks(pos)   \n",
    "plt.show()\n"
   ]
  },
  {
   "cell_type": "markdown",
   "id": "30155ba1",
   "metadata": {
    "papermill": {
     "duration": 0.040888,
     "end_time": "2022-11-07T04:31:40.313112",
     "exception": false,
     "start_time": "2022-11-07T04:31:40.272224",
     "status": "completed"
    },
    "tags": []
   },
   "source": [
    "Podemos ver que o ano de 2023 teve um ticket médio superior ao de 2022 justificando o aumento das vendas."
   ]
  },
  {
   "cell_type": "markdown",
   "id": "14ae458a",
   "metadata": {
    "papermill": {
     "duration": 0.035825,
     "end_time": "2022-11-07T04:31:40.387176",
     "exception": false,
     "start_time": "2022-11-07T04:31:40.351351",
     "status": "completed"
    },
    "tags": []
   },
   "source": [
    "## Valor Gasto por Cliente por mês"
   ]
  },
  {
   "cell_type": "code",
   "execution_count": 50,
   "id": "1e4cd5a6",
   "metadata": {
    "execution": {
     "iopub.execute_input": "2022-11-07T04:31:40.462707Z",
     "iopub.status.busy": "2022-11-07T04:31:40.462240Z",
     "iopub.status.idle": "2022-11-07T04:31:40.469330Z",
     "shell.execute_reply": "2022-11-07T04:31:40.468475Z"
    },
    "papermill": {
     "duration": 0.047717,
     "end_time": "2022-11-07T04:31:40.471345",
     "exception": false,
     "start_time": "2022-11-07T04:31:40.423628",
     "status": "completed"
    },
    "tags": []
   },
   "outputs": [
    {
     "data": {
      "text/plain": [
       "Index(['id_trans', 'data', 'ano', 'mes', 'ano_mes', 'id_loja', 'id_produto',\n",
       "       'id_cliente', 'unidades_vendidas', 'valor_total', 'promo',\n",
       "       'descrição_produto', 'categoria', 'cor', 'marca', 'uf', 'regiao',\n",
       "       'genero', 'faixa_idade', 'classe_social', 'preco'],\n",
       "      dtype='object')"
      ]
     },
     "execution_count": 50,
     "metadata": {},
     "output_type": "execute_result"
    }
   ],
   "source": [
    "_df.columns\n"
   ]
  },
  {
   "cell_type": "code",
   "execution_count": 51,
   "id": "1e643da7",
   "metadata": {
    "execution": {
     "iopub.execute_input": "2022-11-07T04:31:40.547163Z",
     "iopub.status.busy": "2022-11-07T04:31:40.545766Z",
     "iopub.status.idle": "2022-11-07T04:31:40.556690Z",
     "shell.execute_reply": "2022-11-07T04:31:40.555744Z"
    },
    "papermill": {
     "duration": 0.051789,
     "end_time": "2022-11-07T04:31:40.559410",
     "exception": false,
     "start_time": "2022-11-07T04:31:40.507621",
     "status": "completed"
    },
    "tags": []
   },
   "outputs": [],
   "source": [
    "clientes_2022 = _df[_df['ano']=='2022']\n",
    "clientes_2023 = _df[_df['ano']=='2023']"
   ]
  },
  {
   "cell_type": "markdown",
   "id": "63ac9f9c",
   "metadata": {
    "papermill": {
     "duration": 0.036628,
     "end_time": "2022-11-07T04:31:40.634398",
     "exception": false,
     "start_time": "2022-11-07T04:31:40.597770",
     "status": "completed"
    },
    "tags": []
   },
   "source": [
    "### Distribuição e Fequencia da população por Gênero "
   ]
  },
  {
   "cell_type": "code",
   "execution_count": 52,
   "id": "1df6a98f",
   "metadata": {
    "execution": {
     "iopub.execute_input": "2022-11-07T04:31:40.711260Z",
     "iopub.status.busy": "2022-11-07T04:31:40.710810Z",
     "iopub.status.idle": "2022-11-07T04:31:40.720721Z",
     "shell.execute_reply": "2022-11-07T04:31:40.719598Z"
    },
    "papermill": {
     "duration": 0.050883,
     "end_time": "2022-11-07T04:31:40.723197",
     "exception": false,
     "start_time": "2022-11-07T04:31:40.672314",
     "status": "completed"
    },
    "tags": []
   },
   "outputs": [
    {
     "data": {
      "text/plain": [
       "Feminino          2469\n",
       "Masculino         1149\n",
       "não_cadastrado     258\n",
       "Name: genero, dtype: int64"
      ]
     },
     "execution_count": 52,
     "metadata": {},
     "output_type": "execute_result"
    }
   ],
   "source": [
    "frequencia_22 = clientes_2022['genero'].value_counts()\n",
    "frequencia_22"
   ]
  },
  {
   "cell_type": "code",
   "execution_count": 53,
   "id": "4af0f3f3",
   "metadata": {
    "execution": {
     "iopub.execute_input": "2022-11-07T04:31:40.798238Z",
     "iopub.status.busy": "2022-11-07T04:31:40.797788Z",
     "iopub.status.idle": "2022-11-07T04:31:40.807795Z",
     "shell.execute_reply": "2022-11-07T04:31:40.806908Z"
    },
    "papermill": {
     "duration": 0.050599,
     "end_time": "2022-11-07T04:31:40.810349",
     "exception": false,
     "start_time": "2022-11-07T04:31:40.759750",
     "status": "completed"
    },
    "tags": []
   },
   "outputs": [
    {
     "data": {
      "text/plain": [
       "Feminino          63.699690\n",
       "Masculino         29.643963\n",
       "não_cadastrado     6.656347\n",
       "Name: genero, dtype: float64"
      ]
     },
     "execution_count": 53,
     "metadata": {},
     "output_type": "execute_result"
    }
   ],
   "source": [
    "percentual_22 = clientes_2022['genero'].value_counts(normalize = True) * 100\n",
    "percentual_22"
   ]
  },
  {
   "cell_type": "code",
   "execution_count": 54,
   "id": "0ca7a879",
   "metadata": {
    "execution": {
     "iopub.execute_input": "2022-11-07T04:31:40.887758Z",
     "iopub.status.busy": "2022-11-07T04:31:40.887258Z",
     "iopub.status.idle": "2022-11-07T04:31:40.903029Z",
     "shell.execute_reply": "2022-11-07T04:31:40.901440Z"
    },
    "papermill": {
     "duration": 0.058588,
     "end_time": "2022-11-07T04:31:40.906100",
     "exception": false,
     "start_time": "2022-11-07T04:31:40.847512",
     "status": "completed"
    },
    "tags": []
   },
   "outputs": [
    {
     "data": {
      "text/html": [
       "<div>\n",
       "<style scoped>\n",
       "    .dataframe tbody tr th:only-of-type {\n",
       "        vertical-align: middle;\n",
       "    }\n",
       "\n",
       "    .dataframe tbody tr th {\n",
       "        vertical-align: top;\n",
       "    }\n",
       "\n",
       "    .dataframe thead th {\n",
       "        text-align: right;\n",
       "    }\n",
       "</style>\n",
       "<table border=\"1\" class=\"dataframe\">\n",
       "  <thead>\n",
       "    <tr style=\"text-align: right;\">\n",
       "      <th>Sexo</th>\n",
       "      <th>Frequência</th>\n",
       "      <th>Porcentagem (%)</th>\n",
       "    </tr>\n",
       "  </thead>\n",
       "  <tbody>\n",
       "    <tr>\n",
       "      <th>Feminino</th>\n",
       "      <td>2469</td>\n",
       "      <td>63.699690</td>\n",
       "    </tr>\n",
       "    <tr>\n",
       "      <th>Masculino</th>\n",
       "      <td>1149</td>\n",
       "      <td>29.643963</td>\n",
       "    </tr>\n",
       "    <tr>\n",
       "      <th>Não Cadastrados</th>\n",
       "      <td>258</td>\n",
       "      <td>6.656347</td>\n",
       "    </tr>\n",
       "  </tbody>\n",
       "</table>\n",
       "</div>"
      ],
      "text/plain": [
       "Sexo             Frequência  Porcentagem (%)\n",
       "Feminino               2469        63.699690\n",
       "Masculino              1149        29.643963\n",
       "Não Cadastrados         258         6.656347"
      ]
     },
     "execution_count": 54,
     "metadata": {},
     "output_type": "execute_result"
    }
   ],
   "source": [
    "distr_freq_qualitativas_22 = pd.DataFrame({'Frequência': frequencia_22, 'Porcentagem (%)':percentual_22}).reset_index(drop=True)\n",
    "distr_freq_qualitativas_22.rename(index= {0:'Feminino', 1:'Masculino', 2:'Não Cadastrados'}, inplace=True)\n",
    "distr_freq_qualitativas_22.rename_axis('Sexo', axis= 'columns', inplace=True)\n",
    "distr_freq_qualitativas_22"
   ]
  },
  {
   "cell_type": "code",
   "execution_count": 55,
   "id": "2a8e910b",
   "metadata": {
    "execution": {
     "iopub.execute_input": "2022-11-07T04:31:40.982715Z",
     "iopub.status.busy": "2022-11-07T04:31:40.982233Z",
     "iopub.status.idle": "2022-11-07T04:31:41.223392Z",
     "shell.execute_reply": "2022-11-07T04:31:41.222121Z"
    },
    "papermill": {
     "duration": 0.28302,
     "end_time": "2022-11-07T04:31:41.225907",
     "exception": false,
     "start_time": "2022-11-07T04:31:40.942887",
     "status": "completed"
    },
    "tags": []
   },
   "outputs": [
    {
     "data": {
      "text/plain": [
       "<AxesSubplot:>"
      ]
     },
     "execution_count": 55,
     "metadata": {},
     "output_type": "execute_result"
    },
    {
     "data": {
      "image/png": "[encoded data removed]",
      "text/plain": [
       "<Figure size 864x432 with 1 Axes>"
      ]
     },
     "metadata": {
      "needs_background": "light"
     },
     "output_type": "display_data"
    }
   ],
   "source": [
    "distr_freq_qualitativas_22['Frequência'].plot.bar(width=1, color = 'green', alpha=0.2, figsize=(12,6))\n"
   ]
  },
  {
   "cell_type": "code",
   "execution_count": 56,
   "id": "cface893",
   "metadata": {
    "execution": {
     "iopub.execute_input": "2022-11-07T04:31:41.302148Z",
     "iopub.status.busy": "2022-11-07T04:31:41.301691Z",
     "iopub.status.idle": "2022-11-07T04:31:41.312918Z",
     "shell.execute_reply": "2022-11-07T04:31:41.311634Z"
    },
    "papermill": {
     "duration": 0.052637,
     "end_time": "2022-11-07T04:31:41.315519",
     "exception": false,
     "start_time": "2022-11-07T04:31:41.262882",
     "status": "completed"
    },
    "tags": []
   },
   "outputs": [
    {
     "data": {
      "text/plain": [
       "Feminino          2460\n",
       "Masculino         1173\n",
       "não_cadastrado     282\n",
       "Name: genero, dtype: int64"
      ]
     },
     "execution_count": 56,
     "metadata": {},
     "output_type": "execute_result"
    }
   ],
   "source": [
    "frequencia_23 = clientes_2023['genero'].value_counts()\n",
    "frequencia_23"
   ]
  },
  {
   "cell_type": "code",
   "execution_count": 57,
   "id": "e0bfda0e",
   "metadata": {
    "execution": {
     "iopub.execute_input": "2022-11-07T04:31:41.395473Z",
     "iopub.status.busy": "2022-11-07T04:31:41.395061Z",
     "iopub.status.idle": "2022-11-07T04:31:41.405960Z",
     "shell.execute_reply": "2022-11-07T04:31:41.405022Z"
    },
    "papermill": {
     "duration": 0.053238,
     "end_time": "2022-11-07T04:31:41.408251",
     "exception": false,
     "start_time": "2022-11-07T04:31:41.355013",
     "status": "completed"
    },
    "tags": []
   },
   "outputs": [
    {
     "data": {
      "text/plain": [
       "Feminino          62.835249\n",
       "Masculino         29.961686\n",
       "não_cadastrado     7.203065\n",
       "Name: genero, dtype: float64"
      ]
     },
     "execution_count": 57,
     "metadata": {},
     "output_type": "execute_result"
    }
   ],
   "source": [
    "percentual_23 = clientes_2023['genero'].value_counts(normalize = True) * 100\n",
    "percentual_23"
   ]
  },
  {
   "cell_type": "code",
   "execution_count": 58,
   "id": "329d2d20",
   "metadata": {
    "execution": {
     "iopub.execute_input": "2022-11-07T04:31:41.488525Z",
     "iopub.status.busy": "2022-11-07T04:31:41.487080Z",
     "iopub.status.idle": "2022-11-07T04:31:41.501325Z",
     "shell.execute_reply": "2022-11-07T04:31:41.500050Z"
    },
    "papermill": {
     "duration": 0.056755,
     "end_time": "2022-11-07T04:31:41.504110",
     "exception": false,
     "start_time": "2022-11-07T04:31:41.447355",
     "status": "completed"
    },
    "tags": []
   },
   "outputs": [
    {
     "data": {
      "text/html": [
       "<div>\n",
       "<style scoped>\n",
       "    .dataframe tbody tr th:only-of-type {\n",
       "        vertical-align: middle;\n",
       "    }\n",
       "\n",
       "    .dataframe tbody tr th {\n",
       "        vertical-align: top;\n",
       "    }\n",
       "\n",
       "    .dataframe thead th {\n",
       "        text-align: right;\n",
       "    }\n",
       "</style>\n",
       "<table border=\"1\" class=\"dataframe\">\n",
       "  <thead>\n",
       "    <tr style=\"text-align: right;\">\n",
       "      <th>Sexo</th>\n",
       "      <th>Frequência</th>\n",
       "      <th>Porcentagem (%)</th>\n",
       "    </tr>\n",
       "  </thead>\n",
       "  <tbody>\n",
       "    <tr>\n",
       "      <th>Feminino</th>\n",
       "      <td>2460</td>\n",
       "      <td>62.835249</td>\n",
       "    </tr>\n",
       "    <tr>\n",
       "      <th>Masculino</th>\n",
       "      <td>1173</td>\n",
       "      <td>29.961686</td>\n",
       "    </tr>\n",
       "    <tr>\n",
       "      <th>Não Cadastrados</th>\n",
       "      <td>282</td>\n",
       "      <td>7.203065</td>\n",
       "    </tr>\n",
       "  </tbody>\n",
       "</table>\n",
       "</div>"
      ],
      "text/plain": [
       "Sexo             Frequência  Porcentagem (%)\n",
       "Feminino               2460        62.835249\n",
       "Masculino              1173        29.961686\n",
       "Não Cadastrados         282         7.203065"
      ]
     },
     "execution_count": 58,
     "metadata": {},
     "output_type": "execute_result"
    }
   ],
   "source": [
    "distr_freq_qualitativas_23 = pd.DataFrame({'Frequência': frequencia_23, 'Porcentagem (%)':percentual_23}).reset_index(drop=True)\n",
    "distr_freq_qualitativas_23.rename(index= {0:'Feminino', 1:'Masculino', 2:'Não Cadastrados'}, inplace=True)\n",
    "distr_freq_qualitativas_23.rename_axis('Sexo', axis= 'columns', inplace=True)\n",
    "distr_freq_qualitativas_23"
   ]
  },
  {
   "cell_type": "code",
   "execution_count": 59,
   "id": "578236ac",
   "metadata": {
    "execution": {
     "iopub.execute_input": "2022-11-07T04:31:41.583780Z",
     "iopub.status.busy": "2022-11-07T04:31:41.583266Z",
     "iopub.status.idle": "2022-11-07T04:31:41.805984Z",
     "shell.execute_reply": "2022-11-07T04:31:41.804782Z"
    },
    "papermill": {
     "duration": 0.265863,
     "end_time": "2022-11-07T04:31:41.808439",
     "exception": false,
     "start_time": "2022-11-07T04:31:41.542576",
     "status": "completed"
    },
    "tags": []
   },
   "outputs": [
    {
     "data": {
      "text/plain": [
       "<AxesSubplot:>"
      ]
     },
     "execution_count": 59,
     "metadata": {},
     "output_type": "execute_result"
    },
    {
     "data": {
      "image/png": "[encoded data removed]",
      "text/plain": [
       "<Figure size 864x432 with 1 Axes>"
      ]
     },
     "metadata": {
      "needs_background": "light"
     },
     "output_type": "display_data"
    }
   ],
   "source": [
    "distr_freq_qualitativas_23['Frequência'].plot.bar(width=1, color = 'green', alpha=0.2, figsize=(12,6))"
   ]
  },
  {
   "cell_type": "markdown",
   "id": "235a792e",
   "metadata": {
    "papermill": {
     "duration": 0.040304,
     "end_time": "2022-11-07T04:31:41.886754",
     "exception": false,
     "start_time": "2022-11-07T04:31:41.846450",
     "status": "completed"
    },
    "tags": []
   },
   "source": [
    "### Frequênci por Faixa Etária e Classe"
   ]
  },
  {
   "cell_type": "code",
   "execution_count": 60,
   "id": "06134081",
   "metadata": {
    "execution": {
     "iopub.execute_input": "2022-11-07T04:31:41.966479Z",
     "iopub.status.busy": "2022-11-07T04:31:41.966022Z",
     "iopub.status.idle": "2022-11-07T04:31:41.976142Z",
     "shell.execute_reply": "2022-11-07T04:31:41.975217Z"
    },
    "papermill": {
     "duration": 0.052355,
     "end_time": "2022-11-07T04:31:41.978543",
     "exception": false,
     "start_time": "2022-11-07T04:31:41.926188",
     "status": "completed"
    },
    "tags": []
   },
   "outputs": [
    {
     "data": {
      "text/plain": [
       "C    2023\n",
       "D     563\n",
       "B     448\n",
       "A     440\n",
       "E     402\n",
       "Name: classe_social, dtype: int64"
      ]
     },
     "execution_count": 60,
     "metadata": {},
     "output_type": "execute_result"
    }
   ],
   "source": [
    "frequencia_classe_22 = clientes_2022['classe_social'].value_counts()\n",
    "frequencia_classe_22"
   ]
  },
  {
   "cell_type": "code",
   "execution_count": 61,
   "id": "859911a6",
   "metadata": {
    "execution": {
     "iopub.execute_input": "2022-11-07T04:31:42.060490Z",
     "iopub.status.busy": "2022-11-07T04:31:42.060077Z",
     "iopub.status.idle": "2022-11-07T04:31:42.070437Z",
     "shell.execute_reply": "2022-11-07T04:31:42.069428Z"
    },
    "papermill": {
     "duration": 0.054077,
     "end_time": "2022-11-07T04:31:42.073022",
     "exception": false,
     "start_time": "2022-11-07T04:31:42.018945",
     "status": "completed"
    },
    "tags": []
   },
   "outputs": [
    {
     "data": {
      "text/plain": [
       "C    52.192982\n",
       "D    14.525284\n",
       "B    11.558308\n",
       "A    11.351909\n",
       "E    10.371517\n",
       "Name: classe_social, dtype: float64"
      ]
     },
     "execution_count": 61,
     "metadata": {},
     "output_type": "execute_result"
    }
   ],
   "source": [
    "percentual_classe_22 = clientes_2022['classe_social'].value_counts(normalize = True) * 100\n",
    "percentual_classe_22"
   ]
  },
  {
   "cell_type": "code",
   "execution_count": 62,
   "id": "8296bf0d",
   "metadata": {
    "execution": {
     "iopub.execute_input": "2022-11-07T04:31:42.153652Z",
     "iopub.status.busy": "2022-11-07T04:31:42.152742Z",
     "iopub.status.idle": "2022-11-07T04:31:42.167593Z",
     "shell.execute_reply": "2022-11-07T04:31:42.166136Z"
    },
    "papermill": {
     "duration": 0.059015,
     "end_time": "2022-11-07T04:31:42.170744",
     "exception": false,
     "start_time": "2022-11-07T04:31:42.111729",
     "status": "completed"
    },
    "tags": []
   },
   "outputs": [
    {
     "data": {
      "text/html": [
       "<div>\n",
       "<style scoped>\n",
       "    .dataframe tbody tr th:only-of-type {\n",
       "        vertical-align: middle;\n",
       "    }\n",
       "\n",
       "    .dataframe tbody tr th {\n",
       "        vertical-align: top;\n",
       "    }\n",
       "\n",
       "    .dataframe thead th {\n",
       "        text-align: right;\n",
       "    }\n",
       "</style>\n",
       "<table border=\"1\" class=\"dataframe\">\n",
       "  <thead>\n",
       "    <tr style=\"text-align: right;\">\n",
       "      <th>Classe</th>\n",
       "      <th>Frequência</th>\n",
       "      <th>Porcentagem (%)</th>\n",
       "    </tr>\n",
       "  </thead>\n",
       "  <tbody>\n",
       "    <tr>\n",
       "      <th>C</th>\n",
       "      <td>2023</td>\n",
       "      <td>52.192982</td>\n",
       "    </tr>\n",
       "    <tr>\n",
       "      <th>D</th>\n",
       "      <td>563</td>\n",
       "      <td>14.525284</td>\n",
       "    </tr>\n",
       "    <tr>\n",
       "      <th>B</th>\n",
       "      <td>448</td>\n",
       "      <td>11.558308</td>\n",
       "    </tr>\n",
       "    <tr>\n",
       "      <th>A</th>\n",
       "      <td>440</td>\n",
       "      <td>11.351909</td>\n",
       "    </tr>\n",
       "    <tr>\n",
       "      <th>E</th>\n",
       "      <td>402</td>\n",
       "      <td>10.371517</td>\n",
       "    </tr>\n",
       "  </tbody>\n",
       "</table>\n",
       "</div>"
      ],
      "text/plain": [
       "Classe  Frequência  Porcentagem (%)\n",
       "C             2023        52.192982\n",
       "D              563        14.525284\n",
       "B              448        11.558308\n",
       "A              440        11.351909\n",
       "E              402        10.371517"
      ]
     },
     "execution_count": 62,
     "metadata": {},
     "output_type": "execute_result"
    }
   ],
   "source": [
    "distr_freq_qualitativas_classe_22 = pd.DataFrame({'Frequência': frequencia_classe_22, 'Porcentagem (%)':percentual_classe_22})\n",
    "distr_freq_qualitativas_classe_22.rename_axis('Classe', axis= 'columns', inplace=True)\n",
    "distr_freq_qualitativas_classe_22"
   ]
  },
  {
   "cell_type": "code",
   "execution_count": 63,
   "id": "acece601",
   "metadata": {
    "execution": {
     "iopub.execute_input": "2022-11-07T04:31:42.252114Z",
     "iopub.status.busy": "2022-11-07T04:31:42.251674Z",
     "iopub.status.idle": "2022-11-07T04:31:42.491474Z",
     "shell.execute_reply": "2022-11-07T04:31:42.490294Z"
    },
    "papermill": {
     "duration": 0.28233,
     "end_time": "2022-11-07T04:31:42.493853",
     "exception": false,
     "start_time": "2022-11-07T04:31:42.211523",
     "status": "completed"
    },
    "tags": []
   },
   "outputs": [
    {
     "data": {
      "text/plain": [
       "<AxesSubplot:>"
      ]
     },
     "execution_count": 63,
     "metadata": {},
     "output_type": "execute_result"
    },
    {
     "data": {
      "image/png": "[encoded data removed]",
      "text/plain": [
       "<Figure size 864x432 with 1 Axes>"
      ]
     },
     "metadata": {
      "needs_background": "light"
     },
     "output_type": "display_data"
    }
   ],
   "source": [
    "distr_freq_qualitativas_classe_22['Frequência'].plot.bar(width=1, color = 'green', alpha=0.2, figsize=(12,6))"
   ]
  },
  {
   "cell_type": "code",
   "execution_count": 64,
   "id": "6bbd6602",
   "metadata": {
    "execution": {
     "iopub.execute_input": "2022-11-07T04:31:42.575009Z",
     "iopub.status.busy": "2022-11-07T04:31:42.573603Z",
     "iopub.status.idle": "2022-11-07T04:31:42.584205Z",
     "shell.execute_reply": "2022-11-07T04:31:42.583015Z"
    },
    "papermill": {
     "duration": 0.053703,
     "end_time": "2022-11-07T04:31:42.586475",
     "exception": false,
     "start_time": "2022-11-07T04:31:42.532772",
     "status": "completed"
    },
    "tags": []
   },
   "outputs": [
    {
     "data": {
      "text/plain": [
       "25-35    1926\n",
       "35-45    1164\n",
       "18-25     436\n",
       "45+       350\n",
       "Name: faixa_idade, dtype: int64"
      ]
     },
     "execution_count": 64,
     "metadata": {},
     "output_type": "execute_result"
    }
   ],
   "source": [
    "frequencia_faixa_22 = clientes_2022['faixa_idade'].value_counts()\n",
    "frequencia_faixa_22"
   ]
  },
  {
   "cell_type": "code",
   "execution_count": 65,
   "id": "a56b37d6",
   "metadata": {
    "execution": {
     "iopub.execute_input": "2022-11-07T04:31:42.669856Z",
     "iopub.status.busy": "2022-11-07T04:31:42.668245Z",
     "iopub.status.idle": "2022-11-07T04:31:42.679814Z",
     "shell.execute_reply": "2022-11-07T04:31:42.678458Z"
    },
    "papermill": {
     "duration": 0.056352,
     "end_time": "2022-11-07T04:31:42.682275",
     "exception": false,
     "start_time": "2022-11-07T04:31:42.625923",
     "status": "completed"
    },
    "tags": []
   },
   "outputs": [
    {
     "data": {
      "text/plain": [
       "25-35    49.690402\n",
       "35-45    30.030960\n",
       "18-25    11.248710\n",
       "45+       9.029928\n",
       "Name: faixa_idade, dtype: float64"
      ]
     },
     "execution_count": 65,
     "metadata": {},
     "output_type": "execute_result"
    }
   ],
   "source": [
    "percentual_faixa_22 = clientes_2022['faixa_idade'].value_counts(normalize = True) * 100\n",
    "percentual_faixa_22"
   ]
  },
  {
   "cell_type": "code",
   "execution_count": 66,
   "id": "61ce6b29",
   "metadata": {
    "execution": {
     "iopub.execute_input": "2022-11-07T04:31:42.763388Z",
     "iopub.status.busy": "2022-11-07T04:31:42.762098Z",
     "iopub.status.idle": "2022-11-07T04:31:42.775678Z",
     "shell.execute_reply": "2022-11-07T04:31:42.774309Z"
    },
    "papermill": {
     "duration": 0.056437,
     "end_time": "2022-11-07T04:31:42.778089",
     "exception": false,
     "start_time": "2022-11-07T04:31:42.721652",
     "status": "completed"
    },
    "tags": []
   },
   "outputs": [
    {
     "data": {
      "text/html": [
       "<div>\n",
       "<style scoped>\n",
       "    .dataframe tbody tr th:only-of-type {\n",
       "        vertical-align: middle;\n",
       "    }\n",
       "\n",
       "    .dataframe tbody tr th {\n",
       "        vertical-align: top;\n",
       "    }\n",
       "\n",
       "    .dataframe thead th {\n",
       "        text-align: right;\n",
       "    }\n",
       "</style>\n",
       "<table border=\"1\" class=\"dataframe\">\n",
       "  <thead>\n",
       "    <tr style=\"text-align: right;\">\n",
       "      <th>Classe</th>\n",
       "      <th>Frequência</th>\n",
       "      <th>Porcentagem (%)</th>\n",
       "    </tr>\n",
       "  </thead>\n",
       "  <tbody>\n",
       "    <tr>\n",
       "      <th>25-35</th>\n",
       "      <td>1926</td>\n",
       "      <td>49.690402</td>\n",
       "    </tr>\n",
       "    <tr>\n",
       "      <th>35-45</th>\n",
       "      <td>1164</td>\n",
       "      <td>30.030960</td>\n",
       "    </tr>\n",
       "    <tr>\n",
       "      <th>18-25</th>\n",
       "      <td>436</td>\n",
       "      <td>11.248710</td>\n",
       "    </tr>\n",
       "    <tr>\n",
       "      <th>45+</th>\n",
       "      <td>350</td>\n",
       "      <td>9.029928</td>\n",
       "    </tr>\n",
       "  </tbody>\n",
       "</table>\n",
       "</div>"
      ],
      "text/plain": [
       "Classe  Frequência  Porcentagem (%)\n",
       "25-35         1926        49.690402\n",
       "35-45         1164        30.030960\n",
       "18-25          436        11.248710\n",
       "45+            350         9.029928"
      ]
     },
     "execution_count": 66,
     "metadata": {},
     "output_type": "execute_result"
    }
   ],
   "source": [
    "distr_freq_qualitativas_faixa_22 = pd.DataFrame({'Frequência': frequencia_faixa_22, 'Porcentagem (%)':percentual_faixa_22})\n",
    "distr_freq_qualitativas_faixa_22.rename_axis('Classe', axis= 'columns', inplace=True)\n",
    "distr_freq_qualitativas_faixa_22"
   ]
  },
  {
   "cell_type": "code",
   "execution_count": 67,
   "id": "345fefc7",
   "metadata": {
    "execution": {
     "iopub.execute_input": "2022-11-07T04:31:42.859703Z",
     "iopub.status.busy": "2022-11-07T04:31:42.859244Z",
     "iopub.status.idle": "2022-11-07T04:31:43.099229Z",
     "shell.execute_reply": "2022-11-07T04:31:43.097684Z"
    },
    "papermill": {
     "duration": 0.284319,
     "end_time": "2022-11-07T04:31:43.102393",
     "exception": false,
     "start_time": "2022-11-07T04:31:42.818074",
     "status": "completed"
    },
    "tags": []
   },
   "outputs": [
    {
     "data": {
      "text/plain": [
       "<AxesSubplot:>"
      ]
     },
     "execution_count": 67,
     "metadata": {},
     "output_type": "execute_result"
    },
    {
     "data": {
      "image/png": "[encoded data removed]",
      "text/plain": [
       "<Figure size 864x432 with 1 Axes>"
      ]
     },
     "metadata": {
      "needs_background": "light"
     },
     "output_type": "display_data"
    }
   ],
   "source": [
    "distr_freq_qualitativas_faixa_22['Frequência'].plot.bar(width=1, color = 'green', alpha=0.2, figsize=(12,6))"
   ]
  },
  {
   "cell_type": "code",
   "execution_count": 68,
   "id": "77670012",
   "metadata": {
    "execution": {
     "iopub.execute_input": "2022-11-07T04:31:43.185631Z",
     "iopub.status.busy": "2022-11-07T04:31:43.184863Z",
     "iopub.status.idle": "2022-11-07T04:31:43.194713Z",
     "shell.execute_reply": "2022-11-07T04:31:43.193411Z"
    },
    "papermill": {
     "duration": 0.055365,
     "end_time": "2022-11-07T04:31:43.197066",
     "exception": false,
     "start_time": "2022-11-07T04:31:43.141701",
     "status": "completed"
    },
    "tags": []
   },
   "outputs": [
    {
     "data": {
      "text/plain": [
       "C    2077\n",
       "D     574\n",
       "B     449\n",
       "A     433\n",
       "E     382\n",
       "Name: classe_social, dtype: int64"
      ]
     },
     "execution_count": 68,
     "metadata": {},
     "output_type": "execute_result"
    }
   ],
   "source": [
    "frequencia_classe_23 = clientes_2023['classe_social'].value_counts()\n",
    "frequencia_classe_23"
   ]
  },
  {
   "cell_type": "code",
   "execution_count": 69,
   "id": "70e434c6",
   "metadata": {
    "execution": {
     "iopub.execute_input": "2022-11-07T04:31:43.281439Z",
     "iopub.status.busy": "2022-11-07T04:31:43.280621Z",
     "iopub.status.idle": "2022-11-07T04:31:43.291309Z",
     "shell.execute_reply": "2022-11-07T04:31:43.290242Z"
    },
    "papermill": {
     "duration": 0.057439,
     "end_time": "2022-11-07T04:31:43.293718",
     "exception": false,
     "start_time": "2022-11-07T04:31:43.236279",
     "status": "completed"
    },
    "tags": []
   },
   "outputs": [
    {
     "data": {
      "text/plain": [
       "C    53.052363\n",
       "D    14.661558\n",
       "B    11.468710\n",
       "A    11.060026\n",
       "E     9.757344\n",
       "Name: classe_social, dtype: float64"
      ]
     },
     "execution_count": 69,
     "metadata": {},
     "output_type": "execute_result"
    }
   ],
   "source": [
    "percentual_classe_23 = clientes_2023['classe_social'].value_counts(normalize = True) * 100\n",
    "percentual_classe_23"
   ]
  },
  {
   "cell_type": "code",
   "execution_count": 70,
   "id": "c18b9632",
   "metadata": {
    "execution": {
     "iopub.execute_input": "2022-11-07T04:31:43.375953Z",
     "iopub.status.busy": "2022-11-07T04:31:43.374781Z",
     "iopub.status.idle": "2022-11-07T04:31:43.389136Z",
     "shell.execute_reply": "2022-11-07T04:31:43.387831Z"
    },
    "papermill": {
     "duration": 0.05812,
     "end_time": "2022-11-07T04:31:43.391820",
     "exception": false,
     "start_time": "2022-11-07T04:31:43.333700",
     "status": "completed"
    },
    "tags": []
   },
   "outputs": [
    {
     "data": {
      "text/html": [
       "<div>\n",
       "<style scoped>\n",
       "    .dataframe tbody tr th:only-of-type {\n",
       "        vertical-align: middle;\n",
       "    }\n",
       "\n",
       "    .dataframe tbody tr th {\n",
       "        vertical-align: top;\n",
       "    }\n",
       "\n",
       "    .dataframe thead th {\n",
       "        text-align: right;\n",
       "    }\n",
       "</style>\n",
       "<table border=\"1\" class=\"dataframe\">\n",
       "  <thead>\n",
       "    <tr style=\"text-align: right;\">\n",
       "      <th>Classe</th>\n",
       "      <th>Frequência</th>\n",
       "      <th>Porcentagem (%)</th>\n",
       "    </tr>\n",
       "  </thead>\n",
       "  <tbody>\n",
       "    <tr>\n",
       "      <th>C</th>\n",
       "      <td>2077</td>\n",
       "      <td>53.052363</td>\n",
       "    </tr>\n",
       "    <tr>\n",
       "      <th>D</th>\n",
       "      <td>574</td>\n",
       "      <td>14.661558</td>\n",
       "    </tr>\n",
       "    <tr>\n",
       "      <th>B</th>\n",
       "      <td>449</td>\n",
       "      <td>11.468710</td>\n",
       "    </tr>\n",
       "    <tr>\n",
       "      <th>A</th>\n",
       "      <td>433</td>\n",
       "      <td>11.060026</td>\n",
       "    </tr>\n",
       "    <tr>\n",
       "      <th>E</th>\n",
       "      <td>382</td>\n",
       "      <td>9.757344</td>\n",
       "    </tr>\n",
       "  </tbody>\n",
       "</table>\n",
       "</div>"
      ],
      "text/plain": [
       "Classe  Frequência  Porcentagem (%)\n",
       "C             2077        53.052363\n",
       "D              574        14.661558\n",
       "B              449        11.468710\n",
       "A              433        11.060026\n",
       "E              382         9.757344"
      ]
     },
     "execution_count": 70,
     "metadata": {},
     "output_type": "execute_result"
    }
   ],
   "source": [
    "distr_freq_qualitativas_classe_23 = pd.DataFrame({'Frequência': frequencia_classe_23, 'Porcentagem (%)':percentual_classe_23})\n",
    "distr_freq_qualitativas_classe_23.rename_axis('Classe', axis= 'columns', inplace=True)\n",
    "distr_freq_qualitativas_classe_23"
   ]
  },
  {
   "cell_type": "code",
   "execution_count": 71,
   "id": "b4875176",
   "metadata": {
    "execution": {
     "iopub.execute_input": "2022-11-07T04:31:43.475371Z",
     "iopub.status.busy": "2022-11-07T04:31:43.474936Z",
     "iopub.status.idle": "2022-11-07T04:31:43.707366Z",
     "shell.execute_reply": "2022-11-07T04:31:43.706134Z"
    },
    "papermill": {
     "duration": 0.27757,
     "end_time": "2022-11-07T04:31:43.710209",
     "exception": false,
     "start_time": "2022-11-07T04:31:43.432639",
     "status": "completed"
    },
    "tags": []
   },
   "outputs": [
    {
     "data": {
      "text/plain": [
       "<AxesSubplot:>"
      ]
     },
     "execution_count": 71,
     "metadata": {},
     "output_type": "execute_result"
    },
    {
     "data": {
      "image/png": "[encoded data removed]",
      "text/plain": [
       "<Figure size 864x432 with 1 Axes>"
      ]
     },
     "metadata": {
      "needs_background": "light"
     },
     "output_type": "display_data"
    }
   ],
   "source": [
    "distr_freq_qualitativas_classe_23['Frequência'].plot.bar(width=1, color = 'green', alpha=0.2, figsize=(12,6))\n"
   ]
  },
  {
   "cell_type": "code",
   "execution_count": 72,
   "id": "6e350e74",
   "metadata": {
    "execution": {
     "iopub.execute_input": "2022-11-07T04:31:43.793638Z",
     "iopub.status.busy": "2022-11-07T04:31:43.793129Z",
     "iopub.status.idle": "2022-11-07T04:31:43.803531Z",
     "shell.execute_reply": "2022-11-07T04:31:43.802279Z"
    },
    "papermill": {
     "duration": 0.05568,
     "end_time": "2022-11-07T04:31:43.806003",
     "exception": false,
     "start_time": "2022-11-07T04:31:43.750323",
     "status": "completed"
    },
    "tags": []
   },
   "outputs": [
    {
     "data": {
      "text/plain": [
       "25-35    1978\n",
       "35-45    1193\n",
       "18-25     424\n",
       "45+       320\n",
       "Name: faixa_idade, dtype: int64"
      ]
     },
     "execution_count": 72,
     "metadata": {},
     "output_type": "execute_result"
    }
   ],
   "source": [
    "frequencia_faixa_23 = clientes_2023['faixa_idade'].value_counts()\n",
    "frequencia_faixa_23"
   ]
  },
  {
   "cell_type": "code",
   "execution_count": 73,
   "id": "7a69740a",
   "metadata": {
    "execution": {
     "iopub.execute_input": "2022-11-07T04:31:43.890450Z",
     "iopub.status.busy": "2022-11-07T04:31:43.889236Z",
     "iopub.status.idle": "2022-11-07T04:31:43.900739Z",
     "shell.execute_reply": "2022-11-07T04:31:43.899471Z"
    },
    "papermill": {
     "duration": 0.057437,
     "end_time": "2022-11-07T04:31:43.903585",
     "exception": false,
     "start_time": "2022-11-07T04:31:43.846148",
     "status": "completed"
    },
    "tags": []
   },
   "outputs": [
    {
     "data": {
      "text/plain": [
       "25-35    50.523627\n",
       "35-45    30.472542\n",
       "18-25    10.830140\n",
       "45+       8.173691\n",
       "Name: faixa_idade, dtype: float64"
      ]
     },
     "execution_count": 73,
     "metadata": {},
     "output_type": "execute_result"
    }
   ],
   "source": [
    "percentual_faixa_23 = clientes_2023['faixa_idade'].value_counts(normalize = True) * 100\n",
    "percentual_faixa_23"
   ]
  },
  {
   "cell_type": "code",
   "execution_count": 74,
   "id": "dbc57ab4",
   "metadata": {
    "execution": {
     "iopub.execute_input": "2022-11-07T04:31:43.988020Z",
     "iopub.status.busy": "2022-11-07T04:31:43.987226Z",
     "iopub.status.idle": "2022-11-07T04:31:43.999829Z",
     "shell.execute_reply": "2022-11-07T04:31:43.998465Z"
    },
    "papermill": {
     "duration": 0.057525,
     "end_time": "2022-11-07T04:31:44.002347",
     "exception": false,
     "start_time": "2022-11-07T04:31:43.944822",
     "status": "completed"
    },
    "tags": []
   },
   "outputs": [
    {
     "data": {
      "text/html": [
       "<div>\n",
       "<style scoped>\n",
       "    .dataframe tbody tr th:only-of-type {\n",
       "        vertical-align: middle;\n",
       "    }\n",
       "\n",
       "    .dataframe tbody tr th {\n",
       "        vertical-align: top;\n",
       "    }\n",
       "\n",
       "    .dataframe thead th {\n",
       "        text-align: right;\n",
       "    }\n",
       "</style>\n",
       "<table border=\"1\" class=\"dataframe\">\n",
       "  <thead>\n",
       "    <tr style=\"text-align: right;\">\n",
       "      <th>Classe</th>\n",
       "      <th>Frequência</th>\n",
       "      <th>Porcentagem (%)</th>\n",
       "    </tr>\n",
       "  </thead>\n",
       "  <tbody>\n",
       "    <tr>\n",
       "      <th>25-35</th>\n",
       "      <td>1978</td>\n",
       "      <td>50.523627</td>\n",
       "    </tr>\n",
       "    <tr>\n",
       "      <th>35-45</th>\n",
       "      <td>1193</td>\n",
       "      <td>30.472542</td>\n",
       "    </tr>\n",
       "    <tr>\n",
       "      <th>18-25</th>\n",
       "      <td>424</td>\n",
       "      <td>10.830140</td>\n",
       "    </tr>\n",
       "    <tr>\n",
       "      <th>45+</th>\n",
       "      <td>320</td>\n",
       "      <td>8.173691</td>\n",
       "    </tr>\n",
       "  </tbody>\n",
       "</table>\n",
       "</div>"
      ],
      "text/plain": [
       "Classe  Frequência  Porcentagem (%)\n",
       "25-35         1978        50.523627\n",
       "35-45         1193        30.472542\n",
       "18-25          424        10.830140\n",
       "45+            320         8.173691"
      ]
     },
     "execution_count": 74,
     "metadata": {},
     "output_type": "execute_result"
    }
   ],
   "source": [
    "distr_freq_qualitativas_faixa_23 = pd.DataFrame({'Frequência': frequencia_faixa_23, 'Porcentagem (%)':percentual_faixa_23})\n",
    "distr_freq_qualitativas_faixa_23.rename_axis('Classe', axis= 'columns', inplace=True)\n",
    "distr_freq_qualitativas_faixa_23"
   ]
  },
  {
   "cell_type": "code",
   "execution_count": 75,
   "id": "a41e7b8d",
   "metadata": {
    "execution": {
     "iopub.execute_input": "2022-11-07T04:31:44.086853Z",
     "iopub.status.busy": "2022-11-07T04:31:44.085364Z",
     "iopub.status.idle": "2022-11-07T04:31:44.319877Z",
     "shell.execute_reply": "2022-11-07T04:31:44.318880Z"
    },
    "papermill": {
     "duration": 0.279354,
     "end_time": "2022-11-07T04:31:44.322219",
     "exception": false,
     "start_time": "2022-11-07T04:31:44.042865",
     "status": "completed"
    },
    "tags": []
   },
   "outputs": [
    {
     "data": {
      "text/plain": [
       "<AxesSubplot:>"
      ]
     },
     "execution_count": 75,
     "metadata": {},
     "output_type": "execute_result"
    },
    {
     "data": {
      "image/png": "[encoded data removed]",
      "text/plain": [
       "<Figure size 864x432 with 1 Axes>"
      ]
     },
     "metadata": {
      "needs_background": "light"
     },
     "output_type": "display_data"
    }
   ],
   "source": [
    "distr_freq_qualitativas_faixa_23['Frequência'].plot.bar(width=1, color = 'green', alpha=0.2, figsize=(12,6))"
   ]
  },
  {
   "cell_type": "markdown",
   "id": "100c50e9",
   "metadata": {
    "papermill": {
     "duration": 0.040776,
     "end_time": "2022-11-07T04:31:44.403456",
     "exception": false,
     "start_time": "2022-11-07T04:31:44.362680",
     "status": "completed"
    },
    "tags": []
   },
   "source": [
    "Podemos concluir que o público alvo são mulheres na faixa etária de 25 a 35 anos da classe C, pois esse público apresenta um valor de compra superior aos das demais classes."
   ]
  },
  {
   "cell_type": "markdown",
   "id": "b49f5ff9",
   "metadata": {
    "papermill": {
     "duration": 0.041724,
     "end_time": "2022-11-07T04:31:44.485704",
     "exception": false,
     "start_time": "2022-11-07T04:31:44.443980",
     "status": "completed"
    },
    "tags": []
   },
   "source": [
    "### Tabela de Cliente por Estado|Região|Gênero|Faixa de Idade|Classe por Ano"
   ]
  },
  {
   "cell_type": "code",
   "execution_count": 76,
   "id": "d3d950c1",
   "metadata": {
    "execution": {
     "iopub.execute_input": "2022-11-07T04:31:44.571763Z",
     "iopub.status.busy": "2022-11-07T04:31:44.570714Z",
     "iopub.status.idle": "2022-11-07T04:31:44.603786Z",
     "shell.execute_reply": "2022-11-07T04:31:44.602287Z"
    },
    "papermill": {
     "duration": 0.079437,
     "end_time": "2022-11-07T04:31:44.606719",
     "exception": false,
     "start_time": "2022-11-07T04:31:44.527282",
     "status": "completed"
    },
    "tags": []
   },
   "outputs": [
    {
     "data": {
      "text/html": [
       "<div>\n",
       "<style scoped>\n",
       "    .dataframe tbody tr th:only-of-type {\n",
       "        vertical-align: middle;\n",
       "    }\n",
       "\n",
       "    .dataframe tbody tr th {\n",
       "        vertical-align: top;\n",
       "    }\n",
       "\n",
       "    .dataframe thead th {\n",
       "        text-align: right;\n",
       "    }\n",
       "</style>\n",
       "<table border=\"1\" class=\"dataframe\">\n",
       "  <thead>\n",
       "    <tr style=\"text-align: right;\">\n",
       "      <th></th>\n",
       "      <th></th>\n",
       "      <th></th>\n",
       "      <th></th>\n",
       "      <th></th>\n",
       "      <th></th>\n",
       "      <th>valor_total</th>\n",
       "      <th>id_cliente</th>\n",
       "      <th>tkm_medio</th>\n",
       "    </tr>\n",
       "    <tr>\n",
       "      <th>ano_mes</th>\n",
       "      <th>uf</th>\n",
       "      <th>regiao</th>\n",
       "      <th>genero</th>\n",
       "      <th>faixa_idade</th>\n",
       "      <th>classe_social</th>\n",
       "      <th></th>\n",
       "      <th></th>\n",
       "      <th></th>\n",
       "    </tr>\n",
       "  </thead>\n",
       "  <tbody>\n",
       "    <tr>\n",
       "      <th rowspan=\"30\" valign=\"top\">2022-01</th>\n",
       "      <th rowspan=\"15\" valign=\"top\">AM</th>\n",
       "      <th rowspan=\"15\" valign=\"top\">NORTE</th>\n",
       "      <th rowspan=\"9\" valign=\"top\">Feminino</th>\n",
       "      <th>18-25</th>\n",
       "      <th>B</th>\n",
       "      <td>143.960</td>\n",
       "      <td>1</td>\n",
       "      <td>143.960000</td>\n",
       "    </tr>\n",
       "    <tr>\n",
       "      <th rowspan=\"4\" valign=\"top\">25-35</th>\n",
       "      <th>A</th>\n",
       "      <td>71.980</td>\n",
       "      <td>1</td>\n",
       "      <td>71.980000</td>\n",
       "    </tr>\n",
       "    <tr>\n",
       "      <th>B</th>\n",
       "      <td>221.562</td>\n",
       "      <td>2</td>\n",
       "      <td>110.781000</td>\n",
       "    </tr>\n",
       "    <tr>\n",
       "      <th>C</th>\n",
       "      <td>479.861</td>\n",
       "      <td>6</td>\n",
       "      <td>79.976833</td>\n",
       "    </tr>\n",
       "    <tr>\n",
       "      <th>E</th>\n",
       "      <td>70.173</td>\n",
       "      <td>1</td>\n",
       "      <td>70.173000</td>\n",
       "    </tr>\n",
       "    <tr>\n",
       "      <th rowspan=\"3\" valign=\"top\">35-45</th>\n",
       "      <th>B</th>\n",
       "      <td>46.782</td>\n",
       "      <td>1</td>\n",
       "      <td>46.782000</td>\n",
       "    </tr>\n",
       "    <tr>\n",
       "      <th>C</th>\n",
       "      <td>149.970</td>\n",
       "      <td>1</td>\n",
       "      <td>149.970000</td>\n",
       "    </tr>\n",
       "    <tr>\n",
       "      <th>D</th>\n",
       "      <td>151.173</td>\n",
       "      <td>1</td>\n",
       "      <td>151.173000</td>\n",
       "    </tr>\n",
       "    <tr>\n",
       "      <th>45+</th>\n",
       "      <th>D</th>\n",
       "      <td>107.970</td>\n",
       "      <td>1</td>\n",
       "      <td>107.970000</td>\n",
       "    </tr>\n",
       "    <tr>\n",
       "      <th rowspan=\"5\" valign=\"top\">Masculino</th>\n",
       "      <th>18-25</th>\n",
       "      <th>E</th>\n",
       "      <td>83.970</td>\n",
       "      <td>1</td>\n",
       "      <td>83.970000</td>\n",
       "    </tr>\n",
       "    <tr>\n",
       "      <th rowspan=\"3\" valign=\"top\">25-35</th>\n",
       "      <th>A</th>\n",
       "      <td>149.544</td>\n",
       "      <td>2</td>\n",
       "      <td>74.772000</td>\n",
       "    </tr>\n",
       "    <tr>\n",
       "      <th>B</th>\n",
       "      <td>91.990</td>\n",
       "      <td>1</td>\n",
       "      <td>91.990000</td>\n",
       "    </tr>\n",
       "    <tr>\n",
       "      <th>C</th>\n",
       "      <td>339.932</td>\n",
       "      <td>4</td>\n",
       "      <td>84.983000</td>\n",
       "    </tr>\n",
       "    <tr>\n",
       "      <th>35-45</th>\n",
       "      <th>C</th>\n",
       "      <td>32.391</td>\n",
       "      <td>1</td>\n",
       "      <td>32.391000</td>\n",
       "    </tr>\n",
       "    <tr>\n",
       "      <th>não_cadastrado</th>\n",
       "      <th>25-35</th>\n",
       "      <th>C</th>\n",
       "      <td>111.960</td>\n",
       "      <td>2</td>\n",
       "      <td>55.980000</td>\n",
       "    </tr>\n",
       "    <tr>\n",
       "      <th rowspan=\"15\" valign=\"top\">BH</th>\n",
       "      <th rowspan=\"15\" valign=\"top\">NORDESTE</th>\n",
       "      <th rowspan=\"13\" valign=\"top\">Feminino</th>\n",
       "      <th rowspan=\"2\" valign=\"top\">18-25</th>\n",
       "      <th>B</th>\n",
       "      <td>83.970</td>\n",
       "      <td>1</td>\n",
       "      <td>83.970000</td>\n",
       "    </tr>\n",
       "    <tr>\n",
       "      <th>C</th>\n",
       "      <td>335.940</td>\n",
       "      <td>4</td>\n",
       "      <td>83.985000</td>\n",
       "    </tr>\n",
       "    <tr>\n",
       "      <th rowspan=\"5\" valign=\"top\">25-35</th>\n",
       "      <th>A</th>\n",
       "      <td>327.522</td>\n",
       "      <td>4</td>\n",
       "      <td>81.880500</td>\n",
       "    </tr>\n",
       "    <tr>\n",
       "      <th>B</th>\n",
       "      <td>219.960</td>\n",
       "      <td>2</td>\n",
       "      <td>109.980000</td>\n",
       "    </tr>\n",
       "    <tr>\n",
       "      <th>C</th>\n",
       "      <td>1571.746</td>\n",
       "      <td>12</td>\n",
       "      <td>130.978833</td>\n",
       "    </tr>\n",
       "    <tr>\n",
       "      <th>D</th>\n",
       "      <td>269.960</td>\n",
       "      <td>2</td>\n",
       "      <td>134.980000</td>\n",
       "    </tr>\n",
       "    <tr>\n",
       "      <th>E</th>\n",
       "      <td>335.950</td>\n",
       "      <td>3</td>\n",
       "      <td>111.983333</td>\n",
       "    </tr>\n",
       "    <tr>\n",
       "      <th rowspan=\"5\" valign=\"top\">35-45</th>\n",
       "      <th>A</th>\n",
       "      <td>103.563</td>\n",
       "      <td>2</td>\n",
       "      <td>51.781500</td>\n",
       "    </tr>\n",
       "    <tr>\n",
       "      <th>B</th>\n",
       "      <td>419.940</td>\n",
       "      <td>2</td>\n",
       "      <td>209.970000</td>\n",
       "    </tr>\n",
       "    <tr>\n",
       "      <th>C</th>\n",
       "      <td>849.834</td>\n",
       "      <td>7</td>\n",
       "      <td>121.404857</td>\n",
       "    </tr>\n",
       "    <tr>\n",
       "      <th>D</th>\n",
       "      <td>456.712</td>\n",
       "      <td>5</td>\n",
       "      <td>91.342400</td>\n",
       "    </tr>\n",
       "    <tr>\n",
       "      <th>E</th>\n",
       "      <td>177.960</td>\n",
       "      <td>2</td>\n",
       "      <td>88.980000</td>\n",
       "    </tr>\n",
       "    <tr>\n",
       "      <th>45+</th>\n",
       "      <th>C</th>\n",
       "      <td>111.980</td>\n",
       "      <td>1</td>\n",
       "      <td>111.980000</td>\n",
       "    </tr>\n",
       "    <tr>\n",
       "      <th rowspan=\"2\" valign=\"top\">Masculino</th>\n",
       "      <th rowspan=\"2\" valign=\"top\">18-25</th>\n",
       "      <th>A</th>\n",
       "      <td>49.990</td>\n",
       "      <td>1</td>\n",
       "      <td>49.990000</td>\n",
       "    </tr>\n",
       "    <tr>\n",
       "      <th>C</th>\n",
       "      <td>131.553</td>\n",
       "      <td>2</td>\n",
       "      <td>65.776500</td>\n",
       "    </tr>\n",
       "  </tbody>\n",
       "</table>\n",
       "</div>"
      ],
      "text/plain": [
       "                                                              valor_total  \\\n",
       "ano_mes uf regiao   genero         faixa_idade classe_social                \n",
       "2022-01 AM NORTE    Feminino       18-25       B                  143.960   \n",
       "                                   25-35       A                   71.980   \n",
       "                                               B                  221.562   \n",
       "                                               C                  479.861   \n",
       "                                               E                   70.173   \n",
       "                                   35-45       B                   46.782   \n",
       "                                               C                  149.970   \n",
       "                                               D                  151.173   \n",
       "                                   45+         D                  107.970   \n",
       "                    Masculino      18-25       E                   83.970   \n",
       "                                   25-35       A                  149.544   \n",
       "                                               B                   91.990   \n",
       "                                               C                  339.932   \n",
       "                                   35-45       C                   32.391   \n",
       "                    não_cadastrado 25-35       C                  111.960   \n",
       "        BH NORDESTE Feminino       18-25       B                   83.970   \n",
       "                                               C                  335.940   \n",
       "                                   25-35       A                  327.522   \n",
       "                                               B                  219.960   \n",
       "                                               C                 1571.746   \n",
       "                                               D                  269.960   \n",
       "                                               E                  335.950   \n",
       "                                   35-45       A                  103.563   \n",
       "                                               B                  419.940   \n",
       "                                               C                  849.834   \n",
       "                                               D                  456.712   \n",
       "                                               E                  177.960   \n",
       "                                   45+         C                  111.980   \n",
       "                    Masculino      18-25       A                   49.990   \n",
       "                                               C                  131.553   \n",
       "\n",
       "                                                              id_cliente  \\\n",
       "ano_mes uf regiao   genero         faixa_idade classe_social               \n",
       "2022-01 AM NORTE    Feminino       18-25       B                       1   \n",
       "                                   25-35       A                       1   \n",
       "                                               B                       2   \n",
       "                                               C                       6   \n",
       "                                               E                       1   \n",
       "                                   35-45       B                       1   \n",
       "                                               C                       1   \n",
       "                                               D                       1   \n",
       "                                   45+         D                       1   \n",
       "                    Masculino      18-25       E                       1   \n",
       "                                   25-35       A                       2   \n",
       "                                               B                       1   \n",
       "                                               C                       4   \n",
       "                                   35-45       C                       1   \n",
       "                    não_cadastrado 25-35       C                       2   \n",
       "        BH NORDESTE Feminino       18-25       B                       1   \n",
       "                                               C                       4   \n",
       "                                   25-35       A                       4   \n",
       "                                               B                       2   \n",
       "                                               C                      12   \n",
       "                                               D                       2   \n",
       "                                               E                       3   \n",
       "                                   35-45       A                       2   \n",
       "                                               B                       2   \n",
       "                                               C                       7   \n",
       "                                               D                       5   \n",
       "                                               E                       2   \n",
       "                                   45+         C                       1   \n",
       "                    Masculino      18-25       A                       1   \n",
       "                                               C                       2   \n",
       "\n",
       "                                                               tkm_medio  \n",
       "ano_mes uf regiao   genero         faixa_idade classe_social              \n",
       "2022-01 AM NORTE    Feminino       18-25       B              143.960000  \n",
       "                                   25-35       A               71.980000  \n",
       "                                               B              110.781000  \n",
       "                                               C               79.976833  \n",
       "                                               E               70.173000  \n",
       "                                   35-45       B               46.782000  \n",
       "                                               C              149.970000  \n",
       "                                               D              151.173000  \n",
       "                                   45+         D              107.970000  \n",
       "                    Masculino      18-25       E               83.970000  \n",
       "                                   25-35       A               74.772000  \n",
       "                                               B               91.990000  \n",
       "                                               C               84.983000  \n",
       "                                   35-45       C               32.391000  \n",
       "                    não_cadastrado 25-35       C               55.980000  \n",
       "        BH NORDESTE Feminino       18-25       B               83.970000  \n",
       "                                               C               83.985000  \n",
       "                                   25-35       A               81.880500  \n",
       "                                               B              109.980000  \n",
       "                                               C              130.978833  \n",
       "                                               D              134.980000  \n",
       "                                               E              111.983333  \n",
       "                                   35-45       A               51.781500  \n",
       "                                               B              209.970000  \n",
       "                                               C              121.404857  \n",
       "                                               D               91.342400  \n",
       "                                               E               88.980000  \n",
       "                                   45+         C              111.980000  \n",
       "                    Masculino      18-25       A               49.990000  \n",
       "                                               C               65.776500  "
      ]
     },
     "execution_count": 76,
     "metadata": {},
     "output_type": "execute_result"
    }
   ],
   "source": [
    "gasto_por_cliente_2022 = clientes_2022.groupby(['ano_mes', 'uf', 'regiao', 'genero',  'faixa_idade', 'classe_social']).agg({'valor_total':'sum', 'id_cliente':'count'})\n",
    "gasto_por_cliente_2022['tkm_medio'] = gasto_por_cliente_2022['valor_total'] / gasto_por_cliente_2022['id_cliente']\n",
    "gasto_por_cliente_2022.head(30)"
   ]
  },
  {
   "cell_type": "code",
   "execution_count": 77,
   "id": "e68e94d4",
   "metadata": {
    "execution": {
     "iopub.execute_input": "2022-11-07T04:31:44.693867Z",
     "iopub.status.busy": "2022-11-07T04:31:44.692688Z",
     "iopub.status.idle": "2022-11-07T04:31:44.722889Z",
     "shell.execute_reply": "2022-11-07T04:31:44.721727Z"
    },
    "papermill": {
     "duration": 0.076639,
     "end_time": "2022-11-07T04:31:44.725275",
     "exception": false,
     "start_time": "2022-11-07T04:31:44.648636",
     "status": "completed"
    },
    "tags": []
   },
   "outputs": [
    {
     "data": {
      "text/html": [
       "<div>\n",
       "<style scoped>\n",
       "    .dataframe tbody tr th:only-of-type {\n",
       "        vertical-align: middle;\n",
       "    }\n",
       "\n",
       "    .dataframe tbody tr th {\n",
       "        vertical-align: top;\n",
       "    }\n",
       "\n",
       "    .dataframe thead th {\n",
       "        text-align: right;\n",
       "    }\n",
       "</style>\n",
       "<table border=\"1\" class=\"dataframe\">\n",
       "  <thead>\n",
       "    <tr style=\"text-align: right;\">\n",
       "      <th></th>\n",
       "      <th></th>\n",
       "      <th></th>\n",
       "      <th></th>\n",
       "      <th></th>\n",
       "      <th></th>\n",
       "      <th>valor_total</th>\n",
       "      <th>id_cliente</th>\n",
       "      <th>tkm_medio</th>\n",
       "    </tr>\n",
       "    <tr>\n",
       "      <th>ano_mes</th>\n",
       "      <th>uf</th>\n",
       "      <th>regiao</th>\n",
       "      <th>genero</th>\n",
       "      <th>faixa_idade</th>\n",
       "      <th>classe_social</th>\n",
       "      <th></th>\n",
       "      <th></th>\n",
       "      <th></th>\n",
       "    </tr>\n",
       "  </thead>\n",
       "  <tbody>\n",
       "    <tr>\n",
       "      <th rowspan=\"30\" valign=\"top\">2023-01</th>\n",
       "      <th rowspan=\"16\" valign=\"top\">AM</th>\n",
       "      <th rowspan=\"16\" valign=\"top\">NORTE</th>\n",
       "      <th rowspan=\"10\" valign=\"top\">Feminino</th>\n",
       "      <th>18-25</th>\n",
       "      <th>B</th>\n",
       "      <td>179.9800</td>\n",
       "      <td>1</td>\n",
       "      <td>179.980000</td>\n",
       "    </tr>\n",
       "    <tr>\n",
       "      <th rowspan=\"3\" valign=\"top\">25-35</th>\n",
       "      <th>A</th>\n",
       "      <td>109.9800</td>\n",
       "      <td>1</td>\n",
       "      <td>109.980000</td>\n",
       "    </tr>\n",
       "    <tr>\n",
       "      <th>C</th>\n",
       "      <td>357.9200</td>\n",
       "      <td>5</td>\n",
       "      <td>71.584000</td>\n",
       "    </tr>\n",
       "    <tr>\n",
       "      <th>D</th>\n",
       "      <td>27.9900</td>\n",
       "      <td>1</td>\n",
       "      <td>27.990000</td>\n",
       "    </tr>\n",
       "    <tr>\n",
       "      <th rowspan=\"5\" valign=\"top\">35-45</th>\n",
       "      <th>A</th>\n",
       "      <td>179.9800</td>\n",
       "      <td>1</td>\n",
       "      <td>179.980000</td>\n",
       "    </tr>\n",
       "    <tr>\n",
       "      <th>B</th>\n",
       "      <td>54.9900</td>\n",
       "      <td>1</td>\n",
       "      <td>54.990000</td>\n",
       "    </tr>\n",
       "    <tr>\n",
       "      <th>C</th>\n",
       "      <td>206.3360</td>\n",
       "      <td>2</td>\n",
       "      <td>103.168000</td>\n",
       "    </tr>\n",
       "    <tr>\n",
       "      <th>D</th>\n",
       "      <td>71.9800</td>\n",
       "      <td>1</td>\n",
       "      <td>71.980000</td>\n",
       "    </tr>\n",
       "    <tr>\n",
       "      <th>E</th>\n",
       "      <td>85.9800</td>\n",
       "      <td>1</td>\n",
       "      <td>85.980000</td>\n",
       "    </tr>\n",
       "    <tr>\n",
       "      <th>45+</th>\n",
       "      <th>D</th>\n",
       "      <td>107.9700</td>\n",
       "      <td>1</td>\n",
       "      <td>107.970000</td>\n",
       "    </tr>\n",
       "    <tr>\n",
       "      <th rowspan=\"5\" valign=\"top\">Masculino</th>\n",
       "      <th rowspan=\"2\" valign=\"top\">18-25</th>\n",
       "      <th>C</th>\n",
       "      <td>179.9800</td>\n",
       "      <td>1</td>\n",
       "      <td>179.980000</td>\n",
       "    </tr>\n",
       "    <tr>\n",
       "      <th>D</th>\n",
       "      <td>109.9800</td>\n",
       "      <td>1</td>\n",
       "      <td>109.980000</td>\n",
       "    </tr>\n",
       "    <tr>\n",
       "      <th rowspan=\"2\" valign=\"top\">25-35</th>\n",
       "      <th>A</th>\n",
       "      <td>251.9600</td>\n",
       "      <td>2</td>\n",
       "      <td>125.980000</td>\n",
       "    </tr>\n",
       "    <tr>\n",
       "      <th>C</th>\n",
       "      <td>256.9200</td>\n",
       "      <td>3</td>\n",
       "      <td>85.640000</td>\n",
       "    </tr>\n",
       "    <tr>\n",
       "      <th>45+</th>\n",
       "      <th>C</th>\n",
       "      <td>71.9800</td>\n",
       "      <td>1</td>\n",
       "      <td>71.980000</td>\n",
       "    </tr>\n",
       "    <tr>\n",
       "      <th>não_cadastrado</th>\n",
       "      <th>25-35</th>\n",
       "      <th>C</th>\n",
       "      <td>159.9800</td>\n",
       "      <td>1</td>\n",
       "      <td>159.980000</td>\n",
       "    </tr>\n",
       "    <tr>\n",
       "      <th rowspan=\"14\" valign=\"top\">BH</th>\n",
       "      <th rowspan=\"14\" valign=\"top\">NORDESTE</th>\n",
       "      <th rowspan=\"11\" valign=\"top\">Feminino</th>\n",
       "      <th>18-25</th>\n",
       "      <th>C</th>\n",
       "      <td>257.9030</td>\n",
       "      <td>5</td>\n",
       "      <td>51.580600</td>\n",
       "    </tr>\n",
       "    <tr>\n",
       "      <th rowspan=\"5\" valign=\"top\">25-35</th>\n",
       "      <th>A</th>\n",
       "      <td>606.8600</td>\n",
       "      <td>6</td>\n",
       "      <td>101.143333</td>\n",
       "    </tr>\n",
       "    <tr>\n",
       "      <th>B</th>\n",
       "      <td>324.9500</td>\n",
       "      <td>3</td>\n",
       "      <td>108.316667</td>\n",
       "    </tr>\n",
       "    <tr>\n",
       "      <th>C</th>\n",
       "      <td>1258.5845</td>\n",
       "      <td>9</td>\n",
       "      <td>139.842722</td>\n",
       "    </tr>\n",
       "    <tr>\n",
       "      <th>D</th>\n",
       "      <td>723.8700</td>\n",
       "      <td>5</td>\n",
       "      <td>144.774000</td>\n",
       "    </tr>\n",
       "    <tr>\n",
       "      <th>E</th>\n",
       "      <td>54.9900</td>\n",
       "      <td>1</td>\n",
       "      <td>54.990000</td>\n",
       "    </tr>\n",
       "    <tr>\n",
       "      <th rowspan=\"5\" valign=\"top\">35-45</th>\n",
       "      <th>A</th>\n",
       "      <td>55.9800</td>\n",
       "      <td>1</td>\n",
       "      <td>55.980000</td>\n",
       "    </tr>\n",
       "    <tr>\n",
       "      <th>B</th>\n",
       "      <td>221.9400</td>\n",
       "      <td>2</td>\n",
       "      <td>110.970000</td>\n",
       "    </tr>\n",
       "    <tr>\n",
       "      <th>C</th>\n",
       "      <td>1114.8000</td>\n",
       "      <td>8</td>\n",
       "      <td>139.350000</td>\n",
       "    </tr>\n",
       "    <tr>\n",
       "      <th>D</th>\n",
       "      <td>437.9400</td>\n",
       "      <td>6</td>\n",
       "      <td>72.990000</td>\n",
       "    </tr>\n",
       "    <tr>\n",
       "      <th>E</th>\n",
       "      <td>179.9800</td>\n",
       "      <td>1</td>\n",
       "      <td>179.980000</td>\n",
       "    </tr>\n",
       "    <tr>\n",
       "      <th rowspan=\"3\" valign=\"top\">Masculino</th>\n",
       "      <th rowspan=\"3\" valign=\"top\">18-25</th>\n",
       "      <th>C</th>\n",
       "      <td>269.9700</td>\n",
       "      <td>1</td>\n",
       "      <td>269.970000</td>\n",
       "    </tr>\n",
       "    <tr>\n",
       "      <th>D</th>\n",
       "      <td>300.9600</td>\n",
       "      <td>2</td>\n",
       "      <td>150.480000</td>\n",
       "    </tr>\n",
       "    <tr>\n",
       "      <th>E</th>\n",
       "      <td>179.9800</td>\n",
       "      <td>1</td>\n",
       "      <td>179.980000</td>\n",
       "    </tr>\n",
       "  </tbody>\n",
       "</table>\n",
       "</div>"
      ],
      "text/plain": [
       "                                                              valor_total  \\\n",
       "ano_mes uf regiao   genero         faixa_idade classe_social                \n",
       "2023-01 AM NORTE    Feminino       18-25       B                 179.9800   \n",
       "                                   25-35       A                 109.9800   \n",
       "                                               C                 357.9200   \n",
       "                                               D                  27.9900   \n",
       "                                   35-45       A                 179.9800   \n",
       "                                               B                  54.9900   \n",
       "                                               C                 206.3360   \n",
       "                                               D                  71.9800   \n",
       "                                               E                  85.9800   \n",
       "                                   45+         D                 107.9700   \n",
       "                    Masculino      18-25       C                 179.9800   \n",
       "                                               D                 109.9800   \n",
       "                                   25-35       A                 251.9600   \n",
       "                                               C                 256.9200   \n",
       "                                   45+         C                  71.9800   \n",
       "                    não_cadastrado 25-35       C                 159.9800   \n",
       "        BH NORDESTE Feminino       18-25       C                 257.9030   \n",
       "                                   25-35       A                 606.8600   \n",
       "                                               B                 324.9500   \n",
       "                                               C                1258.5845   \n",
       "                                               D                 723.8700   \n",
       "                                               E                  54.9900   \n",
       "                                   35-45       A                  55.9800   \n",
       "                                               B                 221.9400   \n",
       "                                               C                1114.8000   \n",
       "                                               D                 437.9400   \n",
       "                                               E                 179.9800   \n",
       "                    Masculino      18-25       C                 269.9700   \n",
       "                                               D                 300.9600   \n",
       "                                               E                 179.9800   \n",
       "\n",
       "                                                              id_cliente  \\\n",
       "ano_mes uf regiao   genero         faixa_idade classe_social               \n",
       "2023-01 AM NORTE    Feminino       18-25       B                       1   \n",
       "                                   25-35       A                       1   \n",
       "                                               C                       5   \n",
       "                                               D                       1   \n",
       "                                   35-45       A                       1   \n",
       "                                               B                       1   \n",
       "                                               C                       2   \n",
       "                                               D                       1   \n",
       "                                               E                       1   \n",
       "                                   45+         D                       1   \n",
       "                    Masculino      18-25       C                       1   \n",
       "                                               D                       1   \n",
       "                                   25-35       A                       2   \n",
       "                                               C                       3   \n",
       "                                   45+         C                       1   \n",
       "                    não_cadastrado 25-35       C                       1   \n",
       "        BH NORDESTE Feminino       18-25       C                       5   \n",
       "                                   25-35       A                       6   \n",
       "                                               B                       3   \n",
       "                                               C                       9   \n",
       "                                               D                       5   \n",
       "                                               E                       1   \n",
       "                                   35-45       A                       1   \n",
       "                                               B                       2   \n",
       "                                               C                       8   \n",
       "                                               D                       6   \n",
       "                                               E                       1   \n",
       "                    Masculino      18-25       C                       1   \n",
       "                                               D                       2   \n",
       "                                               E                       1   \n",
       "\n",
       "                                                               tkm_medio  \n",
       "ano_mes uf regiao   genero         faixa_idade classe_social              \n",
       "2023-01 AM NORTE    Feminino       18-25       B              179.980000  \n",
       "                                   25-35       A              109.980000  \n",
       "                                               C               71.584000  \n",
       "                                               D               27.990000  \n",
       "                                   35-45       A              179.980000  \n",
       "                                               B               54.990000  \n",
       "                                               C              103.168000  \n",
       "                                               D               71.980000  \n",
       "                                               E               85.980000  \n",
       "                                   45+         D              107.970000  \n",
       "                    Masculino      18-25       C              179.980000  \n",
       "                                               D              109.980000  \n",
       "                                   25-35       A              125.980000  \n",
       "                                               C               85.640000  \n",
       "                                   45+         C               71.980000  \n",
       "                    não_cadastrado 25-35       C              159.980000  \n",
       "        BH NORDESTE Feminino       18-25       C               51.580600  \n",
       "                                   25-35       A              101.143333  \n",
       "                                               B              108.316667  \n",
       "                                               C              139.842722  \n",
       "                                               D              144.774000  \n",
       "                                               E               54.990000  \n",
       "                                   35-45       A               55.980000  \n",
       "                                               B              110.970000  \n",
       "                                               C              139.350000  \n",
       "                                               D               72.990000  \n",
       "                                               E              179.980000  \n",
       "                    Masculino      18-25       C              269.970000  \n",
       "                                               D              150.480000  \n",
       "                                               E              179.980000  "
      ]
     },
     "execution_count": 77,
     "metadata": {},
     "output_type": "execute_result"
    }
   ],
   "source": [
    "gasto_por_cliente_2023 = clientes_2023.groupby(['ano_mes', 'uf', 'regiao', 'genero',  'faixa_idade', 'classe_social']).agg({'valor_total':'sum', 'id_cliente':'count'})\n",
    "gasto_por_cliente_2023['tkm_medio'] = gasto_por_cliente_2023['valor_total'] / gasto_por_cliente_2023['id_cliente']\n",
    "gasto_por_cliente_2023.head(30)"
   ]
  }
 ],
 "metadata": {
  "kernelspec": {
   "display_name": "Python 3",
   "language": "python",
   "name": "python3"
  },
  "language_info": {
   "codemirror_mode": {
    "name": "ipython",
    "version": 3
   },
   "file_extension": ".py",
   "mimetype": "text/x-python",
   "name": "python",
   "nbconvert_exporter": "python",
   "pygments_lexer": "ipython3",
   "version": "3.7.12"
  },
  "papermill": {
   "default_parameters": {},
   "duration": 27.689185,
   "end_time": "2022-11-07T04:31:45.692857",
   "environment_variables": {},
   "exception": null,
   "input_path": "__notebook__.ipynb",
   "output_path": "__notebook__.ipynb",
   "parameters": {},
   "start_time": "2022-11-07T04:31:18.003672",
   "version": "2.3.4"
  }
 },
 "nbformat": 4,
 "nbformat_minor": 5
}
